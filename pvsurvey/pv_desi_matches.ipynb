{
 "cells": [
  {
   "cell_type": "markdown",
   "id": "cc54687f-dc38-4a05-abaa-64a9b2248dbe",
   "metadata": {},
   "source": [
    "# DESI PV Survey Target Matches\n",
    "\n",
    "Grab the list of targets from the DESI PV survey that are available in some spectroscopic reduction, which can be specified by the user.\n",
    "\n",
    "The list of PV secondary targets is provided in a set of FITS files produced by [Khaled Said](mailto:k.saidahmedsoliman@uq.edu.au) in the folder `/global/homes/k/ksaid/desi_pv/savepath_dr9_corr` at NERSC.\n",
    "\n",
    "DESI observations are taken from the [redshift database](https://desi.lbl.gov/trac/wiki/DESIDatabase) maintained at NERSC by Rob Knop."
   ]
  },
  {
   "cell_type": "code",
   "execution_count": 1,
   "id": "1b036800-a800-438d-b1ca-18400628e8ff",
   "metadata": {},
   "outputs": [
    {
     "name": "stdout",
     "output_type": "stream",
     "text": [
      "DEBUG: Read templates from /global/common/software/desi/cori/desiconda/20211217-2.0.0/code/redrock-templates/master\n",
      "DEBUG: Using default redshift range -0.0050-1.6997 for rrtemplate-galaxy.fits\n",
      "DEBUG: Using default redshift range 0.0500-5.9934 for rrtemplate-qso.fits\n",
      "DEBUG: Using default redshift range -0.0020-0.0020 for rrtemplate-star-A.fits\n",
      "DEBUG: Using default redshift range -0.0020-0.0020 for rrtemplate-star-B.fits\n",
      "DEBUG: Using default redshift range -0.0020-0.0020 for rrtemplate-star-CV.fits\n",
      "DEBUG: Using default redshift range -0.0020-0.0020 for rrtemplate-star-F.fits\n",
      "DEBUG: Using default redshift range -0.0020-0.0020 for rrtemplate-star-G.fits\n",
      "DEBUG: Using default redshift range -0.0020-0.0020 for rrtemplate-star-K.fits\n",
      "DEBUG: Using default redshift range -0.0020-0.0020 for rrtemplate-star-M.fits\n",
      "DEBUG: Using default redshift range -0.0020-0.0020 for rrtemplate-star-WD.fits\n"
     ]
    }
   ],
   "source": [
    "from desispec.io import read_spectra\n",
    "from desispec.coaddition import coadd_cameras\n",
    "from desispec.interpolation import resample_flux\n",
    "from desispec.resolution import Resolution\n",
    "\n",
    "import redrock.templates\n",
    "\n",
    "rrtemplates = dict()\n",
    "for filename in redrock.templates.find_templates():\n",
    "    t = redrock.templates.Template(filename)\n",
    "    rrtemplates[(t.template_type, t.sub_type)] = t\n",
    "\n",
    "from astropy import units as u\n",
    "from astropy.table import Table, vstack, hstack\n",
    "from astropy.coordinates import SkyCoord, match_coordinates_sky\n",
    "from astropy.time import Time\n",
    "from astropy.wcs import WCS\n",
    "from astropy.visualization.wcsaxes import SphericalCircle\n",
    "\n",
    "from datetime import datetime, timedelta\n",
    "\n",
    "from scipy.ndimage import gaussian_filter1d\n",
    "\n",
    "import os\n",
    "from glob import glob\n",
    "\n",
    "import psycopg2\n",
    "\n",
    "from tqdm.notebook import tqdm_notebook\n",
    "\n",
    "import numpy as np\n",
    "import matplotlib as mpl\n",
    "import matplotlib.pyplot as plt"
   ]
  },
  {
   "cell_type": "code",
   "execution_count": 2,
   "id": "9a770b7c-bfa3-4bf9-ba9c-4870e9147ee9",
   "metadata": {},
   "outputs": [],
   "source": [
    "mpl.rc('font', size=14)\n",
    "mpl.rc('figure', max_open_warning = 0)"
   ]
  },
  {
   "cell_type": "markdown",
   "id": "1a44e3fa-e28e-44b3-98d0-8d5a94b9164d",
   "metadata": {},
   "source": [
    "## Database Matching Functions\n",
    "\n",
    "Given a target table and spectroscopic reduction, match all observed targets using the DESI redshift database."
   ]
  },
  {
   "cell_type": "code",
   "execution_count": 35,
   "id": "919fe758-250c-4771-aebd-c8c699211b27",
   "metadata": {},
   "outputs": [],
   "source": [
    "def match_targets(pvtargtab, redux='daily', search='healpix'):\n",
    "    \"\"\"Match PV targets against the redshift DB for a particular spectroscopic reduction.\n",
    "    \n",
    "    Parameters\n",
    "    ----------\n",
    "    pvtargtab : astropy.Table\n",
    "        Table of PV target info. Specifically need the RA, DEC, PVTYPE, and SGA_ID fields.\n",
    "    redux : str\n",
    "        Spectroscopic reduction: e.g., 'daily', 'everest', 'fuji', 'guadalupe', ...\n",
    "    search : str\n",
    "        'healpix' to search the HEALPix tables, 'tiles' to search the tiles tables.\n",
    "        \n",
    "    Returns\n",
    "    -------\n",
    "    desi_targets : astropy.Table\n",
    "        Joined table of DESI redshifts and PV targets for all matches.\n",
    "    \"\"\"\n",
    "    # Accumulate data in this table.\n",
    "    desi_targets = None\n",
    "        \n",
    "    try:\n",
    "        db = psycopg2.connect(host='decatdb.lbl.gov', database='desidb', user='desi')\n",
    "        cursor = db.cursor()\n",
    "        # cursor.execute('SET search_path TO da, public;')\n",
    "\n",
    "        # Loop over all TNS alerts and perform a coordinate match with DESI observations.\n",
    "        N = len(pvtargtab)\n",
    "        n = 0\n",
    "        with tqdm_notebook(total=N) as progress_bar:\n",
    "\n",
    "            for i, obj in enumerate(pvtargtab):\n",
    "                ra, dec = obj['RA'], obj['DEC']\n",
    "\n",
    "                # Enable search in HEALPix tables.\n",
    "                if search == 'healpix':\n",
    "                    query = 'SELECT f.targetid,f.target_ra,f.target_dec,h.healpix,h.survey,r.z,r.zerr,r.zwarn,r.deltachi2,h.filename\\n' \\\n",
    "                            f'FROM {redux}.healpix_fibermap f\\n' \\\n",
    "                            f'INNER JOIN {redux}.healpix h ON f.healpix_id=h.id\\n' \\\n",
    "                            f'INNER JOIN {redux}.healpix_redshifts r ON r.healpix_id=h.id AND r.targetid=f.targetid\\n' \\\n",
    "                            f'WHERE q3c_radial_query( f.target_ra, f.target_dec, {ra}, {dec}, 1./3600. );'\n",
    "                    \n",
    "                    colnames = ['TARGETID', 'TARGET_RA', 'TARGET_DEC', 'HEALPIX', 'SURVEY', 'Z', 'ZERR', 'ZWARN', 'DELTACHI2', 'FILENAME']\n",
    "                # Enable search in tiles tables.\n",
    "                elif search == 'tiles':\n",
    "                    query = 'SELECT f.targetid,f.target_ra,f.target_dec,c.tileid,c.night,r.z,r.zerr,r.zwarn,r.deltachi2,c.filename\\n' \\\n",
    "                            f'FROM {redux}.tiles_fibermap f\\n' \\\n",
    "                            f'INNER JOIN {redux}.cumulative_tiles c ON f.cumultile_id=c.id\\n' \\\n",
    "                            f'INNER JOIN {redux}.tiles_redshifts r ON r.cumultile_id=c.id AND r.targetid=f.targetid\\n' \\\n",
    "                            f'WHERE q3c_radial_query( f.target_ra, f.target_dec, {ra}, {dec}, 1./3600. );'\n",
    "                    colnames = ['TARGETID', 'TARGET_RA', 'TARGET_DEC', 'TILEID', 'NIGHT', 'Z', 'ZERR', 'ZWARN', 'DELTACHI2', 'FILENAME']\n",
    "                else:\n",
    "                    raise ValueError(f'Search {search} not recognized; use \"healpix\" or \"tiles.\"')\n",
    "\n",
    "                cursor.execute(query)\n",
    "                rows = cursor.fetchall()\n",
    "\n",
    "                if rows:\n",
    "                    # Convert postgresql row output to an astropy Table.\n",
    "                    data = Table(list(map(list, zip(*rows))),\n",
    "                                 names=colnames)\n",
    "\n",
    "                    # hstack the postgresql rows with the PV target info.\n",
    "                    # The following vstack loop ensures every row gets a match.\n",
    "                    pv_data = obj\n",
    "                    if len(data) > 1:\n",
    "                        for j in range(1, len(data)):\n",
    "                            pv_data = vstack([pv_data, obj])\n",
    "                    data = hstack([data, pv_data['PVTYPE', 'SGA_ID', 'RA', 'DEC']])\n",
    "\n",
    "                    # Accumulate matched targets.\n",
    "                    if desi_targets is None:\n",
    "                        desi_targets = data\n",
    "                    else:\n",
    "                        desi_targets = vstack([desi_targets, data], join_type='outer')\n",
    "\n",
    "                if (i+1) % 100 == 0:\n",
    "                    progress_bar.update(100)\n",
    "                    n += 100\n",
    "\n",
    "            if n < N:\n",
    "                progress_bar.update(N - n)\n",
    "\n",
    "    except (Exception, psycopg2.Error) as error:\n",
    "        print(error)\n",
    "    finally:\n",
    "        if db is not None:\n",
    "            db.close()\n",
    "            \n",
    "    return desi_targets"
   ]
  },
  {
   "cell_type": "markdown",
   "id": "803dc28e-bf3a-4a70-9494-b0aad2921b79",
   "metadata": {},
   "source": [
    "## Perform Coordinate Match between DESI Observations and the PV Target Files\n",
    "\n",
    "Match PV observations within 1\" of a DESI fiber.\n",
    "\n",
    "Read FITS files of PV targets. In this notebook, we only download targets relevant to the DESI Tully-Fisher sample, which corresponds to these three files:\n",
    "* `pv_tf.fits`: targets on the semi-major axes of spiral galaxies, selected for the Tully-Fisher analysis.\n",
    "* `pv_ext.fits`: other targets on spatially extended spiral galaxies (e.g., HII regions).\n",
    "* `pv_sga.fits`: centers of SGA galaxies."
   ]
  },
  {
   "cell_type": "code",
   "execution_count": 32,
   "id": "fb41f8e6-865c-4499-ae0b-97af42f47852",
   "metadata": {},
   "outputs": [],
   "source": [
    "pv_ext = Table.read('/global/homes/k/ksaid/desi_pv/savepath_dr9_corr/pv_ext.fits', hdu=1)\n",
    "pv_sga = Table.read('/global/homes/k/ksaid/desi_pv/savepath_dr9_corr/pv_sga.fits', hdu=1)\n",
    "pv_tf = Table.read('/global/homes/k/ksaid/desi_pv/savepath_dr9_corr/pv_tf.fits', hdu=1)"
   ]
  },
  {
   "cell_type": "markdown",
   "id": "481e5bd7-81b7-4881-810f-d40cbd8bae6d",
   "metadata": {},
   "source": [
    "### Process fuji Observations"
   ]
  },
  {
   "cell_type": "code",
   "execution_count": 30,
   "id": "dec453df-5118-4e86-b15b-449dc9a5cf18",
   "metadata": {},
   "outputs": [
    {
     "data": {
      "application/vnd.jupyter.widget-view+json": {
       "model_id": "cd20ea7f3d1f467bacad84c6f7d76edd",
       "version_major": 2,
       "version_minor": 0
      },
      "text/plain": [
       "  0%|          | 0/20486 [00:00<?, ?it/s]"
      ]
     },
     "metadata": {},
     "output_type": "display_data"
    },
    {
     "data": {
      "text/html": [
       "<div><i>Table length=83</i>\n",
       "<table id=\"table23453605583072\" class=\"table-striped table-bordered table-condensed\">\n",
       "<thead><tr><th>TARGETID</th><th>TARGET_RA</th><th>TARGET_DEC</th><th>HEALPIX</th><th>SURVEY</th><th>Z</th><th>ZERR</th><th>ZWARN</th><th>DELTACHI2</th><th>FILENAME</th><th>PVTYPE</th><th>SGA_ID</th><th>RA</th><th>DEC</th></tr></thead>\n",
       "<thead><tr><th>int64</th><th>float64</th><th>float64</th><th>int64</th><th>str3</th><th>float64</th><th>float64</th><th>int64</th><th>float64</th><th>str63</th><th>bytes3</th><th>int64</th><th>float64</th><th>float64</th></tr></thead>\n",
       "<tr><td>1092899764699136</td><td>216.00143660376</td><td>34.881062410803</td><td>10515</td><td>sv3</td><td>0.512530942294242</td><td>0.0001125096994758</td><td>4</td><td>5.75281726941466</td><td>fuji/healpix/sv3/dark/105/10515/redrock-sv3-dark-10515.fits</td><td>EXT</td><td>682254</td><td>216.0014366037598</td><td>34.881062410803</td></tr>\n",
       "<tr><td>1079700659109889</td><td>216.061747702864</td><td>34.8365760573346</td><td>10515</td><td>sv3</td><td>1.5277305869098</td><td>0.000248864600940801</td><td>4</td><td>8.71738664060831</td><td>fuji/healpix/sv3/bright/105/10515/redrock-sv3-bright-10515.fits</td><td>EXT</td><td>682254</td><td>216.06174770286376</td><td>34.836576057334575</td></tr>\n",
       "<tr><td>1092894798643201</td><td>216.061747702864</td><td>34.8365760573346</td><td>10515</td><td>sv3</td><td>1.01290900857488</td><td>6.38649008792103e-05</td><td>4</td><td>2.01506862044334</td><td>fuji/healpix/sv3/dark/105/10515/redrock-sv3-dark-10515.fits</td><td>EXT</td><td>682254</td><td>216.06174770286376</td><td>34.836576057334575</td></tr>\n",
       "<tr><td>1079037296377859</td><td>208.975477166485</td><td>5.30336633406908</td><td>26091</td><td>sv3</td><td>1.49877155103453</td><td>0.00022479094539867</td><td>0</td><td>11.9354891255498</td><td>fuji/healpix/sv3/bright/260/26091/redrock-sv3-bright-26091.fits</td><td>EXT</td><td>865490</td><td>208.9754771664854</td><td>5.303366334069084</td></tr>\n",
       "<tr><td>1092231435911171</td><td>208.975477166485</td><td>5.30336633406908</td><td>26091</td><td>sv3</td><td>1.18699867849368</td><td>0.000116017737064761</td><td>4</td><td>1.74350547604263</td><td>fuji/healpix/sv3/dark/260/26091/redrock-sv3-dark-26091.fits</td><td>EXT</td><td>865490</td><td>208.9754771664854</td><td>5.303366334069084</td></tr>\n",
       "<tr><td>1079037300572160</td><td>209.084716493457</td><td>5.20650793636111</td><td>26091</td><td>sv3</td><td>0.907146237131769</td><td>0.000133516273090146</td><td>0</td><td>11.1716398671269</td><td>fuji/healpix/sv3/bright/260/26091/redrock-sv3-bright-26091.fits</td><td>EXT</td><td>865490</td><td>209.0847164934571</td><td>5.206507936361107</td></tr>\n",
       "<tr><td>1092231440105472</td><td>209.084716493457</td><td>5.20650793636111</td><td>26091</td><td>sv3</td><td>1.55395322376555</td><td>0.000108078787702566</td><td>4</td><td>4.13443431630731</td><td>fuji/healpix/sv3/dark/260/26091/redrock-sv3-dark-26091.fits</td><td>EXT</td><td>865490</td><td>209.0847164934571</td><td>5.206507936361107</td></tr>\n",
       "<tr><td>1078989217071107</td><td>217.423332498867</td><td>3.20319258782244</td><td>26065</td><td>sv3</td><td>0.680248512223176</td><td>8.41292468167563e-05</td><td>4</td><td>0.725679285824299</td><td>fuji/healpix/sv3/bright/260/26065/redrock-sv3-bright-26065.fits</td><td>EXT</td><td>1413430</td><td>217.42333249886704</td><td>3.203192587822438</td></tr>\n",
       "<tr><td>1092183356604419</td><td>217.423332498867</td><td>3.20319258782244</td><td>26065</td><td>sv3</td><td>0.464078931593149</td><td>6.04317367217602e-05</td><td>4</td><td>5.38805882632732</td><td>fuji/healpix/sv3/dark/260/26065/redrock-sv3-dark-26065.fits</td><td>EXT</td><td>1413430</td><td>217.42333249886704</td><td>3.203192587822438</td></tr>\n",
       "<tr><td>1078940328263681</td><td>183.177614260981</td><td>1.35177591070447</td><td>26285</td><td>sv3</td><td>1.39600851070721</td><td>0.000111324562546966</td><td>4</td><td>6.38193941116333</td><td>fuji/healpix/sv3/bright/262/26285/redrock-sv3-bright-26285.fits</td><td>EXT</td><td>671847</td><td>183.17761426098141</td><td>1.3517759107044744</td></tr>\n",
       "<tr><td>...</td><td>...</td><td>...</td><td>...</td><td>...</td><td>...</td><td>...</td><td>...</td><td>...</td><td>...</td><td>...</td><td>...</td><td>...</td><td>...</td></tr>\n",
       "<tr><td>39633062551620033</td><td>153.178857933669</td><td>39.3739445564769</td><td>5703</td><td>sv1</td><td>0.022711924294578</td><td>5.75568615760296e-07</td><td>0</td><td>641871.757860661</td><td>fuji/healpix/sv1/bright/57/5703/redrock-sv1-bright-5703.fits</td><td>EXT</td><td>1037949</td><td>153.17885793366855</td><td>39.3739445564769</td></tr>\n",
       "<tr><td>2305843015479989956</td><td>173.45541945964</td><td>53.1254763873733</td><td>5976</td><td>sv1</td><td>0.00333404373962337</td><td>2.24812533738904e-07</td><td>0</td><td>1486700.56152642</td><td>fuji/healpix/sv1/other/59/5976/redrock-sv1-other-5976.fits</td><td>EXT</td><td>559707</td><td>173.4553483637811</td><td>53.12541571341898</td></tr>\n",
       "<tr><td>1078892626444294</td><td>219.927793051945</td><td>-0.732047919721255</td><td>25933</td><td>sv3</td><td>0.389212131703041</td><td>5.37984677902569e-05</td><td>4</td><td>2.94517927616835</td><td>fuji/healpix/sv3/bright/259/25933/redrock-sv3-bright-25933.fits</td><td>EXT</td><td>166290</td><td>219.9277930519453</td><td>-0.7320479197212552</td></tr>\n",
       "<tr><td>39627770296276005</td><td>219.956999318774</td><td>-0.718640392418429</td><td>25933</td><td>sv3</td><td>0.00585538786570846</td><td>4.19501768104605e-06</td><td>0</td><td>2858.02824933385</td><td>fuji/healpix/sv3/bright/259/25933/redrock-sv3-bright-25933.fits</td><td>EXT</td><td>166290</td><td>219.95699931877425</td><td>-0.7186403924184287</td></tr>\n",
       "<tr><td>1078892626444292</td><td>219.98620541415</td><td>-0.705232678404417</td><td>25933</td><td>sv3</td><td>0.321693030175296</td><td>5.52000816259728e-05</td><td>4</td><td>0.999024361371994</td><td>fuji/healpix/sv3/bright/259/25933/redrock-sv3-bright-25933.fits</td><td>EXT</td><td>166290</td><td>219.98620541415</td><td>-0.7052326784044174</td></tr>\n",
       "<tr><td>1078994120212481</td><td>150.096689848937</td><td>3.40736949409563</td><td>27345</td><td>sv3</td><td>1.18232343562154</td><td>9.64836191298094e-05</td><td>4</td><td>8.75033162534237</td><td>fuji/healpix/sv3/bright/273/27345/redrock-sv3-bright-27345.fits</td><td>EXT</td><td>1225398</td><td>150.09668984893693</td><td>3.4073694940956294</td></tr>\n",
       "<tr><td>1092188259745793</td><td>150.096689848937</td><td>3.40736949409563</td><td>27345</td><td>sv3</td><td>0.543896524243357</td><td>5.20456611593509e-05</td><td>4</td><td>1.57002077251673</td><td>fuji/healpix/sv3/dark/273/27345/redrock-sv3-dark-27345.fits</td><td>EXT</td><td>1225398</td><td>150.09668984893693</td><td>3.4073694940956294</td></tr>\n",
       "<tr><td>39627865758633464</td><td>150.11281896177</td><td>3.37442274219938</td><td>27345</td><td>sv3</td><td>0.00687190356978907</td><td>1.5141461957797e-06</td><td>0</td><td>24405.1790848412</td><td>fuji/healpix/sv3/bright/273/27345/redrock-sv3-bright-27345.fits</td><td>EXT</td><td>1225398</td><td>150.1128189617695</td><td>3.3744227421993793</td></tr>\n",
       "<tr><td>1078988088803329</td><td>150.128946980905</td><td>3.34147572353072</td><td>27345</td><td>sv3</td><td>1.48598921814128</td><td>7.78107541588613e-05</td><td>4</td><td>3.45342898368835</td><td>fuji/healpix/sv3/bright/273/27345/redrock-sv3-bright-27345.fits</td><td>EXT</td><td>1225398</td><td>150.12894698090534</td><td>3.3414757235307233</td></tr>\n",
       "<tr><td>1092182228336641</td><td>150.128946980905</td><td>3.34147572353072</td><td>27345</td><td>sv3</td><td>0.284931493679325</td><td>7.32403560495644e-05</td><td>4</td><td>3.56822789460421</td><td>fuji/healpix/sv3/dark/273/27345/redrock-sv3-dark-27345.fits</td><td>EXT</td><td>1225398</td><td>150.12894698090534</td><td>3.3414757235307233</td></tr>\n",
       "</table></div>"
      ],
      "text/plain": [
       "<Table length=83>\n",
       "      TARGETID         TARGET_RA     ...         RA                 DEC        \n",
       "       int64            float64      ...      float64             float64      \n",
       "------------------- ---------------- ... ------------------ -------------------\n",
       "   1092899764699136  216.00143660376 ...  216.0014366037598     34.881062410803\n",
       "   1079700659109889 216.061747702864 ... 216.06174770286376  34.836576057334575\n",
       "   1092894798643201 216.061747702864 ... 216.06174770286376  34.836576057334575\n",
       "   1079037296377859 208.975477166485 ...  208.9754771664854   5.303366334069084\n",
       "   1092231435911171 208.975477166485 ...  208.9754771664854   5.303366334069084\n",
       "   1079037300572160 209.084716493457 ...  209.0847164934571   5.206507936361107\n",
       "   1092231440105472 209.084716493457 ...  209.0847164934571   5.206507936361107\n",
       "   1078989217071107 217.423332498867 ... 217.42333249886704   3.203192587822438\n",
       "   1092183356604419 217.423332498867 ... 217.42333249886704   3.203192587822438\n",
       "   1078940328263681 183.177614260981 ... 183.17761426098141  1.3517759107044744\n",
       "                ...              ... ...                ...                 ...\n",
       "  39633062551620033 153.178857933669 ... 153.17885793366855    39.3739445564769\n",
       "2305843015479989956  173.45541945964 ...  173.4553483637811   53.12541571341898\n",
       "   1078892626444294 219.927793051945 ...  219.9277930519453 -0.7320479197212552\n",
       "  39627770296276005 219.956999318774 ... 219.95699931877425 -0.7186403924184287\n",
       "   1078892626444292  219.98620541415 ...    219.98620541415 -0.7052326784044174\n",
       "   1078994120212481 150.096689848937 ... 150.09668984893693  3.4073694940956294\n",
       "   1092188259745793 150.096689848937 ... 150.09668984893693  3.4073694940956294\n",
       "  39627865758633464  150.11281896177 ...  150.1128189617695  3.3744227421993793\n",
       "   1078988088803329 150.128946980905 ... 150.12894698090534  3.3414757235307233\n",
       "   1092182228336641 150.128946980905 ... 150.12894698090534  3.3414757235307233"
      ]
     },
     "execution_count": 30,
     "metadata": {},
     "output_type": "execute_result"
    }
   ],
   "source": [
    "pv_ext_fuji = match_targets(pv_ext, redux='fuji')\n",
    "pv_ext_fuji"
   ]
  },
  {
   "cell_type": "code",
   "execution_count": 33,
   "id": "230a4da5-9eac-4ec6-90a3-4845a698110d",
   "metadata": {},
   "outputs": [
    {
     "data": {
      "application/vnd.jupyter.widget-view+json": {
       "model_id": "93f35004fd334dbbbac97a71c684fcde",
       "version_major": 2,
       "version_minor": 0
      },
      "text/plain": [
       "  0%|          | 0/81611 [00:00<?, ?it/s]"
      ]
     },
     "metadata": {},
     "output_type": "display_data"
    },
    {
     "data": {
      "text/html": [
       "<div><i>Table length=2112</i>\n",
       "<table id=\"table23453600044896\" class=\"table-striped table-bordered table-condensed\">\n",
       "<thead><tr><th>TARGETID</th><th>TARGET_RA</th><th>TARGET_DEC</th><th>HEALPIX</th><th>SURVEY</th><th>Z</th><th>ZERR</th><th>ZWARN</th><th>DELTACHI2</th><th>FILENAME</th><th>PVTYPE</th><th>SGA_ID</th><th>RA</th><th>DEC</th></tr></thead>\n",
       "<thead><tr><th>int64</th><th>float64</th><th>float64</th><th>int64</th><th>str3</th><th>float64</th><th>float64</th><th>int64</th><th>float64</th><th>str63</th><th>bytes3</th><th>int64</th><th>float64</th><th>float64</th></tr></thead>\n",
       "<tr><td>2305843022014712506</td><td>197.156461215073</td><td>79.7870276386574</td><td>12210</td><td>sv1</td><td>0.0353719025788651</td><td>8.63955563819646e-07</td><td>0</td><td>215493.827211023</td><td>fuji/healpix/sv1/backup/122/12210/redrock-sv1-backup-12210.fits</td><td>SGA</td><td>588991</td><td>197.1565928926111</td><td>79.78701060360044</td></tr>\n",
       "<tr><td>39633244072708111</td><td>172.478975482847</td><td>49.8111296555183</td><td>5613</td><td>sv2</td><td>0.212886036612501</td><td>2.56065525084539e-05</td><td>0</td><td>9280.4979827255</td><td>fuji/healpix/sv2/bright/56/5613/redrock-sv2-bright-5613.fits</td><td>SGA</td><td>462542</td><td>172.4789754828471</td><td>49.81112965551834</td></tr>\n",
       "<tr><td>2305843015098307568</td><td>172.88665773677</td><td>49.8575168421019</td><td>5613</td><td>sv2</td><td>0.0686768543072607</td><td>3.64798748181209e-05</td><td>0</td><td>540.748181710485</td><td>fuji/healpix/sv2/backup/56/5613/redrock-sv2-backup-5613.fits</td><td>SGA</td><td>181737</td><td>172.88664359320452</td><td>49.85749695685062</td></tr>\n",
       "<tr><td>39633247981799461</td><td>172.488634263549</td><td>49.9945914090987</td><td>5613</td><td>sv2</td><td>0.0464544408476083</td><td>9.59760084658303e-06</td><td>0</td><td>20088.77623064</td><td>fuji/healpix/sv2/bright/56/5613/redrock-sv2-bright-5613.fits</td><td>SGA</td><td>105777</td><td>172.4886342635487</td><td>49.99459140909872</td></tr>\n",
       "<tr><td>39633247977604638</td><td>172.046969027532</td><td>49.8765652794558</td><td>5613</td><td>sv2</td><td>0.032810246228186</td><td>1.33863281529401e-06</td><td>0</td><td>25134.5055181811</td><td>fuji/healpix/sv2/bright/56/5613/redrock-sv2-bright-5613.fits</td><td>SGA</td><td>205849</td><td>172.0469690275316</td><td>49.87656527945583</td></tr>\n",
       "<tr><td>39633240146840330</td><td>172.621403181147</td><td>49.5827213857747</td><td>5613</td><td>sv2</td><td>0.0957683291848579</td><td>2.9732896882583e-06</td><td>0</td><td>567732.339778543</td><td>fuji/healpix/sv2/bright/56/5613/redrock-sv2-bright-5613.fits</td><td>SGA</td><td>291430</td><td>172.6214031811471</td><td>49.58272138577475</td></tr>\n",
       "<tr><td>39633240155229162</td><td>173.423295043232</td><td>49.5987878330557</td><td>5618</td><td>sv2</td><td>0.0102086746614462</td><td>5.04173620818413e-06</td><td>0</td><td>937.169478463009</td><td>fuji/healpix/sv2/bright/56/5618/redrock-sv2-bright-5618.fits</td><td>SGA</td><td>929745</td><td>173.42329504323192</td><td>49.59878783305574</td></tr>\n",
       "<tr><td>39633247994381773</td><td>173.539574562025</td><td>49.9247396412793</td><td>5624</td><td>sv2</td><td>0.167507289179424</td><td>2.5272786938781e-05</td><td>0</td><td>1592.93692483939</td><td>fuji/healpix/sv2/bright/56/5624/redrock-sv2-bright-5624.fits</td><td>SGA</td><td>377047</td><td>173.53957456202534</td><td>49.92473964127928</td></tr>\n",
       "<tr><td>39633240163615366</td><td>173.93563451952</td><td>49.5372757009344</td><td>5618</td><td>sv2</td><td>0.167551024270997</td><td>2.94086125594955e-06</td><td>0</td><td>20498.8166685104</td><td>fuji/healpix/sv2/bright/56/5618/redrock-sv2-bright-5618.fits</td><td>SGA</td><td>1281727</td><td>173.93563451951957</td><td>49.53727570093442</td></tr>\n",
       "<tr><td>39633240163616099</td><td>174.010173674952</td><td>49.4917697209014</td><td>5618</td><td>sv2</td><td>0.131535369044692</td><td>9.9328748367345e-06</td><td>0</td><td>1745.14429423213</td><td>fuji/healpix/sv2/bright/56/5618/redrock-sv2-bright-5618.fits</td><td>SGA</td><td>486357</td><td>174.0101736749522</td><td>49.491769720901395</td></tr>\n",
       "<tr><td>...</td><td>...</td><td>...</td><td>...</td><td>...</td><td>...</td><td>...</td><td>...</td><td>...</td><td>...</td><td>...</td><td>...</td><td>...</td><td>...</td></tr>\n",
       "<tr><td>39628357146510195</td><td>194.541641574909</td><td>24.3489240646018</td><td>28118</td><td>sv3</td><td>0.0226558221874825</td><td>1.01500809740909e-06</td><td>0</td><td>109767.05220205</td><td>fuji/healpix/sv3/bright/281/28118/redrock-sv3-bright-28118.fits</td><td>SGA</td><td>37866</td><td>194.54164157490868</td><td>24.34892406460181</td></tr>\n",
       "<tr><td>39628340558037835</td><td>195.022231125969</td><td>23.5935825994699</td><td>28113</td><td>sv3</td><td>0.0741191077886381</td><td>6.98682998944146e-06</td><td>0</td><td>14862.815160935</td><td>fuji/healpix/sv3/bright/281/28113/redrock-sv3-bright-28113.fits</td><td>SGA</td><td>273333</td><td>195.02223112596943</td><td>23.59358259946991</td></tr>\n",
       "<tr><td>39628357154899033</td><td>195.097575994022</td><td>24.2185947100917</td><td>28116</td><td>sv3</td><td>0.0741569503091796</td><td>1.45928733618774e-05</td><td>0</td><td>14039.0535504031</td><td>fuji/healpix/sv3/bright/281/28116/redrock-sv3-bright-28116.fits</td><td>SGA</td><td>1010134</td><td>195.09757599402158</td><td>24.218594710091715</td></tr>\n",
       "<tr><td>39628357154901032</td><td>195.209073676368</td><td>24.3255564547931</td><td>28116</td><td>sv3</td><td>0.103302151997437</td><td>2.42582143881705e-05</td><td>0</td><td>3684.12514551263</td><td>fuji/healpix/sv3/bright/281/28116/redrock-sv3-bright-28116.fits</td><td>SGA</td><td>151549</td><td>195.2090736763681</td><td>24.325556454793148</td></tr>\n",
       "<tr><td>39628351639388216</td><td>195.570636921187</td><td>24.010827802539</td><td>28116</td><td>sv3</td><td>0.0735501585268838</td><td>1.24373127290968e-05</td><td>0</td><td>23635.5567134111</td><td>fuji/healpix/sv3/bright/281/28116/redrock-sv3-bright-28116.fits</td><td>SGA</td><td>930436</td><td>195.57063692118683</td><td>24.010827802539005</td></tr>\n",
       "<tr><td>39628351639388739</td><td>195.596773722956</td><td>24.0291533655524</td><td>28116</td><td>sv3</td><td>0.0743909303720835</td><td>1.23486497107931e-05</td><td>0</td><td>28262.2371401303</td><td>fuji/healpix/sv3/bright/281/28116/redrock-sv3-bright-28116.fits</td><td>SGA</td><td>774598</td><td>195.59677372295553</td><td>24.029153365552403</td></tr>\n",
       "<tr><td>39628351631000304</td><td>195.063033418752</td><td>23.9518766686433</td><td>28116</td><td>sv3</td><td>0.141323855768663</td><td>3.889180446837e-05</td><td>0</td><td>3259.09371766914</td><td>fuji/healpix/sv3/bright/281/28116/redrock-sv3-bright-28116.fits</td><td>SGA</td><td>1191699</td><td>195.06303341875227</td><td>23.951876668643333</td></tr>\n",
       "<tr><td>39628368135589356</td><td>193.379176291609</td><td>24.8527270651101</td><td>28121</td><td>sv3</td><td>0.0603229409144079</td><td>4.86193158617584e-06</td><td>0</td><td>7961.06944614649</td><td>fuji/healpix/sv3/bright/281/28121/redrock-sv3-bright-28121.fits</td><td>SGA</td><td>1178872</td><td>193.37917629160913</td><td>24.8527270651101</td></tr>\n",
       "<tr><td>39628362636858151</td><td>193.433618848862</td><td>24.5730178224916</td><td>28121</td><td>sv3</td><td>0.0701638653432611</td><td>1.06808521630607e-06</td><td>0</td><td>120315.965257645</td><td>fuji/healpix/sv3/bright/281/28121/redrock-sv3-bright-28121.fits</td><td>SGA</td><td>5005244</td><td>193.43361884886178</td><td>24.573017822491643</td></tr>\n",
       "<tr><td>39628334983809199</td><td>193.704540959057</td><td>23.30115351619</td><td>28114</td><td>sv3</td><td>0.0838278055025157</td><td>2.63908442758865e-05</td><td>0</td><td>806.257400905946</td><td>fuji/healpix/sv3/bright/281/28114/redrock-sv3-bright-28114.fits</td><td>SGA</td><td>1017076</td><td>193.70454095905657</td><td>23.301153516189956</td></tr>\n",
       "</table></div>"
      ],
      "text/plain": [
       "<Table length=2112>\n",
       "      TARGETID         TARGET_RA     ...         RA                DEC        \n",
       "       int64            float64      ...      float64            float64      \n",
       "------------------- ---------------- ... ------------------ ------------------\n",
       "2305843022014712506 197.156461215073 ...  197.1565928926111  79.78701060360044\n",
       "  39633244072708111 172.478975482847 ...  172.4789754828471  49.81112965551834\n",
       "2305843015098307568  172.88665773677 ... 172.88664359320452  49.85749695685062\n",
       "  39633247981799461 172.488634263549 ...  172.4886342635487  49.99459140909872\n",
       "  39633247977604638 172.046969027532 ...  172.0469690275316  49.87656527945583\n",
       "  39633240146840330 172.621403181147 ...  172.6214031811471  49.58272138577475\n",
       "  39633240155229162 173.423295043232 ... 173.42329504323192  49.59878783305574\n",
       "  39633247994381773 173.539574562025 ... 173.53957456202534  49.92473964127928\n",
       "  39633240163615366  173.93563451952 ... 173.93563451951957  49.53727570093442\n",
       "  39633240163616099 174.010173674952 ...  174.0101736749522 49.491769720901395\n",
       "                ...              ... ...                ...                ...\n",
       "  39628357146510195 194.541641574909 ... 194.54164157490868  24.34892406460181\n",
       "  39628340558037835 195.022231125969 ... 195.02223112596943  23.59358259946991\n",
       "  39628357154899033 195.097575994022 ... 195.09757599402158 24.218594710091715\n",
       "  39628357154901032 195.209073676368 ...  195.2090736763681 24.325556454793148\n",
       "  39628351639388216 195.570636921187 ... 195.57063692118683 24.010827802539005\n",
       "  39628351639388739 195.596773722956 ... 195.59677372295553 24.029153365552403\n",
       "  39628351631000304 195.063033418752 ... 195.06303341875227 23.951876668643333\n",
       "  39628368135589356 193.379176291609 ... 193.37917629160913   24.8527270651101\n",
       "  39628362636858151 193.433618848862 ... 193.43361884886178 24.573017822491643\n",
       "  39628334983809199 193.704540959057 ... 193.70454095905657 23.301153516189956"
      ]
     },
     "execution_count": 33,
     "metadata": {},
     "output_type": "execute_result"
    }
   ],
   "source": [
    "pv_sga_fuji = match_targets(pv_sga, redux='fuji')\n",
    "pv_sga_fuji"
   ]
  },
  {
   "cell_type": "code",
   "execution_count": null,
   "id": "214f4975-6326-46dd-975c-a11d19eb8de5",
   "metadata": {},
   "outputs": [
    {
     "data": {
      "application/vnd.jupyter.widget-view+json": {
       "model_id": "f887fc88064a4c4a9e6875c1d8d4f1d4",
       "version_major": 2,
       "version_minor": 0
      },
      "text/plain": [
       "  0%|          | 0/389316 [00:00<?, ?it/s]"
      ]
     },
     "metadata": {},
     "output_type": "display_data"
    }
   ],
   "source": [
    "pv_tf_fuji = match_targets(pv_tf, redux='fuji')\n",
    "pv_tf_fuji"
   ]
  },
  {
   "cell_type": "code",
   "execution_count": null,
   "id": "cc42b3c0-a076-46c3-b797-05cdc9336ea8",
   "metadata": {},
   "outputs": [],
   "source": [
    "isgoodz = (pv_tf_fuji['ZWARN']==0) & (pv_tf_fuji['DELTACHI2']>25)\n",
    "pv_tf_fuji[isgoodz]"
   ]
  },
  {
   "cell_type": "markdown",
   "id": "cb329f5f-4c2c-48dc-b3d6-b7f365d346d9",
   "metadata": {},
   "source": [
    "#### Dump Output to a File\n",
    "\n",
    "Stack the `ext`, `sga`, and `tf` tables and save the output."
   ]
  },
  {
   "cell_type": "code",
   "execution_count": null,
   "id": "79a77d91-8f17-43d2-8788-96439650afa6",
   "metadata": {},
   "outputs": [],
   "source": [
    "pv_fuji = vstack([pv_ext_fuji, pv_sga_fuji, pv_tf_fuji])\n",
    "pv_fuji.write('desi_pv_tf_fuji.fits', overwrite=True)\n",
    "# desi_targets.write('desi_tns_matches_thru_202206.fits', overwrite=True)"
   ]
  },
  {
   "cell_type": "markdown",
   "id": "87a939c4-09d9-43c4-8d00-37388c3e8cb3",
   "metadata": {},
   "source": [
    "### Process guadalupe Observations"
   ]
  },
  {
   "cell_type": "code",
   "execution_count": null,
   "id": "ce789965-640c-45a8-89be-556ff921a19e",
   "metadata": {},
   "outputs": [],
   "source": []
  }
 ],
 "metadata": {
  "kernelspec": {
   "display_name": "DESI master",
   "language": "python",
   "name": "desi-master"
  },
  "language_info": {
   "codemirror_mode": {
    "name": "ipython",
    "version": 3
   },
   "file_extension": ".py",
   "mimetype": "text/x-python",
   "name": "python",
   "nbconvert_exporter": "python",
   "pygments_lexer": "ipython3",
   "version": "3.9.7"
  }
 },
 "nbformat": 4,
 "nbformat_minor": 5
}
