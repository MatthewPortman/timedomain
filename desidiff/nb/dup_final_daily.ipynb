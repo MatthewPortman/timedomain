{
 "cells": [
  {
   "cell_type": "code",
   "execution_count": 1,
   "id": "57fd21d6-fe1d-4cd7-9c07-44d5cf693ae5",
   "metadata": {},
   "outputs": [],
   "source": [
    "import os\n",
    "import sys\n",
    "from glob import glob\n",
    "\n",
    "module_path = os.path.abspath(os.path.join('../../'))\n",
    "if module_path not in sys.path:\n",
    "    sys.path.append(module_path)\n",
    "    \n",
    "import desispec\n",
    "from desispec.io import read_spectra, write_spectra\n",
    "from desispec.spectra import Spectra\n",
    "\n",
    "from desiutil.log import get_logger, DEBUG\n",
    "\n",
    "from desidiff.src.group_tiles import *\n",
    "from desidiff.src.dates_to_process import *\n",
    "from desidiff.src.coadd import *\n",
    "from desidiff.src.scores import *\n",
    "from desidiff.src.ContinuumFitFilter_desidiff import *\n",
    "\n",
    "from timedomain.sp_utils import SkyPortal as sp\n",
    "import requests\n",
    "import datetime\n",
    "import heapq\n",
    "import time\n",
    "import copy\n",
    "import numpy\n",
    "from astropy.time import Time\n",
    "from astropy.table import Table, vstack, unique, SortedArray\n",
    "import h5py\n",
    "\n",
    "%matplotlib inline\n",
    "import matplotlib.pyplot as plt\n",
    "from matplotlib.backends.backend_pdf import PdfPages\n",
    "from IPython import display"
   ]
  },
  {
   "cell_type": "code",
   "execution_count": 2,
   "id": "209c9ced-f38a-4579-8822-a99de37c7a60",
   "metadata": {
    "tags": []
   },
   "outputs": [],
   "source": [
    "#SkyPortal token:\n",
    "secret_file = \"/global/cfs/cdirs/desi/science/td/secrets/desidiff_sp.txt\"\n",
    "with open(secret_file, 'r') as file:\n",
    "    token = file.read().replace('\\n', '')\n",
    "headers = {'Authorization': f'token {token}'}\n",
    "\n",
    "filter_name = 'DESIDIFF'\n",
    "\n",
    "warnings.filterwarnings('ignore')\n"
   ]
  },
  {
   "cell_type": "code",
   "execution_count": 3,
   "id": "7f097ca7-d346-48b8-ad2c-0d6d7ee6a19d",
   "metadata": {},
   "outputs": [
    {
     "name": "stdout",
     "output_type": "stream",
     "text": [
      "len(night_arr): 240\n",
      "--- get unprocessed dates took:  26.16164207458496 seconds ---\n",
      "240\n"
     ]
    }
   ],
   "source": [
    "# read in and store in one place all the fibermap information in the spectra files\n",
    "night_arr = getUnprocessedDates()\n",
    "print(len(night_arr))\n",
    "#for night in night_arr:   \n",
    "#night_arr = [20210425, 20210428, 20210429, 20210430]\n",
    "#night_arr = [20210429]\n",
    "\n"
   ]
  },
  {
   "cell_type": "code",
   "execution_count": 21,
   "id": "c305a25a-880b-4bb5-9fd2-2af3935503ff",
   "metadata": {
    "jupyter": {
     "source_hidden": true
    },
    "tags": []
   },
   "outputs": [
    {
     "name": "stdout",
     "output_type": "stream",
     "text": [
      "[20210607 20210608 20210609 20210611 20210612 20210617 20210618 20210620\n",
      " 20210626 20210629 20210704 20210706 20210707 20210917 20210919 20210921\n",
      " 20210923 20210924 20210926 20210927 20210928 20210930 20211001 20211002\n",
      " 20211003 20211005 20211006 20211007 20211008 20211009 20211010 20211013\n",
      " 20211014 20211015 20211016 20211019 20211020 20211021 20211022 20211023\n",
      " 20211024 20211025 20211026 20211027 20211028 20211029 20211030 20211031\n",
      " 20211101 20211102 20211103 20211104 20211105 20211106 20211107 20211108\n",
      " 20211109 20211110 20211111 20211112 20211113 20211114 20211115 20211116\n",
      " 20211117 20211118 20211119 20211120 20211121 20211122 20211125 20211126\n",
      " 20211127 20211128 20211129 20211130 20211201 20211202 20211203 20211204\n",
      " 20211205 20211206 20211207 20211208 20211210 20211211 20211212 20211215\n",
      " 20211216 20211217 20211218 20211219 20211220 20211222 20211223 20211226\n",
      " 20220101 20220102 20220103 20220104 20220105 20220106 20220107 20220108\n",
      " 20220109 20220111 20220112 20220113 20220114 20220119 20220120 20220121\n",
      " 20220122 20220123 20220124 20220125 20220126 20220127 20220128 20220129\n",
      " 20220130 20220131 20220201 20220202 20220203 20220204 20220205 20220206\n",
      " 20220207 20220208 20220209 20220210 20220211 20220212 20220213 20220217\n",
      " 20220218 20220219 20220220 20220221 20220225 20220226 20220227 20220228\n",
      " 20220301 20220302 20220303 20220304 20220305 20220306 20220307 20220308\n",
      " 20220309 20220310 20220311 20220312 20220313 20220314 20220315 20220316\n",
      " 20220317 20220318 20220319 20220321 20220322 20220323 20220324 20220325\n",
      " 20220326 20220327 20220329 20220330 20220331 20220401 20220402 20220403\n",
      " 20220404 20220405 20220406 20220407 20220408 20220409 20220412 20220413\n",
      " 20220414 20220416 20220417 20220418 20220419 20220420 20220421 20220422\n",
      " 20220423 20220424 20220425 20220426 20220427 20220428 20220429 20220430\n",
      " 20220501 20220502 20220503 20220504 20220505 20220506 20220507 20220508\n",
      " 20220509 20220510 20220511 20220512 20220513 20220514 20220515 20220516\n",
      " 20220518 20220522 20220523 20220524 20220525 20220526 20220527 20220528\n",
      " 20220529 20220530 20220531 20220601 20220602 20220603 20220604 20220605\n",
      " 20220606 20220607 20220608 20220609 20220610 20220611 20220612 20220613]\n"
     ]
    }
   ],
   "source": [
    "print(night_arr)"
   ]
  },
  {
   "cell_type": "code",
   "execution_count": 7,
   "id": "258c4984-3429-4622-bed9-d0143e07f1f6",
   "metadata": {},
   "outputs": [
    {
     "name": "stdout",
     "output_type": "stream",
     "text": [
      "20220613\n",
      "20210607\n"
     ]
    }
   ],
   "source": [
    "print(max(night_arr))\n",
    "print(min(night_arr))"
   ]
  },
  {
   "cell_type": "code",
   "execution_count": 2,
   "id": "ee65f915-14f3-4b8b-a217-14db4a00682e",
   "metadata": {
    "tags": []
   },
   "outputs": [
    {
     "name": "stdout",
     "output_type": "stream",
     "text": [
      "20211006\n",
      "INFO:spectra.py:291:read_spectra: iotime 0.722 sec to read spectra-2-11238-thru20211006.fits at 2022-09-15T20:32:58.010464\n",
      "Time elapsed for 1 tile/petal: 0:00:02.406106\n",
      "TIDs passed per filter per tile/petal: {'narrow line': 0, 'broad line': 0, 'Hline': 0}\n",
      "INFO:spectra.py:291:read_spectra: iotime 0.451 sec to read spectra-6-11238-thru20211006.fits at 2022-09-15T20:33:00.145966\n",
      "Time elapsed for 1 tile/petal: 0:00:02.018056\n",
      "TIDs passed per filter per tile/petal: {'narrow line': 0, 'broad line': 0, 'Hline': 0}\n",
      "INFO:spectra.py:291:read_spectra: iotime 0.437 sec to read spectra-0-11238-thru20211006.fits at 2022-09-15T20:33:02.149617\n",
      "Time elapsed for 1 tile/petal: 0:00:01.999367\n",
      "TIDs passed per filter per tile/petal: {'narrow line': 0, 'broad line': 0, 'Hline': 0}\n",
      "INFO:spectra.py:291:read_spectra: iotime 0.431 sec to read spectra-3-11238-thru20211006.fits at 2022-09-15T20:33:04.143130\n",
      "INFO:spectra.py:291:read_spectra: iotime 0.699 sec to read spectra-4-11238-thru20211006.fits at 2022-09-15T20:33:05.188457\n"
     ]
    },
    {
     "ename": "KeyboardInterrupt",
     "evalue": "",
     "output_type": "error",
     "traceback": [
      "\u001b[0;31m---------------------------------------------------------------------------\u001b[0m",
      "\u001b[0;31mKeyboardInterrupt\u001b[0m                         Traceback (most recent call last)",
      "\u001b[0;32m/tmp/ipykernel_60551/2852284232.py\u001b[0m in \u001b[0;36m<module>\u001b[0;34m\u001b[0m\n\u001b[1;32m     34\u001b[0m         \u001b[0;31m##### DAVE'S ADDITION ##############\u001b[0m\u001b[0;34m\u001b[0m\u001b[0;34m\u001b[0m\u001b[0m\n\u001b[1;32m     35\u001b[0m         \u001b[0mtargetcols\u001b[0m \u001b[0;34m=\u001b[0m \u001b[0;34m[\u001b[0m\u001b[0mi\u001b[0m \u001b[0;32mfor\u001b[0m \u001b[0mi\u001b[0m \u001b[0;32min\u001b[0m \u001b[0mtable\u001b[0m\u001b[0;34m.\u001b[0m\u001b[0mcolnames\u001b[0m \u001b[0;32mif\u001b[0m \u001b[0mi\u001b[0m\u001b[0;34m[\u001b[0m\u001b[0;34m-\u001b[0m\u001b[0;36m7\u001b[0m\u001b[0;34m:\u001b[0m\u001b[0;34m]\u001b[0m \u001b[0;34m==\u001b[0m\u001b[0;34m'_TARGET'\u001b[0m\u001b[0;34m]\u001b[0m\u001b[0;34m\u001b[0m\u001b[0;34m\u001b[0m\u001b[0m\n\u001b[0;32m---> 36\u001b[0;31m         \u001b[0mnonzerocheck\u001b[0m \u001b[0;34m=\u001b[0m \u001b[0;34m[\u001b[0m\u001b[0;32mTrue\u001b[0m \u001b[0;32min\u001b[0m \u001b[0mk\u001b[0m \u001b[0;32mfor\u001b[0m \u001b[0mk\u001b[0m \u001b[0;32min\u001b[0m \u001b[0;34m[\u001b[0m\u001b[0;34m[\u001b[0m\u001b[0mj\u001b[0m \u001b[0;34m!=\u001b[0m \u001b[0;36m0\u001b[0m \u001b[0;32mfor\u001b[0m \u001b[0mj\u001b[0m \u001b[0;32min\u001b[0m \u001b[0mtable\u001b[0m\u001b[0;34m[\u001b[0m\u001b[0mtargetcols\u001b[0m\u001b[0;34m]\u001b[0m\u001b[0;34m[\u001b[0m\u001b[0mi\u001b[0m\u001b[0;34m]\u001b[0m\u001b[0;34m]\u001b[0m \u001b[0;32mfor\u001b[0m \u001b[0mi\u001b[0m \u001b[0;32min\u001b[0m \u001b[0mrange\u001b[0m\u001b[0;34m(\u001b[0m\u001b[0mlen\u001b[0m\u001b[0;34m(\u001b[0m\u001b[0mtable\u001b[0m\u001b[0;34m)\u001b[0m\u001b[0;34m)\u001b[0m\u001b[0;34m]\u001b[0m\u001b[0;34m]\u001b[0m\u001b[0;34m\u001b[0m\u001b[0;34m\u001b[0m\u001b[0m\n\u001b[0m\u001b[1;32m     37\u001b[0m         \u001b[0;31m#a really ugly line, basically generates a list of bools,\u001b[0m\u001b[0;34m\u001b[0m\u001b[0;34m\u001b[0m\u001b[0m\n\u001b[1;32m     38\u001b[0m         \u001b[0;31m#True if there is at least one nonzero element in all columns ending in _TARGET\u001b[0m\u001b[0;34m\u001b[0m\u001b[0;34m\u001b[0m\u001b[0m\n",
      "\u001b[0;32m/tmp/ipykernel_60551/2852284232.py\u001b[0m in \u001b[0;36m<listcomp>\u001b[0;34m(.0)\u001b[0m\n\u001b[1;32m     34\u001b[0m         \u001b[0;31m##### DAVE'S ADDITION ##############\u001b[0m\u001b[0;34m\u001b[0m\u001b[0;34m\u001b[0m\u001b[0m\n\u001b[1;32m     35\u001b[0m         \u001b[0mtargetcols\u001b[0m \u001b[0;34m=\u001b[0m \u001b[0;34m[\u001b[0m\u001b[0mi\u001b[0m \u001b[0;32mfor\u001b[0m \u001b[0mi\u001b[0m \u001b[0;32min\u001b[0m \u001b[0mtable\u001b[0m\u001b[0;34m.\u001b[0m\u001b[0mcolnames\u001b[0m \u001b[0;32mif\u001b[0m \u001b[0mi\u001b[0m\u001b[0;34m[\u001b[0m\u001b[0;34m-\u001b[0m\u001b[0;36m7\u001b[0m\u001b[0;34m:\u001b[0m\u001b[0;34m]\u001b[0m \u001b[0;34m==\u001b[0m\u001b[0;34m'_TARGET'\u001b[0m\u001b[0;34m]\u001b[0m\u001b[0;34m\u001b[0m\u001b[0;34m\u001b[0m\u001b[0m\n\u001b[0;32m---> 36\u001b[0;31m         \u001b[0mnonzerocheck\u001b[0m \u001b[0;34m=\u001b[0m \u001b[0;34m[\u001b[0m\u001b[0;32mTrue\u001b[0m \u001b[0;32min\u001b[0m \u001b[0mk\u001b[0m \u001b[0;32mfor\u001b[0m \u001b[0mk\u001b[0m \u001b[0;32min\u001b[0m \u001b[0;34m[\u001b[0m\u001b[0;34m[\u001b[0m\u001b[0mj\u001b[0m \u001b[0;34m!=\u001b[0m \u001b[0;36m0\u001b[0m \u001b[0;32mfor\u001b[0m \u001b[0mj\u001b[0m \u001b[0;32min\u001b[0m \u001b[0mtable\u001b[0m\u001b[0;34m[\u001b[0m\u001b[0mtargetcols\u001b[0m\u001b[0;34m]\u001b[0m\u001b[0;34m[\u001b[0m\u001b[0mi\u001b[0m\u001b[0;34m]\u001b[0m\u001b[0;34m]\u001b[0m \u001b[0;32mfor\u001b[0m \u001b[0mi\u001b[0m \u001b[0;32min\u001b[0m \u001b[0mrange\u001b[0m\u001b[0;34m(\u001b[0m\u001b[0mlen\u001b[0m\u001b[0;34m(\u001b[0m\u001b[0mtable\u001b[0m\u001b[0;34m)\u001b[0m\u001b[0;34m)\u001b[0m\u001b[0;34m]\u001b[0m\u001b[0;34m]\u001b[0m\u001b[0;34m\u001b[0m\u001b[0;34m\u001b[0m\u001b[0m\n\u001b[0m\u001b[1;32m     37\u001b[0m         \u001b[0;31m#a really ugly line, basically generates a list of bools,\u001b[0m\u001b[0;34m\u001b[0m\u001b[0;34m\u001b[0m\u001b[0m\n\u001b[1;32m     38\u001b[0m         \u001b[0;31m#True if there is at least one nonzero element in all columns ending in _TARGET\u001b[0m\u001b[0;34m\u001b[0m\u001b[0;34m\u001b[0m\u001b[0m\n",
      "\u001b[0;32m/global/common/software/desi/cori/desiconda/20211217-2.0.0/conda/lib/python3.9/site-packages/astropy/table/table.py\u001b[0m in \u001b[0;36m__getitem__\u001b[0;34m(self, item)\u001b[0m\n\u001b[1;32m   1886\u001b[0m             \u001b[0;32mreturn\u001b[0m \u001b[0mself\u001b[0m\u001b[0;34m.\u001b[0m\u001b[0mRow\u001b[0m\u001b[0;34m(\u001b[0m\u001b[0mself\u001b[0m\u001b[0;34m,\u001b[0m \u001b[0mitem\u001b[0m\u001b[0;34m.\u001b[0m\u001b[0mitem\u001b[0m\u001b[0;34m(\u001b[0m\u001b[0;34m)\u001b[0m\u001b[0;34m)\u001b[0m\u001b[0;34m\u001b[0m\u001b[0;34m\u001b[0m\u001b[0m\n\u001b[1;32m   1887\u001b[0m         \u001b[0;32melif\u001b[0m \u001b[0mself\u001b[0m\u001b[0;34m.\u001b[0m\u001b[0m_is_list_or_tuple_of_str\u001b[0m\u001b[0;34m(\u001b[0m\u001b[0mitem\u001b[0m\u001b[0;34m)\u001b[0m\u001b[0;34m:\u001b[0m\u001b[0;34m\u001b[0m\u001b[0;34m\u001b[0m\u001b[0m\n\u001b[0;32m-> 1888\u001b[0;31m             out = self.__class__([self[x] for x in item],\n\u001b[0m\u001b[1;32m   1889\u001b[0m                                  copy_indices=self._copy_indices)\n\u001b[1;32m   1890\u001b[0m             out._groups = groups.TableGroups(out, indices=self.groups._indices,\n",
      "\u001b[0;32m/global/common/software/desi/cori/desiconda/20211217-2.0.0/conda/lib/python3.9/site-packages/astropy/table/table.py\u001b[0m in \u001b[0;36m__init__\u001b[0;34m(self, data, masked, names, dtype, meta, copy, rows, copy_indices, units, descriptions, **kwargs)\u001b[0m\n\u001b[1;32m    836\u001b[0m \u001b[0;34m\u001b[0m\u001b[0m\n\u001b[1;32m    837\u001b[0m         \u001b[0;31m# Finally do the real initialization\u001b[0m\u001b[0;34m\u001b[0m\u001b[0;34m\u001b[0m\u001b[0m\n\u001b[0;32m--> 838\u001b[0;31m         \u001b[0minit_func\u001b[0m\u001b[0;34m(\u001b[0m\u001b[0mdata\u001b[0m\u001b[0;34m,\u001b[0m \u001b[0mnames\u001b[0m\u001b[0;34m,\u001b[0m \u001b[0mdtype\u001b[0m\u001b[0;34m,\u001b[0m \u001b[0mn_cols\u001b[0m\u001b[0;34m,\u001b[0m \u001b[0mcopy\u001b[0m\u001b[0;34m)\u001b[0m\u001b[0;34m\u001b[0m\u001b[0;34m\u001b[0m\u001b[0m\n\u001b[0m\u001b[1;32m    839\u001b[0m \u001b[0;34m\u001b[0m\u001b[0m\n\u001b[1;32m    840\u001b[0m         \u001b[0;31m# Set table meta.  If copy=True then deepcopy meta otherwise use the\u001b[0m\u001b[0;34m\u001b[0m\u001b[0;34m\u001b[0m\u001b[0m\n",
      "\u001b[0;32m/global/common/software/desi/cori/desiconda/20211217-2.0.0/conda/lib/python3.9/site-packages/astropy/table/table.py\u001b[0m in \u001b[0;36m_init_from_list\u001b[0;34m(self, data, names, dtype, n_cols, copy)\u001b[0m\n\u001b[1;32m   1178\u001b[0m             \u001b[0mcols\u001b[0m\u001b[0;34m.\u001b[0m\u001b[0mappend\u001b[0m\u001b[0;34m(\u001b[0m\u001b[0mcol\u001b[0m\u001b[0;34m)\u001b[0m\u001b[0;34m\u001b[0m\u001b[0;34m\u001b[0m\u001b[0m\n\u001b[1;32m   1179\u001b[0m \u001b[0;34m\u001b[0m\u001b[0m\n\u001b[0;32m-> 1180\u001b[0;31m         \u001b[0mself\u001b[0m\u001b[0;34m.\u001b[0m\u001b[0m_init_from_cols\u001b[0m\u001b[0;34m(\u001b[0m\u001b[0mcols\u001b[0m\u001b[0;34m)\u001b[0m\u001b[0;34m\u001b[0m\u001b[0;34m\u001b[0m\u001b[0m\n\u001b[0m\u001b[1;32m   1181\u001b[0m \u001b[0;34m\u001b[0m\u001b[0m\n\u001b[1;32m   1182\u001b[0m     \u001b[0;32mdef\u001b[0m \u001b[0m_convert_data_to_col\u001b[0m\u001b[0;34m(\u001b[0m\u001b[0mself\u001b[0m\u001b[0;34m,\u001b[0m \u001b[0mdata\u001b[0m\u001b[0;34m,\u001b[0m \u001b[0mcopy\u001b[0m\u001b[0;34m=\u001b[0m\u001b[0;32mTrue\u001b[0m\u001b[0;34m,\u001b[0m \u001b[0mdefault_name\u001b[0m\u001b[0;34m=\u001b[0m\u001b[0;32mNone\u001b[0m\u001b[0;34m,\u001b[0m \u001b[0mdtype\u001b[0m\u001b[0;34m=\u001b[0m\u001b[0;32mNone\u001b[0m\u001b[0;34m,\u001b[0m \u001b[0mname\u001b[0m\u001b[0;34m=\u001b[0m\u001b[0;32mNone\u001b[0m\u001b[0;34m)\u001b[0m\u001b[0;34m:\u001b[0m\u001b[0;34m\u001b[0m\u001b[0;34m\u001b[0m\u001b[0m\n",
      "\u001b[0;32m/global/common/software/desi/cori/desiconda/20211217-2.0.0/conda/lib/python3.9/site-packages/astropy/table/table.py\u001b[0m in \u001b[0;36m_init_from_cols\u001b[0;34m(self, cols)\u001b[0m\n\u001b[1;32m   1395\u001b[0m         \u001b[0;31m# convert columns with units to a Quantity mixin.\u001b[0m\u001b[0;34m\u001b[0m\u001b[0;34m\u001b[0m\u001b[0m\n\u001b[1;32m   1396\u001b[0m         \u001b[0mnewcols\u001b[0m \u001b[0;34m=\u001b[0m \u001b[0;34m[\u001b[0m\u001b[0mself\u001b[0m\u001b[0;34m.\u001b[0m\u001b[0m_convert_col_for_table\u001b[0m\u001b[0;34m(\u001b[0m\u001b[0mcol\u001b[0m\u001b[0;34m)\u001b[0m \u001b[0;32mfor\u001b[0m \u001b[0mcol\u001b[0m \u001b[0;32min\u001b[0m \u001b[0mcols\u001b[0m\u001b[0;34m]\u001b[0m\u001b[0;34m\u001b[0m\u001b[0;34m\u001b[0m\u001b[0m\n\u001b[0;32m-> 1397\u001b[0;31m         \u001b[0mself\u001b[0m\u001b[0;34m.\u001b[0m\u001b[0m_make_table_from_cols\u001b[0m\u001b[0;34m(\u001b[0m\u001b[0mself\u001b[0m\u001b[0;34m,\u001b[0m \u001b[0mnewcols\u001b[0m\u001b[0;34m)\u001b[0m\u001b[0;34m\u001b[0m\u001b[0;34m\u001b[0m\u001b[0m\n\u001b[0m\u001b[1;32m   1398\u001b[0m \u001b[0;34m\u001b[0m\u001b[0m\n\u001b[1;32m   1399\u001b[0m         \u001b[0;31m# Deduplicate indices.  It may happen that after pickling or when\u001b[0m\u001b[0;34m\u001b[0m\u001b[0;34m\u001b[0m\u001b[0m\n",
      "\u001b[0;32m/global/common/software/desi/cori/desiconda/20211217-2.0.0/conda/lib/python3.9/site-packages/astropy/table/table.py\u001b[0m in \u001b[0;36m_make_table_from_cols\u001b[0;34m(table, cols, verify, names)\u001b[0m\n\u001b[1;32m   1449\u001b[0m         \"\"\"\n\u001b[1;32m   1450\u001b[0m         \u001b[0;32mif\u001b[0m \u001b[0mnames\u001b[0m \u001b[0;32mis\u001b[0m \u001b[0;32mNone\u001b[0m\u001b[0;34m:\u001b[0m\u001b[0;34m\u001b[0m\u001b[0;34m\u001b[0m\u001b[0m\n\u001b[0;32m-> 1451\u001b[0;31m             \u001b[0mnames\u001b[0m \u001b[0;34m=\u001b[0m \u001b[0;34m[\u001b[0m\u001b[0mcol\u001b[0m\u001b[0;34m.\u001b[0m\u001b[0minfo\u001b[0m\u001b[0;34m.\u001b[0m\u001b[0mname\u001b[0m \u001b[0;32mfor\u001b[0m \u001b[0mcol\u001b[0m \u001b[0;32min\u001b[0m \u001b[0mcols\u001b[0m\u001b[0;34m]\u001b[0m\u001b[0;34m\u001b[0m\u001b[0;34m\u001b[0m\u001b[0m\n\u001b[0m\u001b[1;32m   1452\u001b[0m \u001b[0;34m\u001b[0m\u001b[0m\n\u001b[1;32m   1453\u001b[0m         \u001b[0;31m# Note: we do not test for len(names) == len(cols) if names is not None.  In that\u001b[0m\u001b[0;34m\u001b[0m\u001b[0;34m\u001b[0m\u001b[0m\n",
      "\u001b[0;32m/global/common/software/desi/cori/desiconda/20211217-2.0.0/conda/lib/python3.9/site-packages/astropy/table/table.py\u001b[0m in \u001b[0;36m<listcomp>\u001b[0;34m(.0)\u001b[0m\n\u001b[1;32m   1449\u001b[0m         \"\"\"\n\u001b[1;32m   1450\u001b[0m         \u001b[0;32mif\u001b[0m \u001b[0mnames\u001b[0m \u001b[0;32mis\u001b[0m \u001b[0;32mNone\u001b[0m\u001b[0;34m:\u001b[0m\u001b[0;34m\u001b[0m\u001b[0;34m\u001b[0m\u001b[0m\n\u001b[0;32m-> 1451\u001b[0;31m             \u001b[0mnames\u001b[0m \u001b[0;34m=\u001b[0m \u001b[0;34m[\u001b[0m\u001b[0mcol\u001b[0m\u001b[0;34m.\u001b[0m\u001b[0minfo\u001b[0m\u001b[0;34m.\u001b[0m\u001b[0mname\u001b[0m \u001b[0;32mfor\u001b[0m \u001b[0mcol\u001b[0m \u001b[0;32min\u001b[0m \u001b[0mcols\u001b[0m\u001b[0;34m]\u001b[0m\u001b[0;34m\u001b[0m\u001b[0;34m\u001b[0m\u001b[0m\n\u001b[0m\u001b[1;32m   1452\u001b[0m \u001b[0;34m\u001b[0m\u001b[0m\n\u001b[1;32m   1453\u001b[0m         \u001b[0;31m# Note: we do not test for len(names) == len(cols) if names is not None.  In that\u001b[0m\u001b[0;34m\u001b[0m\u001b[0;34m\u001b[0m\u001b[0m\n",
      "\u001b[0;32m/global/common/software/desi/cori/desiconda/20211217-2.0.0/conda/lib/python3.9/site-packages/astropy/utils/data_info.py\u001b[0m in \u001b[0;36m__get__\u001b[0;34m(self, instance, owner_cls)\u001b[0m\n\u001b[1;32m    343\u001b[0m         \u001b[0;31m# instances, 'info' will be copied as well, which will lose the\u001b[0m\u001b[0;34m\u001b[0m\u001b[0;34m\u001b[0m\u001b[0m\n\u001b[1;32m    344\u001b[0m         \u001b[0;31m# reference.\u001b[0m\u001b[0;34m\u001b[0m\u001b[0;34m\u001b[0m\u001b[0m\n\u001b[0;32m--> 345\u001b[0;31m         \u001b[0minfo\u001b[0m\u001b[0;34m.\u001b[0m\u001b[0m_parent_ref\u001b[0m \u001b[0;34m=\u001b[0m \u001b[0mweakref\u001b[0m\u001b[0;34m.\u001b[0m\u001b[0mref\u001b[0m\u001b[0;34m(\u001b[0m\u001b[0minstance\u001b[0m\u001b[0;34m)\u001b[0m\u001b[0;34m\u001b[0m\u001b[0;34m\u001b[0m\u001b[0m\n\u001b[0m\u001b[1;32m    346\u001b[0m         \u001b[0;32mreturn\u001b[0m \u001b[0minfo\u001b[0m\u001b[0;34m\u001b[0m\u001b[0;34m\u001b[0m\u001b[0m\n\u001b[1;32m    347\u001b[0m \u001b[0;34m\u001b[0m\u001b[0m\n",
      "\u001b[0;31mKeyboardInterrupt\u001b[0m: "
     ]
    }
   ],
   "source": [
    "# read in and store in one place all the fibermap information in the spectra files\n",
    "#night_arr = getUnprocessedDates()\n",
    "all_plots_pdf = PdfPages(\"All_plots.pdf\")\n",
    "\n",
    "#for night in night_arr:   \n",
    "#night_arr = [20210425, 20210428, 20210429, 20210430]\n",
    "night_arr = [20211006]\n",
    "#night_arr = [20210428]\n",
    "\n",
    "a_start_time = time.time()\n",
    "cumulative_count = 0\n",
    "for night in night_arr:\n",
    "    print(night)\n",
    "    ### counters per night\n",
    "    count_passed_per_night = 0\n",
    "    logic_dict_night = {'narrow line':0, 'broad line':0,'Hline':0}\n",
    "    for current_filename in glob(f\"/global/project/projectdirs/desi/spectro/redux/daily/tiles/cumulative/*/{night}/spectra-*.fits\"):\n",
    "        tile = current_filename.split('/')[-3]\n",
    "        petal = current_filename.split('-')[1]\n",
    "        ### counters per tile/petal\n",
    "        tp_start_time = time.time()\n",
    "        count_passed_per_tile_petal = 0\n",
    "        logic_dict_tp = {'narrow line':0, 'broad line':0,'Hline':0}\n",
    "\n",
    "        ### daily_spectra, the precursor to current spectra, before coadding, to select night, unique target ids, and individual target ids\n",
    "        ### spectra.select functionality will not work once coadded with coaddition.coadd_cameras\n",
    "        ### hack to deal with one known case of fibermap['NIGHT' = 20210610] while night = 20210611\n",
    "        try:\n",
    "            daily_spectra = ((read_spectra(current_filename)).select(nights = night))\n",
    "        except:\n",
    "            continue\n",
    "\n",
    "        table = Table.read(current_filename, format='fits',hdu=1, memmap=True) \n",
    "        ##### DAVE'S ADDITION ##############\n",
    "        targetcols = [i for i in table.colnames if i[-7:] =='_TARGET']\n",
    "        nonzerocheck = [True in k for k in [[j != 0 for j in table[targetcols][i]] for i in range(len(table))]]\n",
    "        #a really ugly line, basically generates a list of bools, \n",
    "        #True if there is at least one nonzero element in all columns ending in _TARGET\n",
    "        table.remove_rows([i for i, val in enumerate(nonzerocheck) if not val])\n",
    "        #This gets the index of all False values from the previous list and removes those rows\n",
    "        table = table['TARGETID','TARGET_RA','TARGET_DEC','TILEID','OBJTYPE','PETAL_LOC','FIBERSTATUS','NIGHT']\n",
    "        ######## END DAVE'S ADDITION ############\n",
    "        table = table[numpy.logical_and(table['OBJTYPE']=='TGT', table['FIBERSTATUS']==0)]\n",
    "        \n",
    "        \n",
    "\n",
    "        for ref_filename in glob(f\"/global/cfs/cdirs/desi/spectro/redux/*/tiles/cumulative/{tile}/*/coadd-{petal}-{tile}*.fits\"):\n",
    "            if ref_filename.split('/')[-6] == 'fuji' or ref_filename.split('/')[-6] == 'guadalupe':\n",
    "                prev_spectra = read_spectra(ref_filename)\n",
    "                \n",
    "                f = h5py.File((current_filename.replace('spectra','redrock')).replace('fits', 'h5'), \"r\")\n",
    "                print(f)\n",
    "\n",
    "                #### get redrock h5 file for z-shift info\n",
    "                #### once a reference file is found\n",
    "                \"\"\"\n",
    "                try:\n",
    "                    f = h5py.File((current_filename.replace('spectra','redrock')).replace('fits', 'h5'), \"r\")\n",
    "                    print('redrock worked')\n",
    "                except (FileNotFoundError):\n",
    "                    f = h5py.File((current_filename.replace('spectra','rrdetails')).replace('fits', 'h5'), \"r\")\n",
    "                    print('rrdetails worked')\n",
    "                \"\"\"\n",
    "                num = daily_spectra[numpy.where(numpy.logical_and(daily_spectra.fibermap['OBJTYPE']=='TGT', daily_spectra.fibermap['FIBERSTATUS']==0))].num_targets()\n",
    "                #print('num: {}'.format(num))\n",
    "                w = numpy.logical_and(daily_spectra.fibermap['OBJTYPE']=='TGT', \n",
    "                                                      daily_spectra.fibermap['FIBERSTATUS']==0)\n",
    "                unique_targets = numpy.unique(daily_spectra.fibermap['TARGETID'][w])\n",
    "                relevant_targets = []\n",
    "                for d in unique_targets:\n",
    "                    if d in prev_spectra.fibermap['TARGETID']:\n",
    "                        relevant_targets.append(d)\n",
    "                print('relevant targets: {}'.format(len(relevant_targets)))\n",
    "                        \n",
    "                        \n",
    "                for t in relevant_targets:\n",
    "                    \n",
    "                    ### match target ids and coadd_cameras\n",
    "                    current_spectra = desispec.coaddition.coadd_cameras(daily_spectra.select(targets = t))\n",
    "                    ref_spectra = desispec.coaddition.coadd_cameras(prev_spectra.select(targets = t))\n",
    "                    \n",
    "                    ### grab ra and dec values for use in SkyPortal functionality later\n",
    "                    ra, dec = table['TARGETID' == t]['TARGET_RA'], table['TARGETID' == t]['TARGET_DEC']\n",
    "                    ### grab zinfo for TDE filters later\n",
    "                    zinfo = f['zfit'][str(t)]['zfit'][0]['z']\n",
    "\n",
    "                    norm = normalization(current_spectra.flux, current_spectra.mask, ref_spectra.flux, ref_spectra.mask)\n",
    "\n",
    "                    # need to instantiate a Spectra object for the difference. \n",
    "                    ### Using 'dif_spectra = Spectra()' is bugging on dif_spectra.mask type=NoneType, can't assign.\n",
    "                    #### dif_spectra = current_spectra\n",
    "                    ### copy.deepcopy() is deprecated as memory expensive\n",
    "                    dif_spectra = copy.deepcopy(current_spectra)\n",
    "                    #### any problem with hardcoding in 'brz' for key in the following:\n",
    "                    for key in (current_spectra.flux).keys():\n",
    "                        current_spectra.flux[key] = current_spectra.flux[key]/norm\n",
    "                        current_spectra.ivar[key] = current_spectra.ivar[key]*norm**2 \n",
    "                        # subtraction of current and reference fluxes\n",
    "                        dif_spectra.flux[key] = current_spectra.flux[key] - ref_spectra.flux[key]\n",
    "                        ### couldn't dif_spectra.mask[key] == 2 by summing current.mask and reference.mask\n",
    "                        # summation of current and reference masks\n",
    "                        dif_spectra.mask[key] = current_spectra.mask[key] + ref_spectra.mask[key]\n",
    "                        # inverted summation of current and spectra inverse variance\n",
    "                        ### still returning RuntimeWarning: divide by zero encountered in true_divide but not in infinite loop for the moment\n",
    "                        dif_spectra.ivar[key] = 1./(1./current_spectra.ivar[key] + 1./ref_spectra.ivar[key])\n",
    "\n",
    "                    # mean-subtracted difference\n",
    "                    dif_flux_clipped = clipmean(dif_spectra.flux, dif_spectra.ivar, dif_spectra.mask)\n",
    "\n",
    "                    # filters \n",
    "                    # Difference spectrum may have broadband signal\n",
    "                    #perband_filter = perband_SN(dif_flux_clipped, dif_spectra.ivar, dif_spectra.mask)\n",
    "                    # fractional increase\n",
    "                    #perband_inc = perband_increase(dif_flux_clipped, dif_spectra.ivar, dif_spectra.mask, ref_spectra.flux, ref_spectra.ivar, ref_spectra.mask)\n",
    "\n",
    "                    # Difference spectrum may have high-frequency signal\n",
    "                    perres_filter_broad = perconv_SN(dif_flux_clipped, dif_spectra.ivar, dif_spectra.mask, ncon = 100, nsig = 32)\n",
    "                    perres_filter_narrow = perconv_SN(dif_flux_clipped, dif_spectra.ivar, dif_spectra.mask, ncon = 5, nsig = 15)\n",
    "\n",
    "                    # Search for signature lines of TDEs, only interested in Galaxies\n",
    "                    linetable = line_finder(dif_spectra.wave, dif_flux_clipped, dif_spectra.ivar, dif_spectra.mask, zinfo)\n",
    "                    Hline_score = Hline_filter(linetable)\n",
    "                    # deriv_score = deriv_filter(dif_flux_clipped, dif_spectra.ivar,dif_spectra.mask)\n",
    "                    \n",
    "                    #broadband\n",
    "                    #bblogic = (numpy.array(list(perband_filter.values()))>10)#, numpy.array(list(perband_inc.values()))>0.25))\n",
    "                    narrowlinelogic = perres_filter_narrow >=2\n",
    "                    broadlinelogic = perres_filter_broad >=3\n",
    "                    \n",
    "                    # TDElogic = any([TDE_score == 2, TDE_score == 3, TDE_score == 4, TDE_score == 5])\n",
    "                    Hlinelogic = any([Hline_score >= 1])\n",
    "                    # derivlogic = any([deriv_score >= 3])\n",
    "                    logic = [narrowlinelogic,  broadlinelogic, Hlinelogic]\n",
    "                    logic_name = ['narrow line', 'broad line','Hline'] #must be in same order as logic!, use as mask\n",
    "                    logic_name = numpy.ma.masked_array(logic_name, mask = [not i for i in logic])\n",
    "                    \n",
    "                    plt.clf()\n",
    "                    plt.rcParams[\"figure.figsize\"] = (20,6)\n",
    "                    if any(logic):\n",
    "                        if count_passed_per_tile_petal == 0:\n",
    "                            pdf_per_file = PdfPages(str(petal)+'_'+str(tile)+\".pdf\")\n",
    "                            \n",
    "                        ### booking for filter counters\n",
    "                        for e in logic_name.compressed():\n",
    "                            if e in logic_dict_night.keys():\n",
    "                                logic_dict_night[e] += 1\n",
    "                                logic_dict_tp[e] += 1\n",
    "                        # export to database of processed exposures\n",
    "                        #processed(t, tile, night)\n",
    "                        plt.figure()\n",
    "                        for key in (current_spectra.flux).keys():\n",
    "                            w=numpy.where(dif_spectra.mask[key][0] == 0)\n",
    "\n",
    "                            plt.plot(dif_spectra.wave[key][w], dif_spectra.flux[key][0][w], color='red', label = 'Difference')\n",
    "                            plt.plot(current_spectra.wave[key][w], current_spectra.flux[key][0][w], color='blue', alpha=0.5, label = 'New Spectrum')\n",
    "                            plt.plot(ref_spectra.wave[key][w],ref_spectra.flux[key][0][w],color='green',alpha=0.5, label = 'Reference Spectrum')\n",
    "\n",
    "                            plt.legend()\n",
    "                            plt.xlabel('Wavelength (Å)')\n",
    "                            plt.ylabel('Flux') \n",
    "                            plt.title(str(t) + \"  \" + str(night) + \"  \" + str(tile)  + \"  \" + str(logic_name))\n",
    "                            #plt.show()\n",
    "\n",
    "                            plt.savefig(pdf_per_file, format = 'pdf')\n",
    "                            plt.savefig(all_plots_pdf, format = 'pdf')\n",
    "                            plt.close()\n",
    "                            #print('Time elapsed for 1 TID: {}'.format(datetime.timedelta(seconds=(time.time()-t_start_time))))\n",
    "        count_passed_per_tile_petal += sum(logic_dict_tp.values())\n",
    "        if count_passed_per_tile_petal !=0:\n",
    "            pdf_per_file.close()\n",
    "                                  \n",
    "        #cumulative_count += num\n",
    "        print('Time elapsed for 1 tile/petal: {}'.format(datetime.timedelta(seconds=(time.time()-tp_start_time))))\n",
    "        count_passed_per_night += count_passed_per_tile_petal\n",
    "        #print('TIDs passed logic per tile/petal: {}'.format(count_passed_per_tile_petal))\n",
    "        print('TIDs passed per filter per tile/petal: {}'.format(logic_dict_tp))\n",
    "all_plots_pdf.close()\n",
    "#print('Cumulative total: {}'.format(cumulative_count))\n",
    "#print('Total TIDs passed logic per night: {}'.format(count_passed_per_night))\n",
    "print('Cumulative total TIDs passed per filter per night: {}'.format(logic_dict_night))\n",
    "\n",
    "#plt.hist(list_broad, log = True)\n",
    "#plt.savefig('log_broad.pdf')\n",
    "#plt.hist(list_narrow, log = True)\n",
    "#plt.title('log plot perres_filter narrow = orange, broad = blue, {}_{}_{}_{} tids'.format(night, petal, tile, num))\n",
    "#plt.savefig('log_narrow.pdf')\n",
    "print(str(datetime.timedelta(seconds=(time.time()-a_start_time))))"
   ]
  },
  {
   "cell_type": "code",
   "execution_count": 9,
   "id": "56d05a04-93a5-42a7-8a00-cb2e400ace6a",
   "metadata": {},
   "outputs": [
    {
     "name": "stdout",
     "output_type": "stream",
     "text": [
      "rrdetails worked\n"
     ]
    }
   ],
   "source": [
    "try:\n",
    "    f = h5py.File((current_filename.replace('spectra','redrock')).replace('fits', 'h5'), \"r\")\n",
    "    print('redrock worked')\n",
    "except (FileNotFoundError):\n",
    "    f = h5py.File((current_filename.replace('spectra','rrdetails')).replace('fits', 'h5'), \"r\")\n",
    "    print('rrdetails worked')"
   ]
  },
  {
   "cell_type": "code",
   "execution_count": 7,
   "id": "514ba491-459f-4bce-8d88-0c79c935d7b8",
   "metadata": {},
   "outputs": [
    {
     "name": "stdout",
     "output_type": "stream",
     "text": [
      "/global/cfs/cdirs/desi/spectro/redux/daily/tiles/cumulative/10685/20211006/coadd-4-10685-thru20211006.fits\n"
     ]
    }
   ],
   "source": [
    "print(ref_filename)"
   ]
  },
  {
   "cell_type": "code",
   "execution_count": 5,
   "id": "d45ef8e2-0738-4d40-9794-49ab77649867",
   "metadata": {},
   "outputs": [
    {
     "name": "stdout",
     "output_type": "stream",
     "text": [
      "/global/project/projectdirs/desi/spectro/redux/daily/tiles/cumulative/11238/20211006/spectra-2-11238-thru20211006.fits\n"
     ]
    }
   ],
   "source": [
    "print(current_filename)"
   ]
  },
  {
   "cell_type": "code",
   "execution_count": 8,
   "id": "4967abb0-3573-433d-b172-55e524fad360",
   "metadata": {},
   "outputs": [
    {
     "name": "stdout",
     "output_type": "stream",
     "text": [
      "<desispec.spectra.Spectra object at 0x1554be0df790>\n"
     ]
    }
   ],
   "source": [
    "print(daily_spectra)"
   ]
  },
  {
   "cell_type": "code",
   "execution_count": 6,
   "id": "e83d188f-bfb1-4c6f-9d15-ff15f8bd98b7",
   "metadata": {},
   "outputs": [],
   "source": [
    "fa = h5py.File((current_filename.replace('spectra','rrdetails')).replace('fits', 'h5'), \"r\")"
   ]
  },
  {
   "cell_type": "code",
   "execution_count": 7,
   "id": "9fb751ef-0ddb-4e59-a5a9-4f55677f6b65",
   "metadata": {},
   "outputs": [
    {
     "name": "stdout",
     "output_type": "stream",
     "text": [
      "<HDF5 file \"rrdetails-7-3436-thru20211006.h5\" (mode r)>\n"
     ]
    }
   ],
   "source": [
    "print(fa)"
   ]
  },
  {
   "cell_type": "code",
   "execution_count": null,
   "id": "b42dc335-4ba4-4d6f-ae84-7bcb2e4c5c2f",
   "metadata": {},
   "outputs": [],
   "source": []
  }
 ],
 "metadata": {
  "kernelspec": {
   "display_name": "DESI master",
   "language": "python",
   "name": "desi-master"
  },
  "language_info": {
   "codemirror_mode": {
    "name": "ipython",
    "version": 3
   },
   "file_extension": ".py",
   "mimetype": "text/x-python",
   "name": "python",
   "nbconvert_exporter": "python",
   "pygments_lexer": "ipython3",
   "version": "3.9.7"
  }
 },
 "nbformat": 4,
 "nbformat_minor": 5
}
