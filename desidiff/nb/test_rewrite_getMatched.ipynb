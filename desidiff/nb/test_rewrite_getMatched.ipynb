{
 "cells": [
  {
   "cell_type": "code",
   "execution_count": 2,
   "id": "a8852865-efea-476d-8b30-fcacd566b414",
   "metadata": {},
   "outputs": [],
   "source": [
    "import os\n",
    "import sys\n",
    "from glob import glob\n",
    "\n",
    "module_path = os.path.abspath(os.path.join('../../'))\n",
    "if module_path not in sys.path:\n",
    "    sys.path.append(module_path)\n",
    "    \n",
    "import desispec\n",
    "from desispec.io import read_spectra, write_spectra\n",
    "from desispec.spectra import Spectra\n",
    "\n",
    "from desiutil.log import get_logger, DEBUG\n",
    "\n",
    "from desidiff.src.group_tiles import *\n",
    "from desidiff.src.dates_to_process import *\n",
    "from desidiff.src.coadd import *\n",
    "from desidiff.src.scores import *\n",
    "from desidiff.src.ContinuumFitFilter_desidiff import *\n",
    "\n",
    "from timedomain.sp_utils import SkyPortal as sp\n",
    "import requests\n",
    "import datetime\n",
    "import heapq\n",
    "import time\n",
    "import copy\n",
    "import numpy\n",
    "from astropy.time import Time\n",
    "from astropy.table import Table, vstack, unique, SortedArray\n",
    "\n",
    "%matplotlib inline\n",
    "import matplotlib.pyplot as plt\n",
    "from matplotlib.backends.backend_pdf import PdfPages\n",
    "from IPython import display"
   ]
  },
  {
   "cell_type": "code",
   "execution_count": 3,
   "id": "209c9ced-f38a-4579-8822-a99de37c7a60",
   "metadata": {},
   "outputs": [],
   "source": [
    "#SkyPortal token:\n",
    "secret_file = \"/global/cfs/cdirs/desi/science/td/secrets/desidiff_sp.txt\"\n",
    "with open(secret_file, 'r') as file:\n",
    "    token = file.read().replace('\\n', '')\n",
    "headers = {'Authorization': f'token {token}'}\n",
    "\n",
    "filter_name = 'DESIDIFF'\n",
    "\n",
    "pdf1 = PdfPages(\"All_plots.pdf\")"
   ]
  },
  {
   "cell_type": "code",
   "execution_count": 4,
   "id": "28c5fd2d-5781-48bf-b5fb-a5138bb6a879",
   "metadata": {
    "tags": []
   },
   "outputs": [
    {
     "name": "stdout",
     "output_type": "stream",
     "text": [
      "INFO:spectra.py:291:read_spectra: iotime 0.523 sec to read spectra-6-1097-thru20210608.fits at 2022-07-05T14:47:19.898328\n"
     ]
    }
   ],
   "source": [
    "# read in and store in one place all the fibermap information in the spectra files\n",
    "night = 20210608\n",
    "current_filename = '/global/project/projectdirs/desi/spectro/redux/daily/tiles/cumulative/1097/20210608/spectra-6-1097-thru20210608.fits'\n",
    "\n",
    "tile = current_filename.split('/')[-3]\n",
    "petal = current_filename.split('-')[1]\n",
    "### daily_spectra, the precursor to current spectra, before coadding, to select night, unique target ids, and individual target ids\n",
    "### spectra.select functionality will not work once coadded with coaddition.coadd_cameras\n",
    "daily_spectra = ((read_spectra(current_filename)).select(nights = night))\n",
    "\n",
    "#unique_targetids = numpy.unique(daily_spectra.fibermap['TARGETID'][numpy.where(daily_spectra.fibermap['OBJTYPE']=='TGT')])\n",
    "#print(len(unique_targetids))\n",
    "\n",
    "table = Table.read(current_filename, format='fits',hdu=1, memmap=True) \n",
    "##### DAVE'S ADDITION ##############\n",
    "targetcols = [i for i in table.colnames if i[-7:] =='_TARGET']\n",
    "nonzerocheck = [True in k for k in [[j != 0 for j in table[targetcols][i]] for i in range(len(table))]]\n",
    "#a really ugly line, basically generates a list of bools, \n",
    "#True if there is at least one nonzero element in all columns ending in _TARGET\n",
    "table.remove_rows([i for i, val in enumerate(nonzerocheck) if not val])\n",
    "#This gets the index of all False values from the previous list and removes those rows\n",
    "table = table['TARGETID','TARGET_RA','TARGET_DEC','TILEID','OBJTYPE','PETAL_LOC','FIBERSTATUS','NIGHT']\n",
    "######## END DAVE'S ADDITION ############\n",
    "table = table[numpy.logical_and(table['OBJTYPE']=='TGT', table['FIBERSTATUS']==0)]\n",
    "\n"
   ]
  },
  {
   "cell_type": "code",
   "execution_count": 35,
   "id": "24bcc227-b2a3-4df3-bddd-b7630acf3296",
   "metadata": {},
   "outputs": [
    {
     "name": "stdout",
     "output_type": "stream",
     "text": [
      "229.14264392094805\n"
     ]
    }
   ],
   "source": [
    "ra_dec = (table[table['TARGETID']==t]['TARGET_RA'][0], table[table['TARGETID']==t]['TARGET_DEC'][0])\n",
    "print(ra_dec)"
   ]
  },
  {
   "cell_type": "code",
   "execution_count": 5,
   "id": "911b8672-3c5a-49a2-a721-4a1a8dca81d7",
   "metadata": {},
   "outputs": [
    {
     "name": "stdout",
     "output_type": "stream",
     "text": [
      "INFO:spectra.py:291:read_spectra: iotime 0.497 sec to read coadd-6-1097-thru20210608.fits at 2022-07-05T14:47:30.107542\n"
     ]
    }
   ],
   "source": [
    "ref_filename = '/global/cfs/cdirs/desi/spectro/redux/guadalupe/tiles/cumulative/1097/20210608/coadd-6-1097-thru20210608.fits'\n",
    "\n",
    "if ref_filename.split('/')[-6] == 'fuji' or ref_filename.split('/')[-6] == 'guadalupe':\n",
    "    prev_spectra = read_spectra(ref_filename)\n",
    "    \n"
   ]
  },
  {
   "cell_type": "code",
   "execution_count": 6,
   "id": "b5ba1b26-b06a-47f2-9def-3790c1dae0f0",
   "metadata": {},
   "outputs": [],
   "source": [
    "gen = (t for t in daily_spectra.target_ids()[numpy.where(daily_spectra.fibermap['OBJTYPE']=='TGT')] if t in prev_spectra.target_ids()[numpy.where(prev_spectra.fibermap['OBJTYPE']=='TGT')])\n",
    "for t in gen:\n",
    "    current_spectra = desispec.coaddition.coadd_cameras(daily_spectra.select(targets = t))\n",
    "    ref_spectra = desispec.coaddition.coadd_cameras(prev_spectra.select(targets = t))\n",
    "    norm = normalization(current_spectra.flux, current_spectra.mask, ref_spectra.flux, ref_spectra.mask)"
   ]
  },
  {
   "cell_type": "code",
   "execution_count": 7,
   "id": "31abebaf-978a-463a-8d43-e644bec8376b",
   "metadata": {},
   "outputs": [
    {
     "ename": "KeyboardInterrupt",
     "evalue": "",
     "output_type": "error",
     "traceback": [
      "\u001b[0;31m---------------------------------------------------------------------------\u001b[0m",
      "\u001b[0;31mKeyboardInterrupt\u001b[0m                         Traceback (most recent call last)",
      "\u001b[0;32m/tmp/ipykernel_31292/973692884.py\u001b[0m in \u001b[0;36m<module>\u001b[0;34m\u001b[0m\n\u001b[1;32m      2\u001b[0m     \u001b[0;32mif\u001b[0m \u001b[0mtid\u001b[0m \u001b[0;32min\u001b[0m \u001b[0mprev_spectra\u001b[0m\u001b[0;34m.\u001b[0m\u001b[0mtarget_ids\u001b[0m\u001b[0;34m(\u001b[0m\u001b[0;34m)\u001b[0m\u001b[0;34m[\u001b[0m\u001b[0mnumpy\u001b[0m\u001b[0;34m.\u001b[0m\u001b[0mwhere\u001b[0m\u001b[0;34m(\u001b[0m\u001b[0mprev_spectra\u001b[0m\u001b[0;34m.\u001b[0m\u001b[0mfibermap\u001b[0m\u001b[0;34m[\u001b[0m\u001b[0;34m'OBJTYPE'\u001b[0m\u001b[0;34m]\u001b[0m\u001b[0;34m==\u001b[0m\u001b[0;34m'TGT'\u001b[0m\u001b[0;34m)\u001b[0m\u001b[0;34m]\u001b[0m\u001b[0;34m:\u001b[0m\u001b[0;34m\u001b[0m\u001b[0;34m\u001b[0m\u001b[0m\n\u001b[1;32m      3\u001b[0m         \u001b[0mcurrent_spectra\u001b[0m \u001b[0;34m=\u001b[0m \u001b[0mdesispec\u001b[0m\u001b[0;34m.\u001b[0m\u001b[0mcoaddition\u001b[0m\u001b[0;34m.\u001b[0m\u001b[0mcoadd_cameras\u001b[0m\u001b[0;34m(\u001b[0m\u001b[0mdaily_spectra\u001b[0m\u001b[0;34m.\u001b[0m\u001b[0mselect\u001b[0m\u001b[0;34m(\u001b[0m\u001b[0mtargets\u001b[0m \u001b[0;34m=\u001b[0m \u001b[0mtid\u001b[0m\u001b[0;34m)\u001b[0m\u001b[0;34m)\u001b[0m\u001b[0;34m\u001b[0m\u001b[0;34m\u001b[0m\u001b[0m\n\u001b[0;32m----> 4\u001b[0;31m         \u001b[0mref_spectra\u001b[0m \u001b[0;34m=\u001b[0m \u001b[0mdesispec\u001b[0m\u001b[0;34m.\u001b[0m\u001b[0mcoaddition\u001b[0m\u001b[0;34m.\u001b[0m\u001b[0mcoadd_cameras\u001b[0m\u001b[0;34m(\u001b[0m\u001b[0mprev_spectra\u001b[0m\u001b[0;34m.\u001b[0m\u001b[0mselect\u001b[0m\u001b[0;34m(\u001b[0m\u001b[0mtargets\u001b[0m \u001b[0;34m=\u001b[0m \u001b[0mtid\u001b[0m\u001b[0;34m)\u001b[0m\u001b[0;34m)\u001b[0m\u001b[0;34m\u001b[0m\u001b[0;34m\u001b[0m\u001b[0m\n\u001b[0m\u001b[1;32m      5\u001b[0m \u001b[0;34m\u001b[0m\u001b[0m\n",
      "\u001b[0;32m/global/common/software/desi/cori/desiconda/20211217-2.0.0/code/desispec/master/py/desispec/spectra.py\u001b[0m in \u001b[0;36mselect\u001b[0;34m(self, nights, exposures, bands, targets, fibers, invert, return_index)\u001b[0m\n\u001b[1;32m    373\u001b[0m             \u001b[0;32mraise\u001b[0m \u001b[0mRuntimeError\u001b[0m\u001b[0;34m(\u001b[0m\u001b[0;34m\"selection has no spectra\"\u001b[0m\u001b[0;34m)\u001b[0m\u001b[0;34m\u001b[0m\u001b[0;34m\u001b[0m\u001b[0m\n\u001b[1;32m    374\u001b[0m \u001b[0;34m\u001b[0m\u001b[0m\n\u001b[0;32m--> 375\u001b[0;31m         \u001b[0msp\u001b[0m \u001b[0;34m=\u001b[0m \u001b[0mself\u001b[0m\u001b[0;34m.\u001b[0m\u001b[0m_get_slice\u001b[0m\u001b[0;34m(\u001b[0m\u001b[0mkeep_rows\u001b[0m\u001b[0;34m,\u001b[0m \u001b[0mbands\u001b[0m\u001b[0;34m=\u001b[0m\u001b[0mkeep_bands\u001b[0m\u001b[0;34m)\u001b[0m\u001b[0;34m\u001b[0m\u001b[0;34m\u001b[0m\u001b[0m\n\u001b[0m\u001b[1;32m    376\u001b[0m \u001b[0;34m\u001b[0m\u001b[0m\n\u001b[1;32m    377\u001b[0m         \u001b[0;32mif\u001b[0m \u001b[0mreturn_index\u001b[0m\u001b[0;34m:\u001b[0m\u001b[0;34m\u001b[0m\u001b[0;34m\u001b[0m\u001b[0m\n",
      "\u001b[0;32m/global/common/software/desi/cori/desiconda/20211217-2.0.0/code/desispec/master/py/desispec/spectra.py\u001b[0m in \u001b[0;36m_get_slice\u001b[0;34m(self, index, bands)\u001b[0m\n\u001b[1;32m    299\u001b[0m \u001b[0;34m\u001b[0m\u001b[0m\n\u001b[1;32m    300\u001b[0m         \u001b[0;32mif\u001b[0m \u001b[0mself\u001b[0m\u001b[0;34m.\u001b[0m\u001b[0mfibermap\u001b[0m \u001b[0;32mis\u001b[0m \u001b[0;32mnot\u001b[0m \u001b[0;32mNone\u001b[0m\u001b[0;34m:\u001b[0m\u001b[0;34m\u001b[0m\u001b[0;34m\u001b[0m\u001b[0m\n\u001b[0;32m--> 301\u001b[0;31m             \u001b[0mfibermap\u001b[0m \u001b[0;34m=\u001b[0m \u001b[0mself\u001b[0m\u001b[0;34m.\u001b[0m\u001b[0mfibermap\u001b[0m\u001b[0;34m[\u001b[0m\u001b[0mindex\u001b[0m\u001b[0;34m]\u001b[0m\u001b[0;34m.\u001b[0m\u001b[0mcopy\u001b[0m\u001b[0;34m(\u001b[0m\u001b[0;34m)\u001b[0m\u001b[0;34m\u001b[0m\u001b[0;34m\u001b[0m\u001b[0m\n\u001b[0m\u001b[1;32m    302\u001b[0m \u001b[0;34m\u001b[0m\u001b[0m\n\u001b[1;32m    303\u001b[0m             \u001b[0mexp_fibermap\u001b[0m \u001b[0;34m=\u001b[0m \u001b[0;32mNone\u001b[0m\u001b[0;34m\u001b[0m\u001b[0;34m\u001b[0m\u001b[0m\n",
      "\u001b[0;32m/global/common/software/desi/cori/desiconda/20211217-2.0.0/conda/lib/python3.9/site-packages/astropy/table/table.py\u001b[0m in \u001b[0;36m__getitem__\u001b[0;34m(self, item)\u001b[0m\n\u001b[1;32m   1904\u001b[0m             \u001b[0;31m# is produced by np.where, as in t[np.where(t['a'] > 2)]\u001b[0m\u001b[0;34m\u001b[0m\u001b[0;34m\u001b[0m\u001b[0m\n\u001b[1;32m   1905\u001b[0m             \u001b[0;31m# For all, a new table is constructed with slice of all columns\u001b[0m\u001b[0;34m\u001b[0m\u001b[0;34m\u001b[0m\u001b[0m\n\u001b[0;32m-> 1906\u001b[0;31m             \u001b[0;32mreturn\u001b[0m \u001b[0mself\u001b[0m\u001b[0;34m.\u001b[0m\u001b[0m_new_from_slice\u001b[0m\u001b[0;34m(\u001b[0m\u001b[0mitem\u001b[0m\u001b[0;34m)\u001b[0m\u001b[0;34m\u001b[0m\u001b[0;34m\u001b[0m\u001b[0m\n\u001b[0m\u001b[1;32m   1907\u001b[0m         \u001b[0;32melse\u001b[0m\u001b[0;34m:\u001b[0m\u001b[0;34m\u001b[0m\u001b[0;34m\u001b[0m\u001b[0m\n\u001b[1;32m   1908\u001b[0m             \u001b[0;32mraise\u001b[0m \u001b[0mValueError\u001b[0m\u001b[0;34m(\u001b[0m\u001b[0;34mf'Illegal type {type(item)} for table item access'\u001b[0m\u001b[0;34m)\u001b[0m\u001b[0;34m\u001b[0m\u001b[0;34m\u001b[0m\u001b[0m\n",
      "\u001b[0;32m/global/common/software/desi/cori/desiconda/20211217-2.0.0/conda/lib/python3.9/site-packages/astropy/table/table.py\u001b[0m in \u001b[0;36m_new_from_slice\u001b[0;34m(self, slice_)\u001b[0m\n\u001b[1;32m   1420\u001b[0m         \u001b[0mnewcols\u001b[0m \u001b[0;34m=\u001b[0m \u001b[0;34m[\u001b[0m\u001b[0;34m]\u001b[0m\u001b[0;34m\u001b[0m\u001b[0;34m\u001b[0m\u001b[0m\n\u001b[1;32m   1421\u001b[0m         \u001b[0;32mfor\u001b[0m \u001b[0mcol\u001b[0m \u001b[0;32min\u001b[0m \u001b[0mself\u001b[0m\u001b[0;34m.\u001b[0m\u001b[0mcolumns\u001b[0m\u001b[0;34m.\u001b[0m\u001b[0mvalues\u001b[0m\u001b[0;34m(\u001b[0m\u001b[0;34m)\u001b[0m\u001b[0;34m:\u001b[0m\u001b[0;34m\u001b[0m\u001b[0;34m\u001b[0m\u001b[0m\n\u001b[0;32m-> 1422\u001b[0;31m             \u001b[0mnewcol\u001b[0m \u001b[0;34m=\u001b[0m \u001b[0mcol\u001b[0m\u001b[0;34m[\u001b[0m\u001b[0mslice_\u001b[0m\u001b[0;34m]\u001b[0m\u001b[0;34m\u001b[0m\u001b[0;34m\u001b[0m\u001b[0m\n\u001b[0m\u001b[1;32m   1423\u001b[0m \u001b[0;34m\u001b[0m\u001b[0m\n\u001b[1;32m   1424\u001b[0m             \u001b[0;31m# Note in line below, use direct attribute access to col.indices for Column\u001b[0m\u001b[0;34m\u001b[0m\u001b[0;34m\u001b[0m\u001b[0m\n",
      "\u001b[0;32mastropy/table/_column_mixins.pyx\u001b[0m in \u001b[0;36mastropy.table._column_mixins._ColumnGetitemShim.__getitem__\u001b[0;34m()\u001b[0m\n",
      "\u001b[0;32mastropy/table/_column_mixins.pyx\u001b[0m in \u001b[0;36mastropy.table._column_mixins.base_getitem\u001b[0;34m()\u001b[0m\n",
      "\u001b[0;32mastropy/table/_column_mixins.pyx\u001b[0m in \u001b[0;36mastropy.table._column_mixins.column_getitem\u001b[0;34m()\u001b[0m\n",
      "\u001b[0;32m/global/common/software/desi/cori/desiconda/20211217-2.0.0/conda/lib/python3.9/site-packages/astropy/table/column.py\u001b[0m in \u001b[0;36m__array_finalize__\u001b[0;34m(self, obj)\u001b[0m\n\u001b[1;32m    582\u001b[0m         \u001b[0;32mif\u001b[0m \u001b[0;32mnot\u001b[0m \u001b[0mhasattr\u001b[0m\u001b[0;34m(\u001b[0m\u001b[0mself\u001b[0m\u001b[0;34m,\u001b[0m \u001b[0;34m'indices'\u001b[0m\u001b[0;34m)\u001b[0m\u001b[0;34m:\u001b[0m  \u001b[0;31m# may have been copied in __new__\u001b[0m\u001b[0;34m\u001b[0m\u001b[0;34m\u001b[0m\u001b[0m\n\u001b[1;32m    583\u001b[0m             \u001b[0mself\u001b[0m\u001b[0;34m.\u001b[0m\u001b[0mindices\u001b[0m \u001b[0;34m=\u001b[0m \u001b[0;34m[\u001b[0m\u001b[0;34m]\u001b[0m\u001b[0;34m\u001b[0m\u001b[0;34m\u001b[0m\u001b[0m\n\u001b[0;32m--> 584\u001b[0;31m         \u001b[0mself\u001b[0m\u001b[0;34m.\u001b[0m\u001b[0m_copy_attrs\u001b[0m\u001b[0;34m(\u001b[0m\u001b[0mobj\u001b[0m\u001b[0;34m)\u001b[0m\u001b[0;34m\u001b[0m\u001b[0;34m\u001b[0m\u001b[0m\n\u001b[0m\u001b[1;32m    585\u001b[0m         \u001b[0;32mif\u001b[0m \u001b[0;34m'info'\u001b[0m \u001b[0;32min\u001b[0m \u001b[0mgetattr\u001b[0m\u001b[0;34m(\u001b[0m\u001b[0mobj\u001b[0m\u001b[0;34m,\u001b[0m \u001b[0;34m'__dict__'\u001b[0m\u001b[0;34m,\u001b[0m \u001b[0;34m{\u001b[0m\u001b[0;34m}\u001b[0m\u001b[0;34m)\u001b[0m\u001b[0;34m:\u001b[0m\u001b[0;34m\u001b[0m\u001b[0;34m\u001b[0m\u001b[0m\n\u001b[1;32m    586\u001b[0m             \u001b[0mself\u001b[0m\u001b[0;34m.\u001b[0m\u001b[0minfo\u001b[0m \u001b[0;34m=\u001b[0m \u001b[0mobj\u001b[0m\u001b[0;34m.\u001b[0m\u001b[0minfo\u001b[0m\u001b[0;34m\u001b[0m\u001b[0;34m\u001b[0m\u001b[0m\n",
      "\u001b[0;32m/global/common/software/desi/cori/desiconda/20211217-2.0.0/conda/lib/python3.9/site-packages/astropy/table/column.py\u001b[0m in \u001b[0;36m_copy_attrs\u001b[0;34m(self, obj)\u001b[0m\n\u001b[1;32m    954\u001b[0m         \"\"\"\n\u001b[1;32m    955\u001b[0m         \u001b[0;32mfor\u001b[0m \u001b[0mattr\u001b[0m \u001b[0;32min\u001b[0m \u001b[0;34m(\u001b[0m\u001b[0;34m'name'\u001b[0m\u001b[0;34m,\u001b[0m \u001b[0;34m'unit'\u001b[0m\u001b[0;34m,\u001b[0m \u001b[0;34m'_format'\u001b[0m\u001b[0;34m,\u001b[0m \u001b[0;34m'description'\u001b[0m\u001b[0;34m)\u001b[0m\u001b[0;34m:\u001b[0m\u001b[0;34m\u001b[0m\u001b[0;34m\u001b[0m\u001b[0m\n\u001b[0;32m--> 956\u001b[0;31m             \u001b[0mval\u001b[0m \u001b[0;34m=\u001b[0m \u001b[0mgetattr\u001b[0m\u001b[0;34m(\u001b[0m\u001b[0mobj\u001b[0m\u001b[0;34m,\u001b[0m \u001b[0mattr\u001b[0m\u001b[0;34m,\u001b[0m \u001b[0;32mNone\u001b[0m\u001b[0;34m)\u001b[0m\u001b[0;34m\u001b[0m\u001b[0;34m\u001b[0m\u001b[0m\n\u001b[0m\u001b[1;32m    957\u001b[0m             \u001b[0msetattr\u001b[0m\u001b[0;34m(\u001b[0m\u001b[0mself\u001b[0m\u001b[0;34m,\u001b[0m \u001b[0mattr\u001b[0m\u001b[0;34m,\u001b[0m \u001b[0mval\u001b[0m\u001b[0;34m)\u001b[0m\u001b[0;34m\u001b[0m\u001b[0;34m\u001b[0m\u001b[0m\n\u001b[1;32m    958\u001b[0m \u001b[0;34m\u001b[0m\u001b[0m\n",
      "\u001b[0;32m/global/common/software/desi/cori/desiconda/20211217-2.0.0/conda/lib/python3.9/site-packages/astropy/table/column.py\u001b[0m in \u001b[0;36mname\u001b[0;34m(self)\u001b[0m\n\u001b[1;32m    620\u001b[0m         \u001b[0mThe\u001b[0m \u001b[0mname\u001b[0m \u001b[0mof\u001b[0m \u001b[0mthis\u001b[0m \u001b[0mcolumn\u001b[0m\u001b[0;34m.\u001b[0m\u001b[0;34m\u001b[0m\u001b[0;34m\u001b[0m\u001b[0m\n\u001b[1;32m    621\u001b[0m         \"\"\"\n\u001b[0;32m--> 622\u001b[0;31m         \u001b[0;32mreturn\u001b[0m \u001b[0mself\u001b[0m\u001b[0;34m.\u001b[0m\u001b[0m_name\u001b[0m\u001b[0;34m\u001b[0m\u001b[0;34m\u001b[0m\u001b[0m\n\u001b[0m\u001b[1;32m    623\u001b[0m \u001b[0;34m\u001b[0m\u001b[0m\n\u001b[1;32m    624\u001b[0m     \u001b[0;34m@\u001b[0m\u001b[0mname\u001b[0m\u001b[0;34m.\u001b[0m\u001b[0msetter\u001b[0m\u001b[0;34m\u001b[0m\u001b[0;34m\u001b[0m\u001b[0m\n",
      "\u001b[0;31mKeyboardInterrupt\u001b[0m: "
     ]
    }
   ],
   "source": [
    "for tid in daily_spectra.target_ids()[numpy.where(daily_spectra.fibermap['OBJTYPE']=='TGT')]:\n",
    "    if tid in prev_spectra.target_ids()[numpy.where(prev_spectra.fibermap['OBJTYPE']=='TGT')]:\n",
    "        ### copy.deepcopy() is deprecated as memory expensive\n",
    "        current_spectra = desispec.coaddition.coadd_cameras(daily_spectra.select(targets = tid))\n",
    "        \n",
    "        ref_spectra = desispec.coaddition.coadd_cameras(prev_spectra.select(targets = tid))\n",
    "        \n",
    "        norm = normalization(current_spectra.flux, current_spectra.mask, ref_spectra.flux, ref_spectra.mask)\n",
    "        diff_spectra = copy.deepcopy(current_spectra)\n",
    "        print(diff_spectra.num_targets())\n",
    "        #current_spectra.flux['brz'] = current_spectra.flux['brz']/norm\n",
    "        \n",
    "        #current_spectra.ivar['brz'] = current_spectra.ivar['brz']*norm**2  \n",
    "        \n",
    "        # subtraction of current and reference fluxes\n",
    "        #dif_spectra.flux = current_spectra.flux['brz'] - ref_current_spectra.flux['brz']\n",
    "        \n",
    "        # summation of current and reference masks        \n",
    "        #dif_spectra.mask['brz'] = current_spectra.mask['brz'] + ref_current_spectra.mask['brz']\n",
    "\n",
    "        # inverted summation of current and spectra inverse variance\n",
    "        ### still returning RuntimeWarning: divide by zero encountered in true_divide but not in infinite loop for the moment\n",
    "        #dif_spectra.ivar['brz'] = 1./(1./current_spectra.ivar['brz'] + 1./ref_current_spectra.ivar['brz'])\n",
    "        \n",
    "        # mean-subtracted difference\n",
    "        #clippy = clipmean(dif_spectra.flux['brz'],diff_ivar,diff_mask)\n",
    " \n",
    "  "
   ]
  },
  {
   "cell_type": "code",
   "execution_count": 7,
   "id": "56e0bd80-2d10-48be-af38-f6d89b2dcd17",
   "metadata": {},
   "outputs": [
    {
     "name": "stdout",
     "output_type": "stream",
     "text": [
      "39627891209668033\n"
     ]
    }
   ],
   "source": [
    "#print(tid)\n",
    "print(t)"
   ]
  },
  {
   "cell_type": "code",
   "execution_count": 6,
   "id": "23efe270-dbdb-4654-bc74-af5e0daee41a",
   "metadata": {},
   "outputs": [
    {
     "name": "stdout",
     "output_type": "stream",
     "text": [
      "1\n"
     ]
    },
    {
     "name": "stderr",
     "output_type": "stream",
     "text": [
      "/tmp/ipykernel_63434/262105920.py:22: RuntimeWarning: divide by zero encountered in true_divide\n",
      "  dif_spectra.ivar['brz'] = 1./(1./current_spectra.ivar['brz'] + 1./ref_spectra.ivar['brz'])\n"
     ]
    }
   ],
   "source": [
    "\n",
    "current_spectra = desispec.coaddition.coadd_cameras(daily_spectra.select(targets = t))\n",
    "\n",
    "ref_spectra = desispec.coaddition.coadd_cameras(prev_spectra.select(targets = t))\n",
    "\n",
    "norm = normalization(current_spectra.flux, current_spectra.mask, ref_spectra.flux, ref_spectra.mask)\n",
    "\n",
    "current_spectra.flux['brz'] = current_spectra.flux['brz']/norm\n",
    "\n",
    "current_spectra.ivar['brz'] = current_spectra.ivar['brz']*norm**2  \n",
    "### copy.deepcopy() is deprecated as memory expensive\n",
    "dif_spectra = copy.deepcopy(current_spectra)\n",
    "print(dif_spectra.num_targets())\n",
    "\n",
    "# subtraction of current and reference fluxes\n",
    "dif_spectra.flux['brz'] = current_spectra.flux['brz'] - ref_spectra.flux['brz']\n",
    "\n",
    "# summation of current and reference masks        \n",
    "dif_spectra.mask['brz'] = current_spectra.mask['brz'] + ref_spectra.mask['brz']\n",
    "\n",
    "# inverted summation of current and spectra inverse variance\n",
    "### still returning RuntimeWarning: divide by zero encountered in true_divide but not in infinite loop for the moment\n",
    "dif_spectra.ivar['brz'] = 1./(1./current_spectra.ivar['brz'] + 1./ref_spectra.ivar['brz'])\n",
    "\n"
   ]
  },
  {
   "cell_type": "code",
   "execution_count": 7,
   "id": "9715deec-90c2-4fff-a624-6bc94ae421fb",
   "metadata": {},
   "outputs": [],
   "source": [
    "# mean-subtracted difference\n",
    "dif_flux_clipped = clipmean(dif_spectra.flux, dif_spectra.ivar, dif_spectra.mask)"
   ]
  },
  {
   "cell_type": "code",
   "execution_count": 47,
   "id": "6e4d9c7d-aed2-4383-aade-e6626ce94df7",
   "metadata": {},
   "outputs": [
    {
     "name": "stdout",
     "output_type": "stream",
     "text": [
      "{'brz': array([[-1.43442289, -1.371912  , -0.13772431, ...,  0.14851908,\n",
      "         0.11883302,  0.04833728]])}\n",
      "[[-1.43442289 -1.371912   -0.13772431 ...  0.14851908  0.11883302\n",
      "   0.04833728]]\n",
      "[-1.43442289 -1.371912   -0.13772431 ...  0.14851908  0.11883302\n",
      "  0.04833728]\n"
     ]
    }
   ],
   "source": [
    "print(dif_flux_clipped)\n",
    "print(dif_flux_clipped['brz'])\n",
    "print(dif_flux_clipped['brz'][0])"
   ]
  },
  {
   "cell_type": "code",
   "execution_count": 8,
   "id": "0dba672f-22ea-470d-9d00-e629727661c8",
   "metadata": {},
   "outputs": [],
   "source": [
    "# filters \n",
    "\n",
    "# Difference spectrum may have broadband signal\n",
    "perband_filter = perband_SN(dif_flux_clipped, dif_spectra.ivar, dif_spectra.mask)\n"
   ]
  },
  {
   "cell_type": "code",
   "execution_count": 140,
   "id": "6d49285d-ca1e-4e2c-8c94-4788325f52c0",
   "metadata": {
    "tags": []
   },
   "outputs": [
    {
     "name": "stdout",
     "output_type": "stream",
     "text": [
      "{'brz': array([[0, 0, 0, ..., 0, 0, 0]], dtype=uint32)}\n",
      "{'brz': array([[-1.43442289, -1.371912  , -0.13772431, ...,  0.14851908,\n",
      "         0.11883302,  0.04833728]])}\n",
      "{'brz': array([[-1.43442289, -1.371912  , -0.13772431, ...,  0.14851908,\n",
      "         0.11883302,  0.04833728]])}\n",
      "[False False False ... False False False] 1\n",
      "7777\n",
      "[-0.3341374  -0.33886909 -0.30655877 ...  0.57731738  0.63376811\n",
      "  0.7049891 ]\n",
      "0\n"
     ]
    },
    {
     "name": "stderr",
     "output_type": "stream",
     "text": [
      "/tmp/ipykernel_46155/2070089250.py:29: RuntimeWarning: divide by zero encountered in true_divide\n",
      "  newston[b] = numpy.array(numpy.convolve(newy[b][0], conk, mode='valid') / numpy.sqrt(numpy.convolve(1/dif_spectra.ivar[b][0], conk, mode='valid')))\n"
     ]
    }
   ],
   "source": [
    "def perconv_SN(wave, dif_flux_clipped, ivar, mask, ncon=5, nsig=10):\n",
    "    ncon = 5\n",
    "    nsig = 10\n",
    "    newmask = dict(dif_spectra.mask)\n",
    "    print(newmask)\n",
    "\n",
    "    newston = dict(dif_flux_clipped)\n",
    "    print(newston)\n",
    "\n",
    "    newy = dict(dif_flux_clipped)\n",
    "    print(newy)\n",
    "\n",
    "    conk = numpy.zeros(ncon) + 1.\n",
    "\n",
    "    nTrue = 0\n",
    "    for b in newston.keys():\n",
    "        # mask lines that are smaller than the ncov\n",
    "        f_logic = numpy.abs(dif_flux_clipped[b]*numpy.sqrt(dif_spectra.ivar[b])) > 8\n",
    "        index=0\n",
    "        for _, g in itertools.groupby(f_logic):\n",
    "            ng  = sum(1 for _ in g)\n",
    "            print(_, ng)\n",
    "            for x in _:\n",
    "                if x and ng<=3:\n",
    "                    newy[b][index:index+ng] = 0\n",
    "            index=index+ng\n",
    "\n",
    "\n",
    "        newston[b] = numpy.array(numpy.convolve(newy[b][0], conk, mode='valid') / numpy.sqrt(numpy.convolve(1/dif_spectra.ivar[b][0], conk, mode='valid')))\n",
    "        newmask[b] = numpy.array(numpy.convolve(dif_spectra.mask[b][0], conk, mode='valid'))\n",
    "\n",
    "        w = numpy.where(newmask[b] == 0)[0]\n",
    "        print(newston[b].size)\n",
    "        print(newston[b][w])\n",
    "        for gb0,_ in itertools.groupby(newston[b][w] > nsig):\n",
    "            if gb0:\n",
    "                nTrue=nTrue+1\n",
    "    print(nTrue)\n"
   ]
  },
  {
   "cell_type": "code",
   "execution_count": 9,
   "id": "dd6eff16-db6a-41b3-b19c-d7c81e27c77e",
   "metadata": {},
   "outputs": [],
   "source": [
    "def test_perconv_SN(y, ivar, mask, ncon=5, nsig=10):\n",
    "    newmask = dict(mask)\n",
    "    newston = dict(y)\n",
    "    newy = dict(y)\n",
    "    conk = numpy.zeros(ncon) + 1.\n",
    "\n",
    "    nTrue = 0\n",
    "    for b in newston.keys():\n",
    "        # mask lines that are smaller than the ncov\n",
    "\n",
    "        f_logic = numpy.abs(y[b]*numpy.sqrt(ivar[b])) > 8\n",
    "        index=0\n",
    "        for _, g in itertools.groupby(f_logic):\n",
    "            ng  = sum(1 for _ in g)\n",
    "            for x in _:\n",
    "                if x and ng<=3:\n",
    "                    newy[b][index:index+ng] = 0\n",
    "                index=index+ng\n",
    "\n",
    "        newston[b]=numpy.array(numpy.convolve(newy[b][0], conk, mode='valid') / numpy.sqrt(numpy.convolve(1/ivar[b][0], conk, mode='valid')))\n",
    "        newmask[b] = numpy.array(numpy.convolve(mask[b][0], conk, mode='valid'))\n",
    "\n",
    "        w = numpy.where(newmask[b] == 0)[0]\n",
    "        for gb0,_ in itertools.groupby(newston[b][w] > nsig):\n",
    "            if gb0:\n",
    "                nTrue=nTrue+1\n",
    "    return nTrue"
   ]
  },
  {
   "cell_type": "code",
   "execution_count": 10,
   "id": "53a4000c-6624-4e51-99df-ec06b2ac5e5c",
   "metadata": {},
   "outputs": [
    {
     "name": "stderr",
     "output_type": "stream",
     "text": [
      "/tmp/ipykernel_63434/3042030317.py:20: RuntimeWarning: divide by zero encountered in true_divide\n",
      "  newston[b]=numpy.array(numpy.convolve(newy[b][0], conk, mode='valid') / numpy.sqrt(numpy.convolve(1/ivar[b][0], conk, mode='valid')))\n"
     ]
    }
   ],
   "source": [
    "\n",
    "# fractional increase\n",
    "perband_inc = perband_increase(dif_flux_clipped, dif_spectra.ivar, dif_spectra.mask, ref_spectra.flux, ref_spectra.ivar, ref_spectra.mask)\n",
    "\n",
    "# Difference spectrum may have high-frequency signal\n",
    "perres_filter_broad = test_perconv_SN(dif_flux_clipped, dif_spectra.ivar, dif_spectra.mask, ncon = 100, nsig = 17)\n",
    "\n",
    "perres_filter_narrow = test_perconv_SN(dif_flux_clipped, dif_spectra.ivar, dif_spectra.mask, ncon = 5, nsig = 10)\n",
    "\n"
   ]
  },
  {
   "cell_type": "code",
   "execution_count": 11,
   "id": "25d7cdb3-bc4d-458f-8d9e-d087a1fb325c",
   "metadata": {},
   "outputs": [],
   "source": [
    "import h5py\n",
    "\n",
    "#redrock = Table.read(current_filename.replace('spectra','redrock'), format='fits',hdu=1, memmap=True)['TARGETID','Z','ZERR','ZWARN','SPECTYPE']\n"
   ]
  },
  {
   "cell_type": "code",
   "execution_count": 12,
   "id": "2dd76a1f-438b-4a7f-917f-7063cc6de2ed",
   "metadata": {},
   "outputs": [
    {
     "name": "stdout",
     "output_type": "stream",
     "text": [
      "/global/project/projectdirs/desi/spectro/redux/daily/tiles/cumulative/1097/20210608/spectra-6-1097-thru20210608.fits\n",
      "/global/project/projectdirs/desi/spectro/redux/daily/tiles/cumulative/1097/20210608/redrock-6-1097-thru20210608.fits\n",
      "/global/project/projectdirs/desi/spectro/redux/daily/tiles/cumulative/1097/20210608/redrock-6-1097-thru20210608.h5\n"
     ]
    }
   ],
   "source": [
    "print(current_filename)\n",
    "current_filename = current_filename.replace('spectra','redrock')\n",
    "print(current_filename)\n",
    "current_filename = current_filename.replace('fits','h5')\n",
    "print(current_filename)"
   ]
  },
  {
   "cell_type": "code",
   "execution_count": 13,
   "id": "482f29f7-d625-4c0c-b474-b1141a3fd170",
   "metadata": {},
   "outputs": [],
   "source": [
    "with h5py.File(current_filename, \"r\") as f:\n",
    "    zinfo = f['zfit']['39627867075642519']['zfit'][0]['z']"
   ]
  },
  {
   "cell_type": "code",
   "execution_count": 108,
   "id": "ac38c770-e23a-443c-ac04-83f21b607f2b",
   "metadata": {},
   "outputs": [
    {
     "name": "stdout",
     "output_type": "stream",
     "text": [
      "0.5941702367437508\n"
     ]
    }
   ],
   "source": [
    "print(zinfo)"
   ]
  },
  {
   "cell_type": "code",
   "execution_count": 15,
   "id": "53020dd1-f334-4767-83ea-e58f34fd3283",
   "metadata": {
    "tags": []
   },
   "outputs": [],
   "source": [
    "def test_line_finder(wave, flux,ivar,mask,z):\n",
    "    c = 2.99e5 #km/s\n",
    "\n",
    "    lines = ['Halpha','Hbeta', 'Hgamma','HeII4686','OIII5007','NIII','SII','OIII4959']\n",
    "    restwavelengths = [6562,4861,4340,4686,5007,4100, 6732,4959]\n",
    "    \n",
    "    key = list(wave.keys())[0] #if data is coadded, should be the first key\n",
    "        \n",
    "    \n",
    "    wave, flux, mask, ivar = wave[key], flux[key][0], mask[key][0], ivar[key][0]\n",
    "    \n",
    "    \n",
    "    HB_center = list(abs(wave-4861.4)).index(min(abs(wave - 4861.4)))\n",
    "    HBmask = mask[HB_center - 400:HB_center + 400]\n",
    "    HBroi = ma.masked_array(wave[HB_center - 400:HB_center + 400], HBmask)\n",
    "    HBflux = ma.masked_array(flux[HB_center - 400:HB_center + 400], HBmask)\n",
    "    HBivar = ivar[HB_center - 400:HB_center + 400]\n",
    "    HBsigma = 1/np.sqrt(HBivar)\n",
    "    HBsigma = ma.masked_array(HBsigma, HBmask)\n",
    "    \n",
    "    \n",
    "    Ha_center = list(abs(wave-6562.79)).index(min(abs(wave - 6562.79)))\n",
    "    Hamask = mask[Ha_center - 300:Ha_center + 300]\n",
    "    Haroi = ma.masked_array(wave[Ha_center - 300:Ha_center + 300], Hamask)\n",
    "    Haflux = ma.masked_array(flux[Ha_center - 300:Ha_center + 300], Hamask)\n",
    "    Haivar = ivar[Ha_center - 300:Ha_center + 300]\n",
    "    Hasigma = 1/np.sqrt(Haivar)\n",
    "    Hasigma = ma.masked_array(Hasigma, Hamask)\n",
    "    \n",
    "    NIII_center = list(abs(wave-4200)).index(min(abs(wave - 4200)))\n",
    "    NIIImask = mask[NIII_center - 250:NIII_center + 250]\n",
    "    NIIIroi = ma.masked_array(wave[NIII_center- 250:NIII_center+250], NIIImask)\n",
    "    NIIIflux = ma.masked_array(flux[NIII_center- 250:NIII_center+250], NIIImask)    \n",
    "    NIIIivar = ivar[NIII_center - 250:NIII_center + 250]\n",
    "    NIIIsigma = 1/np.sqrt(NIIIivar)\n",
    "    NIIIsigma = ma.masked_array(NIIIsigma, NIIImask)\n",
    "    \n",
    "    try:\n",
    "        HBopt, HBcov = curve_fit(HBgaus, HBroi[~HBroi.mask], HBflux[~HBflux.mask], \\\n",
    "                                 p0 = [1,3,1,5,5,0.125,5,0.125],sigma = HBsigma[~HBsigma.mask], \\\n",
    "                                 maxfev = 3000, absolute_sigma = True, check_finite = False)\n",
    "    except (ValueError, RuntimeError) as e:\n",
    "        HBopt = [1,1,1,1,1,1,1,1]\n",
    "        HBcov = np.ones((8,8))\n",
    "    \n",
    "    try:\n",
    "        Haopt, Hacov = curve_fit(Hagaus, Haroi[~Haroi.mask], Haflux[~Haflux.mask], \\\n",
    "                             p0 = [3,5,1,1],sigma = Hasigma[~Hasigma.mask], \\\n",
    "                                 maxfev = 3000, absolute_sigma = True, check_finite = False)\n",
    "    except (ValueError, RuntimeError) as e:\n",
    "        Haopt = [1,1,1,1]\n",
    "        Hacov = np.ones((4,4))\n",
    "    try:\n",
    "        NIIIopt, NIIIcov = curve_fit(NIIIgaus, NIIIroi[~NIIIroi.mask], NIIIflux[~NIIIflux.mask], \\\n",
    "                         p0 = [1,2,1,3],sigma = NIIIsigma[~NIIIsigma.mask], \\\n",
    "                                     maxfev = 3000,absolute_sigma = True, check_finite = False)\n",
    "    except (ValueError, RuntimeError) as e:\n",
    "        NIIIopt = [1,1,1,1]\n",
    "        NIIIcov = np.ones((4,4))\n",
    "\n",
    "\n",
    "    \n",
    "    \n",
    "    Haexp = Hagaus(Haroi, *Haopt)\n",
    "    rHa = Haflux - Haexp\n",
    "    Hachisq = np.sum(rHa**2/Hasigma**2)\n",
    "    Hachisq = Hachisq/(len(Haroi)-len(Haopt))\n",
    "    \n",
    "    HBexp = HBgaus(HBroi, *HBopt)\n",
    "    rHB = HBflux - HBexp\n",
    "    HBchisq = np.sum(rHB**2/HBsigma**2)\n",
    "    HBchisq = HBchisq/(len(HBroi)-len(HBopt))\n",
    "    \n",
    "    \n",
    "    NIIIexp = NIIIgaus(NIIIroi, *NIIIopt)\n",
    "    rNIII = NIIIflux - NIIIexp\n",
    "    NIIIchisq = np.sum(rNIII**2/NIIIsigma**2)\n",
    "    NIIIchisq = NIIIchisq/(len(NIIIroi)-len(NIIIopt))\n",
    "    \n",
    "    Hacov = abs(Hacov)\n",
    "    HBcov = abs(HBcov)\n",
    "    NIIIcov = abs(NIIIcov)\n",
    "    heights = []\n",
    "    heights_err = []\n",
    "    means = []\n",
    "    means_err = []\n",
    "    sigmas = []\n",
    "    sigmas_err = []\n",
    "    vs = []\n",
    "    chi2s = []\n",
    "    \n",
    "    heights.append(Haopt[0]) #Ha data\n",
    "    # means.append(Haopt[1])\n",
    "    sigmas.append(Haopt[1])\n",
    "    vs.append((Haopt[1]*2.355/6562)*c)\n",
    "    heights_err.append(np.sqrt(Hacov[0][0]))\n",
    "    # means_err.append(np.sqrt(Hacov[1][1]))\n",
    "    sigmas_err.append(np.sqrt(Hacov[1][1]))\n",
    "    chi2s.append(Hachisq)\n",
    "    \n",
    "    heights.append(HBopt[0]) #HB data\n",
    "    # means.append(HBopt[4])\n",
    "    sigmas.append(HBopt[1])\n",
    "    vs.append((HBopt[1]*2.355/4861)*c)\n",
    "    heights_err.append(np.sqrt(HBcov[0][0]))\n",
    "    # means_err.append(np.sqrt(HBcov[4][4]))\n",
    "    sigmas_err.append(np.sqrt(HBcov[1][1]))\n",
    "    chi2s.append(HBchisq)\n",
    "    \n",
    "    heights.append(NIIIopt[2]) #Hgamma data\n",
    "    # means.append(NIIIopt[4])\n",
    "    sigmas.append(NIIIopt[3])\n",
    "    vs.append((NIIIopt[3]*2.355/4340)*c)\n",
    "    heights_err.append(np.sqrt(NIIIcov[2][2]))\n",
    "    # # means_err.append(np.sqrt(NIIIcov[4][4]))\n",
    "    sigmas_err.append(np.sqrt(NIIIcov[3][3]))\n",
    "    chi2s.append(NIIIchisq)\n",
    "         \n",
    "    heights.append(HBopt[2]) #HeII4686 data\n",
    "    # means.append(HBopt[1])\n",
    "    sigmas.append(HBopt[3])\n",
    "    vs.append((HBopt[3]*2.355/4686)*c)\n",
    "    heights_err.append(np.sqrt(HBcov[2][2]))\n",
    "    # means_err.append(np.sqrt(HBcov[1][1]))\n",
    "    sigmas_err.append(np.sqrt(HBcov[3][3]))\n",
    "    chi2s.append(HBchisq)\n",
    "    \n",
    "    heights.append(HBopt[4]) #OIII5007 data\n",
    "    # means.append(HBopt[7])\n",
    "    sigmas.append(HBopt[5])\n",
    "    vs.append((HBopt[5]/5007)*c)\n",
    "    heights_err.append(np.sqrt(HBcov[4][4]))\n",
    "    # means_err.append(np.sqrt(HBcov[7][7]))\n",
    "    sigmas_err.append(np.sqrt(HBcov[5][5]))   \n",
    "    chi2s.append(HBchisq)\n",
    "\n",
    "    heights.append(NIIIopt[0])#NIII data\n",
    "    # means.append(NIIIopt[1])\n",
    "    sigmas.append(NIIIopt[1])\n",
    "    vs.append((NIIIopt[1]*2.355/4100)*c)\n",
    "    heights_err.append(np.sqrt(NIIIcov[0][0]))\n",
    "    # means_err.append(np.sqrt(NIIIcov[1][1]))\n",
    "    sigmas_err.append(np.sqrt(NIIIcov[2][2]))\n",
    "    chi2s.append(NIIIchisq)\n",
    "    \n",
    "    heights.append(Haopt[2]) #SII data\n",
    "    # means.append(Haopt[4])\n",
    "    sigmas.append(Haopt[3])\n",
    "    vs.append((Haopt[3]*2.355/6732)*c)\n",
    "    heights_err.append(np.sqrt(Hacov[2][2]))\n",
    "    # means_err.append(np.sqrt(Hacov[2][2]))\n",
    "    sigmas_err.append(np.sqrt(Hacov[3][3]))\n",
    "    chi2s.append(Hachisq)\n",
    "    \n",
    "    heights.append(HBopt[6]) #OIII4959data\n",
    "    # means.append(HBopt[10])\n",
    "    sigmas.append(HBopt[7])\n",
    "    vs.append((HBopt[7]/4959)*c)\n",
    "    heights_err.append(np.sqrt(HBcov[6][6]))\n",
    "    # means_err.append(np.sqrt(HBcov[10][10]))\n",
    "    sigmas_err.append(np.sqrt(HBcov[7][7]))   \n",
    "    chi2s.append(HBchisq)\n",
    "\n",
    "    \n",
    "    \n",
    "    sigmas = [abs(i) for i in sigmas]\n",
    "    vs = [abs(i) for i in vs]\n",
    "    linetable = Table([lines,restwavelengths,heights,heights_err,sigmas,sigmas_err,\\\n",
    "                  vs,chi2s],names = ('Line','Wavelength','Height','e_Height','Sigma',\\\n",
    "                               'e_Sigma','Velocity','Chi Square'))\n",
    "    linetable = linetable.to_pandas()\n",
    "    return linetable"
   ]
  },
  {
   "cell_type": "code",
   "execution_count": 90,
   "id": "e06da435-4abc-4091-9116-c19638763d49",
   "metadata": {
    "tags": []
   },
   "outputs": [
    {
     "name": "stdout",
     "output_type": "stream",
     "text": [
      "brz\n",
      "[3600.  3600.8 3601.6 ... 9822.4 9823.2 9824. ]\n",
      "[1261.4 1260.6 1259.8 ... 4961.  4961.8 4962.6]\n",
      "0.20000000028721843\n",
      "1577\n",
      "[3600.  3600.8 3601.6 ... 9822.4 9823.2 9824. ] [-1.42623704 -1.36372615 -0.12953845 ...  0.15670493  0.12701888\n",
      "  0.05652314] [0 0 0 ... 0 0 0] [ 0.03366957  0.05249168  0.05169035 ...  3.96493107  6.26921934\n",
      " 11.54457225]\n"
     ]
    }
   ],
   "source": [
    "#def line_finder(wave, flux,ivar,mask,z):\n",
    "#dif_spectra.wave, dif_flux_clipped, dif_spectra.ivar, dif_spectra.mask, zinfo\n",
    "c = 2.99e5 #km/s\n",
    "\n",
    "lines = ['Halpha','Hbeta', 'Hgamma','HeII4686','OIII5007','NIII','SII','OIII4959']\n",
    "restwavelengths = [6562, 4861, 4340, 4686, 5007, 4100, 6732, 4959]\n",
    "\n",
    "key = list(dif_spectra.wave.keys())[0] #if data is coadded, should be the first key\n",
    "print(key)\n",
    "print(dif_spectra.wave[key])\n",
    "wave, flux, mask, ivar = dif_spectra.wave[key], dif_spectra.flux[key][0], dif_spectra.mask[key][0], dif_spectra.ivar[key][0]\n",
    "print(abs(wave - 4861.4))\n",
    "print(min(abs(wave - 4861.4)))\n",
    "HB_center = list(abs(wave - 4861.4)).index(min(abs(wave - 4861.4)))\n",
    "print(HB_center)\n",
    "print(wave, flux, mask, ivar)"
   ]
  },
  {
   "cell_type": "code",
   "execution_count": 95,
   "id": "92318a92-d333-4c18-a948-25dc174177db",
   "metadata": {
    "tags": []
   },
   "outputs": [
    {
     "name": "stdout",
     "output_type": "stream",
     "text": [
      "0\n",
      "4541.600000000214\n",
      "-0.13795701619652845\n",
      "1.430518869917547\n",
      "0.8360903377067204\n",
      "0.8360903377067204\n"
     ]
    }
   ],
   "source": [
    "HBmask = mask[HB_center - 400:HB_center + 400]\n",
    "print(HBmask[0])\n",
    "\n",
    "HBroi = ma.masked_array(wave[HB_center - 400:HB_center + 400], HBmask)\n",
    "print(HBroi[0])\n",
    "\n",
    "HBflux = ma.masked_array(flux[HB_center - 400:HB_center + 400], HBmask)\n",
    "print(HBflux[0])\n",
    "\n",
    "HBivar = ivar[HB_center - 400:HB_center + 400]\n",
    "print(HBivar[0])\n",
    "\n",
    "HBsigma = 1/np.sqrt(HBivar)\n",
    "print(HBsigma[0])\n",
    "\n",
    "HBsigma = ma.masked_array(HBsigma, HBmask)\n",
    "print(HBsigma[0])"
   ]
  },
  {
   "cell_type": "code",
   "execution_count": 97,
   "id": "b321a5af-c413-4827-a370-53b7086107bf",
   "metadata": {
    "tags": []
   },
   "outputs": [
    {
     "name": "stderr",
     "output_type": "stream",
     "text": [
      "/tmp/ipykernel_52176/845917901.py:6: RuntimeWarning: divide by zero encountered in true_divide\n",
      "  Hasigma = 1/np.sqrt(Haivar)\n"
     ]
    },
    {
     "name": "stdout",
     "output_type": "stream",
     "text": [
      "       Line  Wavelength    Height  e_Height       Sigma    e_Sigma  \\\n",
      "0    Halpha        6562  0.053109       inf  114.193357        inf   \n",
      "1     Hbeta        4861  1.000000  1.000000    1.000000   1.000000   \n",
      "2    Hgamma        4340 -0.074375  0.375874    3.544044  21.578273   \n",
      "3  HeII4686        4686  1.000000  1.000000    1.000000   1.000000   \n",
      "4  OIII5007        5007  1.000000  1.000000    1.000000   1.000000   \n",
      "5      NIII        4100 -0.138886  0.540920    2.708409   0.375874   \n",
      "6       SII        6732 -0.066593       inf    0.015393        inf   \n",
      "7  OIII4959        4959  1.000000  1.000000    1.000000   1.000000   \n",
      "\n",
      "       Velocity  Chi Square  \n",
      "0  12253.685014    0.023840  \n",
      "1    144.855997    0.062057  \n",
      "2    575.004847    0.030214  \n",
      "3    150.265685    0.062057  \n",
      "4     59.716397    0.062057  \n",
      "5    465.149450    0.030214  \n",
      "6      1.610079    0.023840  \n",
      "7     60.294414    0.062057  \n"
     ]
    },
    {
     "name": "stderr",
     "output_type": "stream",
     "text": [
      "/global/common/software/desi/cori/desiconda/20211217-2.0.0/conda/lib/python3.9/site-packages/scipy/optimize/minpack.py:833: OptimizeWarning: Covariance of the parameters could not be estimated\n",
      "  warnings.warn('Covariance of the parameters could not be estimated',\n"
     ]
    }
   ],
   "source": [
    "\n",
    "Ha_center = list(abs(wave-6562.79)).index(min(abs(wave - 6562.79)))\n",
    "Hamask = mask[Ha_center - 300:Ha_center + 300]\n",
    "Haroi = ma.masked_array(wave[Ha_center - 300:Ha_center + 300], Hamask)\n",
    "Haflux = ma.masked_array(flux[Ha_center - 300:Ha_center + 300], Hamask)\n",
    "Haivar = ivar[Ha_center - 300:Ha_center + 300]\n",
    "Hasigma = 1/np.sqrt(Haivar)\n",
    "Hasigma = ma.masked_array(Hasigma, Hamask)\n",
    "\n",
    "NIII_center = list(abs(wave-4200)).index(min(abs(wave - 4200)))\n",
    "NIIImask = mask[NIII_center - 250:NIII_center + 250]\n",
    "NIIIroi = ma.masked_array(wave[NIII_center- 250:NIII_center+250], NIIImask)\n",
    "NIIIflux = ma.masked_array(flux[NIII_center- 250:NIII_center+250], NIIImask)    \n",
    "NIIIivar = ivar[NIII_center - 250:NIII_center + 250]\n",
    "NIIIsigma = 1/np.sqrt(NIIIivar)\n",
    "NIIIsigma = ma.masked_array(NIIIsigma, NIIImask)\n",
    "\n",
    "try:\n",
    "    HBopt, HBcov = curve_fit(HBgaus, HBroi[~HBroi.mask], HBflux[~HBflux.mask], \\\n",
    "                             p0 = [1,3,1,5,5,0.125,5,0.125],sigma = HBsigma[~HBsigma.mask], \\\n",
    "                             maxfev = 3000, absolute_sigma = True, check_finite = False)\n",
    "except (ValueError, RuntimeError) as e:\n",
    "    HBopt = [1,1,1,1,1,1,1,1]\n",
    "    HBcov = np.ones((8,8))\n",
    "\n",
    "try:\n",
    "    Haopt, Hacov = curve_fit(Hagaus, Haroi[~Haroi.mask], Haflux[~Haflux.mask], \\\n",
    "                         p0 = [3,5,1,1],sigma = Hasigma[~Hasigma.mask], \\\n",
    "                             maxfev = 3000, absolute_sigma = True, check_finite = False)\n",
    "except (ValueError, RuntimeError) as e:\n",
    "    Haopt = [1,1,1,1]\n",
    "    Hacov = np.ones((4,4))\n",
    "try:\n",
    "    NIIIopt, NIIIcov = curve_fit(NIIIgaus, NIIIroi[~NIIIroi.mask], NIIIflux[~NIIIflux.mask], \\\n",
    "                     p0 = [1,2,1,3],sigma = NIIIsigma[~NIIIsigma.mask], \\\n",
    "                                 maxfev = 3000,absolute_sigma = True, check_finite = False)\n",
    "except (ValueError, RuntimeError) as e:\n",
    "    NIIIopt = [1,1,1,1]\n",
    "    NIIIcov = np.ones((4,4))\n",
    "\n",
    "\n",
    "\n",
    "\n",
    "Haexp = Hagaus(Haroi, *Haopt)\n",
    "rHa = Haflux - Haexp\n",
    "Hachisq = np.sum(rHa**2/Hasigma**2)\n",
    "Hachisq = Hachisq/(len(Haroi)-len(Haopt))\n",
    "\n",
    "HBexp = HBgaus(HBroi, *HBopt)\n",
    "rHB = HBflux - HBexp\n",
    "HBchisq = np.sum(rHB**2/HBsigma**2)\n",
    "HBchisq = HBchisq/(len(HBroi)-len(HBopt))\n",
    "\n",
    "\n",
    "NIIIexp = NIIIgaus(NIIIroi, *NIIIopt)\n",
    "rNIII = NIIIflux - NIIIexp\n",
    "NIIIchisq = np.sum(rNIII**2/NIIIsigma**2)\n",
    "NIIIchisq = NIIIchisq/(len(NIIIroi)-len(NIIIopt))\n",
    "\n",
    "Hacov = abs(Hacov)\n",
    "HBcov = abs(HBcov)\n",
    "NIIIcov = abs(NIIIcov)\n",
    "heights = []\n",
    "heights_err = []\n",
    "means = []\n",
    "means_err = []\n",
    "sigmas = []\n",
    "sigmas_err = []\n",
    "vs = []\n",
    "chi2s = []\n",
    "\n",
    "heights.append(Haopt[0]) #Ha data\n",
    "# means.append(Haopt[1])\n",
    "sigmas.append(Haopt[1])\n",
    "vs.append((Haopt[1]*2.355/6562)*c)\n",
    "heights_err.append(np.sqrt(Hacov[0][0]))\n",
    "# means_err.append(np.sqrt(Hacov[1][1]))\n",
    "sigmas_err.append(np.sqrt(Hacov[1][1]))\n",
    "chi2s.append(Hachisq)\n",
    "\n",
    "heights.append(HBopt[0]) #HB data\n",
    "# means.append(HBopt[4])\n",
    "sigmas.append(HBopt[1])\n",
    "vs.append((HBopt[1]*2.355/4861)*c)\n",
    "heights_err.append(np.sqrt(HBcov[0][0]))\n",
    "# means_err.append(np.sqrt(HBcov[4][4]))\n",
    "sigmas_err.append(np.sqrt(HBcov[1][1]))\n",
    "chi2s.append(HBchisq)\n",
    "\n",
    "heights.append(NIIIopt[2]) #Hgamma data\n",
    "# means.append(NIIIopt[4])\n",
    "sigmas.append(NIIIopt[3])\n",
    "vs.append((NIIIopt[3]*2.355/4340)*c)\n",
    "heights_err.append(np.sqrt(NIIIcov[2][2]))\n",
    "# # means_err.append(np.sqrt(NIIIcov[4][4]))\n",
    "sigmas_err.append(np.sqrt(NIIIcov[3][3]))\n",
    "chi2s.append(NIIIchisq)\n",
    "\n",
    "heights.append(HBopt[2]) #HeII4686 data\n",
    "# means.append(HBopt[1])\n",
    "sigmas.append(HBopt[3])\n",
    "vs.append((HBopt[3]*2.355/4686)*c)\n",
    "heights_err.append(np.sqrt(HBcov[2][2]))\n",
    "# means_err.append(np.sqrt(HBcov[1][1]))\n",
    "sigmas_err.append(np.sqrt(HBcov[3][3]))\n",
    "chi2s.append(HBchisq)\n",
    "\n",
    "heights.append(HBopt[4]) #OIII5007 data\n",
    "# means.append(HBopt[7])\n",
    "sigmas.append(HBopt[5])\n",
    "vs.append((HBopt[5]/5007)*c)\n",
    "heights_err.append(np.sqrt(HBcov[4][4]))\n",
    "# means_err.append(np.sqrt(HBcov[7][7]))\n",
    "sigmas_err.append(np.sqrt(HBcov[5][5]))   \n",
    "chi2s.append(HBchisq)\n",
    "\n",
    "heights.append(NIIIopt[0])#NIII data\n",
    "# means.append(NIIIopt[1])\n",
    "sigmas.append(NIIIopt[1])\n",
    "vs.append((NIIIopt[1]*2.355/4100)*c)\n",
    "heights_err.append(np.sqrt(NIIIcov[0][0]))\n",
    "# means_err.append(np.sqrt(NIIIcov[1][1]))\n",
    "sigmas_err.append(np.sqrt(NIIIcov[2][2]))\n",
    "chi2s.append(NIIIchisq)\n",
    "\n",
    "heights.append(Haopt[2]) #SII data\n",
    "# means.append(Haopt[4])\n",
    "sigmas.append(Haopt[3])\n",
    "vs.append((Haopt[3]*2.355/6732)*c)\n",
    "heights_err.append(np.sqrt(Hacov[2][2]))\n",
    "# means_err.append(np.sqrt(Hacov[2][2]))\n",
    "sigmas_err.append(np.sqrt(Hacov[3][3]))\n",
    "chi2s.append(Hachisq)\n",
    "\n",
    "heights.append(HBopt[6]) #OIII4959data\n",
    "# means.append(HBopt[10])\n",
    "sigmas.append(HBopt[7])\n",
    "vs.append((HBopt[7]/4959)*c)\n",
    "heights_err.append(np.sqrt(HBcov[6][6]))\n",
    "# means_err.append(np.sqrt(HBcov[10][10]))\n",
    "sigmas_err.append(np.sqrt(HBcov[7][7]))   \n",
    "chi2s.append(HBchisq)\n",
    "\n",
    "\n",
    "\n",
    "sigmas = [abs(i) for i in sigmas]\n",
    "vs = [abs(i) for i in vs]\n",
    "linetable = Table([lines,restwavelengths,heights,heights_err,sigmas,sigmas_err,\\\n",
    "              vs,chi2s],names = ('Line','Wavelength','Height','e_Height','Sigma',\\\n",
    "                           'e_Sigma','Velocity','Chi Square'))\n",
    "linetable = linetable.to_pandas()\n",
    "print(linetable)"
   ]
  },
  {
   "cell_type": "code",
   "execution_count": 16,
   "id": "01a2b393-73d3-48c3-9a3f-cc047135045c",
   "metadata": {},
   "outputs": [
    {
     "name": "stderr",
     "output_type": "stream",
     "text": [
      "/tmp/ipykernel_63434/3265042277.py:27: RuntimeWarning: divide by zero encountered in true_divide\n",
      "  Hasigma = 1/np.sqrt(Haivar)\n",
      "/global/common/software/desi/cori/desiconda/20211217-2.0.0/conda/lib/python3.9/site-packages/scipy/optimize/minpack.py:833: OptimizeWarning: Covariance of the parameters could not be estimated\n",
      "  warnings.warn('Covariance of the parameters could not be estimated',\n"
     ]
    }
   ],
   "source": [
    "# Search for signature lines of TDEs, only interested in Galaxies\n",
    "linetable = test_line_finder(dif_spectra.wave, dif_flux_clipped, dif_spectra.ivar, dif_spectra.mask, zinfo)\n",
    "# print(night, linetable)\n",
    "#spectype = zinfo['SPECTYPE'][0]\n",
    "Hline_score = Hline_filter(linetable)\n",
    "# deriv_score = deriv_filter(dif_flux_clipped, dif_spectra.ivar,dif_spectra.mask)\n",
    "\n",
    "#broadband\n",
    "bblogic = any(numpy.logical_and(numpy.array(list(perband_filter.values()))>10, numpy.array(list(perband_inc.values()))>0.25))\n",
    "narrowlinelogic = perres_filter_narrow >=2\n",
    "broadlinelogic = perres_filter_broad >=3\n",
    "# TDElogic = any([TDE_score == 2, TDE_score == 3, TDE_score == 4, TDE_score == 5])\n",
    "Hlinelogic = any([Hline_score >= 1])\n",
    "# derivlogic = any([deriv_score >= 3])\n",
    "\n",
    "logic = [bblogic, narrowlinelogic,  broadlinelogic, Hlinelogic]\n",
    "logic_name = ['Broadband', 'narrow line', 'broad line','Hline'] #must be in same order as logic!, use as mask\n",
    "logic_name = numpy.ma.masked_array(logic_name, mask = [not i for i in logic])\n",
    "#plt.clf()"
   ]
  },
  {
   "cell_type": "code",
   "execution_count": 1,
   "id": "6025c7ba-8a02-48fc-8e3c-27c25c704680",
   "metadata": {},
   "outputs": [
    {
     "ename": "NameError",
     "evalue": "name 'plt' is not defined",
     "output_type": "error",
     "traceback": [
      "\u001b[0;31m---------------------------------------------------------------------------\u001b[0m",
      "\u001b[0;31mNameError\u001b[0m                                 Traceback (most recent call last)",
      "\u001b[0;32m/tmp/ipykernel_1613/418564057.py\u001b[0m in \u001b[0;36m<module>\u001b[0;34m\u001b[0m\n\u001b[0;32m----> 1\u001b[0;31m \u001b[0mplt\u001b[0m\u001b[0;34m.\u001b[0m\u001b[0mclf\u001b[0m\u001b[0;34m(\u001b[0m\u001b[0;34m)\u001b[0m\u001b[0;34m\u001b[0m\u001b[0;34m\u001b[0m\u001b[0m\n\u001b[0m\u001b[1;32m      2\u001b[0m \u001b[0mpdf\u001b[0m \u001b[0;34m=\u001b[0m \u001b[0mPdfPages\u001b[0m\u001b[0;34m(\u001b[0m\u001b[0mstr\u001b[0m\u001b[0;34m(\u001b[0m\u001b[0mtile\u001b[0m\u001b[0;34m)\u001b[0m\u001b[0;34m+\u001b[0m\u001b[0;34m\".pdf\"\u001b[0m\u001b[0;34m)\u001b[0m\u001b[0;34m\u001b[0m\u001b[0;34m\u001b[0m\u001b[0m\n\u001b[1;32m      3\u001b[0m \u001b[0;34m\u001b[0m\u001b[0m\n\u001b[1;32m      4\u001b[0m \u001b[0;31m####if any(logic):\u001b[0m\u001b[0;34m\u001b[0m\u001b[0;34m\u001b[0m\u001b[0m\n\u001b[1;32m      5\u001b[0m     \u001b[0;31m#Uncomment next line if you want to print only those TargetIds that get plotted\u001b[0m\u001b[0;34m\u001b[0m\u001b[0;34m\u001b[0m\u001b[0m\n",
      "\u001b[0;31mNameError\u001b[0m: name 'plt' is not defined"
     ]
    }
   ],
   "source": [
    "plt.clf()\n",
    "pdf = PdfPages(str(tile)+\".pdf\")\n",
    "\n",
    "####if any(logic):\n",
    "    #Uncomment next line if you want to print only those TargetIds that get plotted\n",
    "#processed(t, tile, night)\n",
    "fig = plt.figure()\n",
    "#for b in dif_spectra.wave.keys():\n",
    "### have hardcoded 'brz' in place of for b in keys()...\n",
    "w=numpy.where(dif_spectra.mask['brz'] ==0)[0]\n",
    "\n",
    "plt.plot(dif_spectra.wave['brz'][0],dif_spectra.flux['brz'][w],color='red', label = 'Difference')\n",
    "plt.plot(current_spectra.wave['brz'][0],current_spectra.flux['brz'][w],color='blue',alpha=0.5, label = 'New Spectrum')\n",
    "plt.plot(ref_spectra.wave['brz'][0],ref_spectra.flux['brz'][w],color='green',alpha=0.5, label = 'Reference Spectrum')\n",
    "    \n",
    "plt.legend()\n",
    "#plt.xlim((lminb,lmaxz))\n",
    "plt.xlabel('Wavelength (Å)')\n",
    "plt.ylabel('Flux') \n",
    "plt.title(str(t) + \"  \" + str(night) + \"  \" + str(tile)  + \"  \" + str(logic_name))\n",
    "plt.savefig(pdf, format = 'pdf')\n",
    "plt.savefig(pdf1, format = 'pdf')\n",
    "plt.close()\n",
    "\n",
    "   "
   ]
  },
  {
   "cell_type": "code",
   "execution_count": 57,
   "id": "9887570f-e466-432c-9ad1-25a8abbf4c68",
   "metadata": {},
   "outputs": [
    {
     "name": "stdout",
     "output_type": "stream",
     "text": [
      "[[0 0 0 ... 0 0 0]\n",
      " [0 0 0 ... 0 0 0]\n",
      " [0 0 0 ... 0 0 0]\n",
      " ...\n",
      " [0 0 0 ... 0 0 0]\n",
      " [0 0 0 ... 0 0 0]\n",
      " [0 0 0 ... 0 0 0]]\n",
      "[3600.  3600.8 3601.6 ... 9822.4 9823.2 9824. ]\n",
      "[3600. 3600. 3600. ... 3600. 3600. 3600.]\n"
     ]
    },
    {
     "ename": "TypeError",
     "evalue": "unhashable type: 'numpy.ndarray'",
     "output_type": "error",
     "traceback": [
      "\u001b[0;31m---------------------------------------------------------------------------\u001b[0m",
      "\u001b[0;31mTypeError\u001b[0m                                 Traceback (most recent call last)",
      "\u001b[0;32m/tmp/ipykernel_63434/2148947064.py\u001b[0m in \u001b[0;36m<module>\u001b[0;34m\u001b[0m\n\u001b[1;32m      2\u001b[0m \u001b[0mprint\u001b[0m\u001b[0;34m(\u001b[0m\u001b[0mdif_spectra\u001b[0m\u001b[0;34m.\u001b[0m\u001b[0mwave\u001b[0m\u001b[0;34m[\u001b[0m\u001b[0;34m'brz'\u001b[0m\u001b[0;34m]\u001b[0m\u001b[0;34m)\u001b[0m\u001b[0;34m\u001b[0m\u001b[0;34m\u001b[0m\u001b[0m\n\u001b[1;32m      3\u001b[0m \u001b[0mprint\u001b[0m\u001b[0;34m(\u001b[0m\u001b[0mdif_spectra\u001b[0m\u001b[0;34m.\u001b[0m\u001b[0mwave\u001b[0m\u001b[0;34m[\u001b[0m\u001b[0;34m'brz'\u001b[0m\u001b[0;34m]\u001b[0m\u001b[0;34m[\u001b[0m\u001b[0mw\u001b[0m\u001b[0;34m]\u001b[0m\u001b[0;34m)\u001b[0m\u001b[0;34m\u001b[0m\u001b[0;34m\u001b[0m\u001b[0m\n\u001b[0;32m----> 4\u001b[0;31m \u001b[0mprint\u001b[0m\u001b[0;34m(\u001b[0m\u001b[0mdif_spectra\u001b[0m\u001b[0;34m.\u001b[0m\u001b[0mwave\u001b[0m\u001b[0;34m[\u001b[0m\u001b[0mw\u001b[0m\u001b[0;34m]\u001b[0m\u001b[0;34m)\u001b[0m\u001b[0;34m\u001b[0m\u001b[0;34m\u001b[0m\u001b[0m\n\u001b[0m",
      "\u001b[0;31mTypeError\u001b[0m: unhashable type: 'numpy.ndarray'"
     ]
    }
   ],
   "source": [
    "print(dif_spectra.mask['brz'][w])\n",
    "print(dif_spectra.wave['brz'])\n",
    "print(dif_spectra.wave['brz'][w])\n",
    "print(dif_spectra.wave[w])\n"
   ]
  },
  {
   "cell_type": "code",
   "execution_count": null,
   "id": "9a4db4e5-2fa2-4e3a-be88-3dfb54d666b0",
   "metadata": {},
   "outputs": [],
   "source": []
  },
  {
   "cell_type": "code",
   "execution_count": 22,
   "id": "495faf1d-13a4-4e55-9aea-8cabd332426d",
   "metadata": {},
   "outputs": [
    {
     "ename": "NameError",
     "evalue": "name 'ra_dec_data' is not defined",
     "output_type": "error",
     "traceback": [
      "\u001b[0;31m---------------------------------------------------------------------------\u001b[0m",
      "\u001b[0;31mNameError\u001b[0m                                 Traceback (most recent call last)",
      "\u001b[0;32m/tmp/ipykernel_63434/4127278845.py\u001b[0m in \u001b[0;36m<module>\u001b[0;34m\u001b[0m\n\u001b[1;32m      9\u001b[0m \u001b[0;32mif\u001b[0m \u001b[0mresponse\u001b[0m\u001b[0;34m.\u001b[0m\u001b[0mstatus_code\u001b[0m \u001b[0;34m==\u001b[0m \u001b[0;36m400\u001b[0m\u001b[0;34m:\u001b[0m\u001b[0;34m\u001b[0m\u001b[0;34m\u001b[0m\u001b[0m\n\u001b[1;32m     10\u001b[0m    obj_data = {\n\u001b[0;32m---> 11\u001b[0;31m            \u001b[0;34m\"ra\"\u001b[0m\u001b[0;34m:\u001b[0m \u001b[0mra_dec_data\u001b[0m\u001b[0;34m[\u001b[0m\u001b[0;34m'TARGET_RA'\u001b[0m\u001b[0;34m]\u001b[0m\u001b[0;34m[\u001b[0m\u001b[0;36m0\u001b[0m\u001b[0;34m]\u001b[0m\u001b[0;34m,\u001b[0m \u001b[0;31m#RA is required when creating a new object.\u001b[0m\u001b[0;34m\u001b[0m\u001b[0;34m\u001b[0m\u001b[0m\n\u001b[0m\u001b[1;32m     12\u001b[0m            \u001b[0;34m\"dec\"\u001b[0m\u001b[0;34m:\u001b[0m \u001b[0mra_dec_data\u001b[0m\u001b[0;34m[\u001b[0m\u001b[0;34m'TARGET_DEC'\u001b[0m\u001b[0;34m]\u001b[0m\u001b[0;34m[\u001b[0m\u001b[0;36m0\u001b[0m\u001b[0;34m]\u001b[0m\u001b[0;34m,\u001b[0m \u001b[0;31m#Same for DEC\u001b[0m\u001b[0;34m\u001b[0m\u001b[0;34m\u001b[0m\u001b[0m\n\u001b[1;32m     13\u001b[0m            \u001b[0;34m\"id\"\u001b[0m\u001b[0;34m:\u001b[0m \u001b[0mobjID\u001b[0m\u001b[0;34m,\u001b[0m\u001b[0;34m\u001b[0m\u001b[0;34m\u001b[0m\u001b[0m\n",
      "\u001b[0;31mNameError\u001b[0m: name 'ra_dec_data' is not defined"
     ]
    }
   ],
   "source": [
    " #SkyPortal functionality begins:\n",
    "\n",
    "#SkyPortal's Id for the object\n",
    "objID = 'DESI{}'.format(str(t))\n",
    "\n",
    "#Code to check if this object already exists in SkyPortal. If not, create it\n",
    "\n",
    "response = requests.get(\"https://desi-skyportal.lbl.gov/api/candidates/{}\".format(objID), headers={\"Authorization\": f\"token {token}\"})\n",
    "if response.status_code == 400:\n",
    "    obj_data = {\n",
    "            \"ra\": ra_dec_data['TARGET_RA'][0], #RA is required when creating a new object.\n",
    "            \"dec\": ra_dec_data['TARGET_DEC'][0], #Same for DEC\n",
    "            \"id\": objID,\n",
    "            \"redshift\": zinfo,\n",
    "            \"filter_ids\": [sp.filter_id(filter_name)],\n",
    "            \"passed_at\": str(datetime.datetime.utcnow()) #UTC time when the object passed the filter\n",
    "            }\n",
    "\n",
    "    response = requests.post(\n",
    "            \"https://desi-skyportal.lbl.gov/api/candidates\",\n",
    "            json= obj_data,\n",
    "            headers={\"Authorization\": f\"token {token}\"})\n",
    "\n",
    "#Now, we send the differenced spectrum to SkyPortal\n",
    "#First, check if the same spectrum already exists under the object\n",
    "response = requests.get(\"https://desi-skyportal.lbl.gov/api/sources/{}/spectra\".format(objID),headers={\"Authorization\": f\"token {token}\"})\n",
    "post = True\n",
    "# for i in range (len(response.json()['data']['spectra'])):\n",
    "#     if (wavelengths == response.json()['data']['spectra'][i]['wavelengths'] and flux == response.json()['data']['spectra'][i]['fluxes']):\n",
    "#         post = False\n",
    "#Only if the exact same spectrum doesn't already exist, upload it.\n",
    "if post:\n",
    "    #Send difference spectrum to SP:\n",
    "    diff_spectrum_data = {\n",
    "            \"obj_id\": objID,\n",
    "            \"wavelengths\": difwave['brz'].tolist(),\n",
    "            \"fluxes\": difflux['brz'].tolist(),\n",
    "            \"observed_at\": str(night)[:4]+'-'+str(night)[4:6]+'-'+str(night)[6:]+' '+'00:00:00.000000', # Date converted into UTC time format\n",
    "            \"origin\": \"DESIDIFF_everest\", #Only the difference spectrum gets this tag in order to distinguish it on SkyPortal\n",
    "            \"group_ids\": [sp.group_id(\"DESI\")],\n",
    "            \"instrument_id\": sp.instrument_id()\n",
    "            }\n",
    "    response = requests.post(\n",
    "                '{}/api/spectrum'.format(sp.url),\n",
    "                json= diff_spectrum_data,\n",
    "                headers={\"Authorization\": f\"token {token}\"}) \n",
    "\n",
    "    #Send new spectra to SP:\n",
    "    new_spectra_data = {\n",
    "        \"obj_id\": objID,\n",
    "        \"wavelengths\":newwave['brz'].tolist(),\n",
    "        \"fluxes\": newflux['brz'].tolist(),\n",
    "        \"observed_at\": str(night)[:4]+'-'+str(night)[4:6]+'-'+str(night)[6:]+' '+'00:00:00.000000', # Date converted into UTC time format\n",
    "        \"origin\": \"DESIDIFF_everest\",\n",
    "        \"group_ids\": [sp.group_id(\"DESI\")],\n",
    "        \"instrument_id\": sp.instrument_id()\n",
    "        }\n",
    "    response = requests.post(\n",
    "            '{}/api/spectrum'.format(sp.url),\n",
    "            json= new_spectra_data,\n",
    "            headers={\"Authorization\": f\"token {token}\"}) \n",
    "\n",
    "    #Code to find the ref_night that is closest to new_night to be used as 'observed_at' for SP\n",
    "    new_night = datetime.datetime(int(str(night)[:4]), int(str(night)[4:6]), int(str(night)[6:]))\n",
    "    closest_night = datetime.datetime(int(str(ref_nights[0])[:4]), int(str(ref_nights[0])[4:6]), int(str(ref_nights[0])[6:]))\n",
    "    for ref_night in ref_nights[1:]:\n",
    "        d = datetime.datetime(int(str(ref_night)[:4]), int(str(ref_night)[4:6]), int(str(ref_night)[6:]))\n",
    "        time_delta = new_night - d\n",
    "        best = new_night - closest_night \n",
    "        if (time_delta.total_seconds() < best.total_seconds()):\n",
    "            closest_night = d\n",
    "\n",
    "\n",
    "    ref_spectra_data = {\n",
    "        \"obj_id\": objID,\n",
    "        \"wavelengths\": refwave['brz'].tolist(),\n",
    "        \"fluxes\": refflux['brz'].tolist(),\n",
    "        \"observed_at\": str(closest_night),\n",
    "        \"origin\": \"DESIDIFF_everest\",\n",
    "        \"group_ids\": [sp.group_id(\"DESI\")],\n",
    "        \"instrument_id\": sp.instrument_id()\n",
    "        }\n",
    "    response = requests.post(\n",
    "            '{}/api/spectrum'.format(sp.url),\n",
    "            json= ref_spectra_data,\n",
    "            headers={\"Authorization\": f\"token {token}\"})    \n",
    "\n",
    "pdf.close()\n",
    "pdf1.close()"
   ]
  },
  {
   "cell_type": "code",
   "execution_count": null,
   "id": "ee65f915-14f3-4b8b-a217-14db4a00682e",
   "metadata": {},
   "outputs": [],
   "source": []
  }
 ],
 "metadata": {
  "kernelspec": {
   "display_name": "DESI master",
   "language": "python",
   "name": "desi-master"
  },
  "language_info": {
   "codemirror_mode": {
    "name": "ipython",
    "version": 3
   },
   "file_extension": ".py",
   "mimetype": "text/x-python",
   "name": "python",
   "nbconvert_exporter": "python",
   "pygments_lexer": "ipython3",
   "version": "3.9.7"
  }
 },
 "nbformat": 4,
 "nbformat_minor": 5
}
