{
 "cells": [
  {
   "cell_type": "code",
   "execution_count": null,
   "id": "e52cfdf9-4c74-4523-a1e9-88ac3b2af763",
   "metadata": {},
   "outputs": [],
   "source": [
    "import glob\n",
    "import sys\n",
    "from desispec.io import read_spectra\n",
    "from astropy.table import Table\n",
    "import numpy"
   ]
  },
  {
   "cell_type": "markdown",
   "id": "247a6121-a7bd-4171-9724-2659fcc32ec4",
   "metadata": {},
   "source": [
    "Before we were tracking tile/date combinations that were processed.  Now we track spectra*.fits that have been processed.  So the initial condition is the name of the filename to work on"
   ]
  },
  {
   "cell_type": "code",
   "execution_count": null,
   "id": "76c5e93e-de06-4eb8-bd5a-d2a4b56d9ea1",
   "metadata": {},
   "outputs": [],
   "source": [
    "filename = \"/global/project/projectdirs/desi/spectro/redux/everest/tiles/cumulative/80979/20210706/spectra-3-80979-thru20210706.fits\""
   ]
  },
  {
   "cell_type": "markdown",
   "id": "6cf39aba-a9ef-4d36-ac89-068d9a4b73da",
   "metadata": {},
   "source": [
    "Read in the two files that contain the spectra and redshifts"
   ]
  },
  {
   "cell_type": "code",
   "execution_count": null,
   "id": "26bac76e-c1a3-418f-9c9d-e8c2adc8881f",
   "metadata": {},
   "outputs": [],
   "source": [
    "spectra = read_spectra(filename)\n",
    "rr = Table.read(filename.replace('spectra','redrock'), format='fits',hdu=1, memmap=True)['TARGETID','Z','ZERR','ZWARN','SPECTYPE']"
   ]
  },
  {
   "cell_type": "markdown",
   "id": "d59fe3c0-3c5b-496f-85ea-6a3bfde447fb",
   "metadata": {},
   "source": [
    "If there is only one night then exit"
   ]
  },
  {
   "cell_type": "code",
   "execution_count": null,
   "id": "21740ab5-7fa5-4913-95d2-af726e2abb29",
   "metadata": {},
   "outputs": [],
   "source": [
    "if len(numpy.unique(spectra.fibermap['NIGHT'])) == 1:\n",
    "    sys.exit(0)"
   ]
  },
  {
   "cell_type": "markdown",
   "id": "c366cda3-e20a-4270-a534-0c077fa651f6",
   "metadata": {},
   "source": [
    "Determine the unique targetid's"
   ]
  },
  {
   "cell_type": "code",
   "execution_count": null,
   "id": "530e5862-d1d0-4b4a-b5e9-794f21205354",
   "metadata": {},
   "outputs": [],
   "source": [
    "unique_targetid = numpy.unique(spectra.fibermap['TARGETID'][numpy.logical_and(spectra.fibermap['OBJTYPE']=='TGT', spectra.fibermap['FIBERSTATUS']==0)])"
   ]
  },
  {
   "cell_type": "markdown",
   "id": "ed660901-2744-4f8c-9af2-1068ac712927",
   "metadata": {},
   "source": [
    "Loop over the unique targetids"
   ]
  },
  {
   "cell_type": "code",
   "execution_count": null,
   "id": "09d7303d-29f4-4ade-9313-d89f9278f4ee",
   "metadata": {},
   "outputs": [],
   "source": [
    "for t in unique_targetid:\n",
    "    # a spectra object with the subset of the targetid\n",
    "    target_spectra = spectra.select(targets=[t])\n",
    "\n",
    "    # the number of unique nights for this target id\n",
    "    unique_nights = numpy.unique(target_spectra.fibermap['NIGHT'])\n",
    "\n",
    "    # if there is only one night there is no subtraction possible\n",
    "    if len(unique_nights) <=1:\n",
    "        print(\"nothing to do here\")\n",
    "        break\n",
    "\n",
    "    # the redshift information for this object\n",
    "    zinfo = rr[rr['TARGETID']==t]\n",
    "\n",
    "    # Do a search for each unique night.  Note that the filters are parity violating.\n",
    "    for night in unique_nights:\n",
    "        print(t, night)\n",
    "        ## build reference\n",
    "        \n",
    "        ## build new\n",
    "        \n",
    "        ## search\n",
    "        \n",
    "        ## save to skyportal"
   ]
  },
  {
   "cell_type": "code",
   "execution_count": null,
   "id": "444895f6-35cb-4159-9d6e-a44e5d6e756d",
   "metadata": {},
   "outputs": [],
   "source": []
  }
 ],
 "metadata": {
  "kernelspec": {
   "display_name": "DESI master",
   "language": "python",
   "name": "desi-master"
  },
  "language_info": {
   "codemirror_mode": {
    "name": "ipython",
    "version": 3
   },
   "file_extension": ".py",
   "mimetype": "text/x-python",
   "name": "python",
   "nbconvert_exporter": "python",
   "pygments_lexer": "ipython3",
   "version": "3.8.3"
  }
 },
 "nbformat": 4,
 "nbformat_minor": 5
}
