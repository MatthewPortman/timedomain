{
 "cells": [
  {
   "cell_type": "code",
   "execution_count": 1,
   "id": "8225cf97-dee0-47c6-9739-98e4e4e83de9",
   "metadata": {},
   "outputs": [],
   "source": [
    "import time\n",
    "import psycopg2\n",
    "import sqlite3\n",
    "import numpy"
   ]
  },
  {
   "cell_type": "code",
   "execution_count": 2,
   "id": "faa4cab6-d2b2-4ef0-a871-37bd1273bd0d",
   "metadata": {},
   "outputs": [],
   "source": [
    "def getz(ra, dec):\n",
    "    start_time = time.time()\n",
    "    f = open('/global/cfs/cdirs/desi/science/td/secrets/desi_pg.txt') \n",
    "    file = f.read()\n",
    "    db_name, db_user, db_pwd, db_host = file.split()\n",
    "    db_name = 'desidb'\n",
    "    conn = psycopg2.connect(dbname=db_name, user=db_user, password=db_pwd, host=db_host)\n",
    "    cur = conn.cursor()\n",
    "    curr = \"\"\"SELECT f.targetid,c.tileid,c.night,r.z, f.target_ra, f.target_dec, r.zerr,r.zwarn,c.filename\n",
    "FROM daily.tiles_fibermap f\n",
    "INNER JOIN daily.cumulative_tiles c ON f.cumultile_id=c.id\n",
    "INNER JOIN daily.tiles_redshifts r ON r.cumultile_id=c.id AND r.targetid=f.targetid\n",
    "WHERE q3c_radial_query( f.target_ra, f.target_dec, {0}, {1}, 10./3600. )\"\"\".format(ra, dec)\n",
    "    cur.execute(curr) \n",
    "    desi_arr = cur.fetchall()\n",
    "    \n",
    "    if (len(desi_arr) == 0):\n",
    "        curr = \"\"\"SELECT f.targetid,c.tileid,c.night,r.z, f.target_ra, f.target_dec, r.zerr,r.zwarn,c.filename\n",
    "FROM fuji.tiles_fibermap f\n",
    "INNER JOIN fuji.cumulative_tiles c ON f.cumultile_id=c.id\n",
    "INNER JOIN fuji.tiles_redshifts r ON r.cumultile_id=c.id AND r.targetid=f.targetid\n",
    "WHERE q3c_radial_query( f.target_ra, f.target_dec, {0}, {1}, 10./3600. )\"\"\".format(ra, dec)\n",
    "        cur.execute(curr) \n",
    "        desi_arr = cur.fetchall()\n",
    "\n",
    "    if (len(desi_arr) == 0):\n",
    "        curr = \"\"\"SELECT f.targetid,c.tileid,c.night,r.z, f.target_ra, f.target_dec, r.zerr,r.zwarn,c.filename\n",
    "FROM guadalupe.tiles_fibermap f\n",
    "INNER JOIN guadalupe.cumulative_tiles c ON f.cumultile_id=c.id\n",
    "INNER JOIN guadalupe.tiles_redshifts r ON r.cumultile_id=c.id AND r.targetid=f.targetid\n",
    "WHERE q3c_radial_query( f.target_ra, f.target_dec, {0}, {1}, 10./3600. )\"\"\".format(ra, dec)\n",
    "        cur.execute(curr) \n",
    "        desi_arr = cur.fetchall()\n",
    "        \n",
    "\n",
    "    # if (len(desi_arr) == 0):\n",
    "    #     print(\"No information available!\")\n",
    "    #     cur.close()\n",
    "    #     conn.close()    \n",
    "    # else:\n",
    "    #     cur.close()\n",
    "    #     conn.close()\n",
    "    #     z = desi_arr[0][3]\n",
    "    #     if (z > 0.15):\n",
    "    #         print(\"To be provided:\")\n",
    "    #     elif (z < 0.15):\n",
    "    #         print(\"Not to be provided:\")\n",
    "    #     return desi_arr\n",
    "    \n",
    "    cur.close()\n",
    "    conn.close()\n",
    "    return desi_arr"
   ]
  },
  {
   "cell_type": "code",
   "execution_count": 21,
   "id": "e79e8310-2c4d-41ce-b10e-c167fda08592",
   "metadata": {},
   "outputs": [],
   "source": [
    "def helper(input_info):\n",
    "    #helper_info is a dic of ZTF id, input_ra, input_dec\n",
    "    \n",
    "    ZTFids = input_info['id']\n",
    "    ras = input_info['RA']\n",
    "    decs = input_info['DEC']\n",
    "    print(\"ZTF ID\" + \"\\t \\t Input RA\" + \"\\t Input DEC\" + \"\\t DESI TID\" + \"\\t     DESI Night\" + \"\\t \\t DESI Z\" + \"\\t \\t \\t DESI RA\" + \"\\t \\t DESI DEC\")\n",
    "    for i in range(len(ras)):\n",
    "        ra = ras[i]\n",
    "        dec = decs[i]\n",
    "        ztfid = ZTFids[i]\n",
    "        \n",
    "        zinfo = getz(ra, dec)\n",
    "        \n",
    "        if (len(zinfo) == 0):\n",
    "            print(str(ztfid) + \"\\t\" +  str(ra) + \"\\t\" + str(dec) + \"\\t No Info.\" )\n",
    "        else:\n",
    "            tid = zinfo[0][0]\n",
    "            night = zinfo[0][2]\n",
    "            z = zinfo[0][3]\n",
    "            desi_ra = zinfo[0][4]\n",
    "            desi_dec =zinfo[0][5]\n",
    "            if (z > 0.15):\n",
    "                print(str(ztfid) + \"\\t\" +  str(ra) + \"\\t\" + str(dec) + \"\\t\" + str(tid) + \"\\t\"  + str(night) + \"\\t\" + str(z) + \"\\t\" + str(desi_ra)+ \"\\t\" + str(desi_dec))\n",
    "                \n",
    "            elif (z < 0.15):\n",
    "                print(str(ztfid) + \"\\t\" +  str(ra) + \"\\t\" + str(dec) + \"\\t\" + str(tid) + \"\\t\"  + str(night) + \"\\t N/A\" )\n",
    "        "
   ]
  },
  {
   "cell_type": "code",
   "execution_count": 22,
   "id": "0ff02882-2b6d-47a8-81ef-39018b2db1bc",
   "metadata": {},
   "outputs": [],
   "source": [
    "data = {'id': ['ZTF19abiptrq', 'ZTF20aaodnpo', 'ZTF19abdkdze', 'ZTF19abpfedt', 'ZTF20aatqgob', 'ZTF20aandifv', 'ZTF20abatzio', 'ZTF20aajbzmc', 'ZTF20abeoibi'], \n",
    "        'RA': [357.1602996, 250.8160264, 20.5682466, 3.6635952, 206.5802377, 156.808529, 176.1658846, 187.4783937, 219.2628527], \n",
    "        'DEC' : [19.2628105, 7.0175426, 12.7875204, 19.7418401,  15.56176,  80.2705631,  68.8570115, 16.188751, 26.7827165]}"
   ]
  },
  {
   "cell_type": "code",
   "execution_count": 23,
   "id": "9879d73f-c909-4bc6-9de3-3dc5967bf315",
   "metadata": {},
   "outputs": [
    {
     "name": "stdout",
     "output_type": "stream",
     "text": [
      "ZTF ID\t \t Input RA\t Input DEC\t DESI TID\t     DESI Night\t \t DESI Z\t \t \t DESI RA\t \t DESI DEC\n",
      "ZTF19abiptrq\t357.1602996\t19.2628105\t No Info.\n",
      "ZTF20aaodnpo\t250.8160264\t7.0175426\t39627957735524628\t20220511\t0.154196114463356\t250.815946841308\t7.017419911679\n",
      "ZTF19abdkdze\t20.5682466\t12.7875204\t No Info.\n",
      "ZTF19abpfedt\t3.6635952\t19.7418401\t No Info.\n",
      "ZTF20aatqgob\t206.5802377\t15.56176\t No Info.\n",
      "ZTF20aandifv\t156.808529\t80.2705631\t No Info.\n",
      "ZTF20abatzio\t176.1658846\t68.8570115\t No Info.\n",
      "ZTF20aajbzmc\t187.4783937\t16.188751\t No Info.\n",
      "ZTF20abeoibi\t219.2628527\t26.7827165\t No Info.\n"
     ]
    }
   ],
   "source": [
    "helper(data)"
   ]
  },
  {
   "cell_type": "code",
   "execution_count": 45,
   "id": "a7babe1a-db70-44e5-80a0-1e9e5e14e779",
   "metadata": {},
   "outputs": [
    {
     "name": "stdout",
     "output_type": "stream",
     "text": [
      "To be provided:\n"
     ]
    },
    {
     "data": {
      "text/plain": [
       "0.154196114463356"
      ]
     },
     "execution_count": 45,
     "metadata": {},
     "output_type": "execute_result"
    }
   ],
   "source": [
    "getz(250.8160264, 7.0175426)"
   ]
  },
  {
   "cell_type": "code",
   "execution_count": 46,
   "id": "04950077-2684-4160-ba7f-450e5f2c04f8",
   "metadata": {},
   "outputs": [
    {
     "name": "stdout",
     "output_type": "stream",
     "text": [
      "No information available!\n"
     ]
    }
   ],
   "source": [
    "getz(3.6635952, 19.7418401)"
   ]
  },
  {
   "cell_type": "code",
   "execution_count": 63,
   "id": "f3b818de-b16f-4426-8760-5a9cc844b352",
   "metadata": {},
   "outputs": [],
   "source": [
    "def getz(ra, dec):\n",
    "    start_time = time.time()\n",
    "    f = open('/global/cfs/cdirs/desi/science/td/secrets/desi_pg.txt')\n",
    "    file = f.read()\n",
    "    db_name, db_user, db_pwd, db_host = file.split()\n",
    "    db_name = 'desidb'\n",
    "    conn = psycopg2.connect(dbname=db_name, user=db_user, password=db_pwd, host=db_host)\n",
    "    cur = conn.cursor()\n",
    "    curr = \"\"\"SELECT f.targetid,c.tileid,c.night,r.z,r.zerr,r.zwarn,c.filename\n",
    "FROM daily.tiles_fibermap f\n",
    "INNER JOIN daily.cumulative_tiles c ON f.cumultile_id=c.id\n",
    "INNER JOIN daily.tiles_redshifts r ON r.cumultile_id=c.id AND r.targetid=f.targetid\n",
    "WHERE q3c_radial_query( f.target_ra, f.target_dec, {0}, {1}, 10./3600. )\n",
    "\n",
    "UNION\n",
    "SELECT f.targetid,c.tileid,c.night,r.z,r.zerr,r.zwarn,c.filename\n",
    "FROM fuji.tiles_fibermap f\n",
    "INNER JOIN fuji.cumulative_tiles c ON f.cumultile_id=c.id\n",
    "INNER JOIN fuji.tiles_redshifts r ON r.cumultile_id=c.id AND r.targetid=f.targetid\n",
    "WHERE q3c_radial_query( f.target_ra, f.target_dec, {0}, {1}, 10./3600. )\n",
    "\n",
    "UNION\n",
    "SELECT f.targetid,c.tileid,c.night,r.z,r.zerr,r.zwarn,c.filename\n",
    "FROM guadalupe.tiles_fibermap f\n",
    "INNER JOIN guadalupe.cumulative_tiles c ON f.cumultile_id=c.id\n",
    "INNER JOIN guadalupe.tiles_redshifts r ON r.cumultile_id=c.id AND r.targetid=f.targetid\n",
    "WHERE q3c_radial_query( f.target_ra, f.target_dec, {0}, {1}, 10./3600. )\"\"\".format(ra, dec)\n",
    "    cur.execute(curr) \n",
    "    desi_arr = cur.fetchall()    \n",
    "\n",
    "    if (len(desi_arr) == 0):\n",
    "        print(\"No information available!\")\n",
    "        cur.close()\n",
    "        conn.close()    \n",
    "    else:\n",
    "        cur.close()\n",
    "        conn.close()\n",
    "        z = desi_arr[0][3]\n",
    "        if (z > 0.15):\n",
    "            print(\"To be provided:\")\n",
    "        elif (z < 0.15):\n",
    "            print(\"Not to be provided:\")\n",
    "        return desi_arr"
   ]
  },
  {
   "cell_type": "code",
   "execution_count": 64,
   "id": "71862827-c920-4081-8c2c-075fc27c1540",
   "metadata": {},
   "outputs": [
    {
     "name": "stdout",
     "output_type": "stream",
     "text": [
      "To be provided:\n"
     ]
    },
    {
     "data": {
      "text/plain": [
       "[(39627957735524628,\n",
       "  21976,\n",
       "  20220511,\n",
       "  0.154196114463356,\n",
       "  7.98915799003484e-06,\n",
       "  0,\n",
       "  'daily/tiles/cumulative/21976/20220511/redrock-7-21976-thru20220511.fits')]"
      ]
     },
     "execution_count": 64,
     "metadata": {},
     "output_type": "execute_result"
    }
   ],
   "source": [
    "getz(250.8160264  ,   7.0175426)"
   ]
  },
  {
   "cell_type": "code",
   "execution_count": 62,
   "id": "a3756124-ea6f-4cad-a7b5-e38dcaad28cd",
   "metadata": {},
   "outputs": [
    {
     "name": "stdout",
     "output_type": "stream",
     "text": [
      "No information available!\n"
     ]
    }
   ],
   "source": [
    "getz(3.6635952, 19.7418401)"
   ]
  },
  {
   "cell_type": "code",
   "execution_count": null,
   "id": "4cd4c234-6ca3-49d3-9692-b9fd918f1b71",
   "metadata": {},
   "outputs": [],
   "source": []
  }
 ],
 "metadata": {
  "kernelspec": {
   "display_name": "DESI master",
   "language": "python",
   "name": "desi-master"
  },
  "language_info": {
   "codemirror_mode": {
    "name": "ipython",
    "version": 3
   },
   "file_extension": ".py",
   "mimetype": "text/x-python",
   "name": "python",
   "nbconvert_exporter": "python",
   "pygments_lexer": "ipython3",
   "version": "3.9.7"
  }
 },
 "nbformat": 4,
 "nbformat_minor": 5
}
