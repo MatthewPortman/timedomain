{
 "cells": [
  {
   "cell_type": "code",
   "execution_count": 2,
   "id": "380b7524-12c1-43d3-92e3-6b699b4568d3",
   "metadata": {},
   "outputs": [],
   "source": [
    "import matplotlib.pyplot as plt\n",
    "from numpy import pi, linspace\n",
    "from numpy.random import normal"
   ]
  },
  {
   "cell_type": "code",
   "execution_count": 3,
   "id": "dc90035a-4475-449f-acb2-d7b1f4df438b",
   "metadata": {},
   "outputs": [],
   "source": [
    "import os\n",
    "import sys\n",
    "import numpy\n",
    "from desispec.io import read_spectra, write_spectra\n",
    "from desispec.spectra import Spectra\n",
    "\n",
    "import matplotlib.pyplot as plt\n",
    "from IPython import display\n",
    "from astropy.table import Table,vstack\n",
    "from desiutil.log import get_logger, DEBUG\n",
    "from desidiff.src.group_tiles import *\n",
    "from desidiff.src.dates_to_process import *\n",
    "from desidiff.src.coadd import *\n",
    "from desidiff.src.scores import *\n",
    "from desidiff.src.ContinuumFitFilter_desidiff import *\n",
    "import requests\n",
    "from timedomain.sp_utils import SkyPortal as sp\n",
    "import datetime\n",
    "from astropy.time import Time"
   ]
  },
  {
   "cell_type": "code",
   "execution_count": 4,
   "id": "d1a1d811-3a61-40e5-a7d2-b2f2c24c7467",
   "metadata": {},
   "outputs": [],
   "source": [
    "def Lorentz(x,gamma, x0, A):\n",
    "    L = A*(1/pi)*0.5*gamma/((x-x0)**2 + (0.5*gamma)**2)\n",
    "    return L"
   ]
  },
  {
   "cell_type": "code",
   "execution_count": 5,
   "id": "b5366221-35ce-4f5b-bbcd-6c03846eda7a",
   "metadata": {},
   "outputs": [],
   "source": [
    "def continuum(m,x,b):\n",
    "    cont = m*x + b\n",
    "    return cont"
   ]
  },
  {
   "cell_type": "code",
   "execution_count": 6,
   "id": "44031a90-0587-4345-b509-fb1095f19da5",
   "metadata": {},
   "outputs": [],
   "source": [
    "r = linspace(3000,10000,8000)"
   ]
  },
  {
   "cell_type": "code",
   "execution_count": 7,
   "id": "599e1e12-903c-4e62-89f4-e3ab0538ac03",
   "metadata": {},
   "outputs": [],
   "source": [
    "spec = Lorentz(r, 10, 6562, 5000) + Lorentz(r,10,5007,4000) + Lorentz(r,10, 4852,3500) + Lorentz(r,50, 3835,2500)\n",
    "# spec = [normal(i, 0.5) for i in spec]"
   ]
  },
  {
   "cell_type": "code",
   "execution_count": 8,
   "id": "bdabe177-ed3b-4491-8b41-d58b0a113f3b",
   "metadata": {},
   "outputs": [
    {
     "data": {
      "image/png": "[encoded data removed]",
      "text/plain": [
       "<Figure size 432x288 with 1 Axes>"
      ]
     },
     "metadata": {
      "needs_background": "light"
     },
     "output_type": "display_data"
    }
   ],
   "source": [
    "plt.plot(r,spec)\n",
    "plt.show()"
   ]
  },
  {
   "cell_type": "code",
   "execution_count": null,
   "id": "c0df9057-6173-4cff-ad9f-0438735f73d3",
   "metadata": {},
   "outputs": [],
   "source": []
  },
  {
   "cell_type": "code",
   "execution_count": 9,
   "id": "8ddd1727-219a-4eb7-a13c-89447229f25d",
   "metadata": {},
   "outputs": [
    {
     "ename": "SyntaxError",
     "evalue": "invalid syntax (<ipython-input-9-9ed4285bdb08>, line 1)",
     "output_type": "error",
     "traceback": [
      "\u001b[0;36m  File \u001b[0;32m\"<ipython-input-9-9ed4285bdb08>\"\u001b[0;36m, line \u001b[0;32m1\u001b[0m\n\u001b[0;31m    perres_filter = perconv_SN(, spec,difivar,difmask)\u001b[0m\n\u001b[0m                               ^\u001b[0m\n\u001b[0;31mSyntaxError\u001b[0m\u001b[0;31m:\u001b[0m invalid syntax\n"
     ]
    }
   ],
   "source": [
    "perres_filter = perconv_SN(, spec,difivar,difmask)"
   ]
  },
  {
   "cell_type": "code",
   "execution_count": 10,
   "id": "92d5a572-b1de-45c0-b3a9-67471da633e9",
   "metadata": {},
   "outputs": [
    {
     "name": "stdout",
     "output_type": "stream",
     "text": [
      "INFO:spectra.py:285:read_spectra: iotime 1.505 sec to read spectra-8-1882-thru20210606.fits at 2022-01-26T09:18:06.762581\n"
     ]
    },
    {
     "name": "stderr",
     "output_type": "stream",
     "text": [
      "<ipython-input-10-ca22a94e7989>:126: RuntimeWarning: divide by zero encountered in true_divide\n",
      "  difivar = {key: 1./(1./newivar[key] + 1./refivar[key])\n"
     ]
    },
    {
     "name": "stdout",
     "output_type": "stream",
     "text": [
      "{'b': array([3600. , 3600.8, 3601.6, ..., 5798.4, 5799.2, 5800. ]), 'r': array([5760. , 5760.8, 5761.6, ..., 7618.4, 7619.2, 7620. ]), 'z': array([7520. , 7520.8, 7521.6, ..., 9822.4, 9823.2, 9824. ])}\n",
      "{'b': array([  8.25457884, -16.92389774,   0.53380038, ...,  -1.53327149,\n",
      "         0.38332412,   0.98423464]), 'r': array([ 2.05774102,  6.13550536, 10.17601544, ..., -2.26775856,\n",
      "       -0.15082606, -2.78902495]), 'z': array([2.65984152, 1.73181562, 1.03158103, ..., 0.36893746, 1.61943191,\n",
      "       0.1468465 ])}\n"
     ]
    },
    {
     "ename": "NameError",
     "evalue": "name 'wefwe' is not defined",
     "output_type": "error",
     "traceback": [
      "\u001b[0;31m---------------------------------------------------------------------------\u001b[0m",
      "\u001b[0;31mNameError\u001b[0m                                 Traceback (most recent call last)",
      "\u001b[0;32m<ipython-input-10-ca22a94e7989>\u001b[0m in \u001b[0;36m<module>\u001b[0;34m\u001b[0m\n\u001b[1;32m    135\u001b[0m \u001b[0;34m\u001b[0m\u001b[0m\n\u001b[1;32m    136\u001b[0m         \u001b[0;32mif\u001b[0m \u001b[0mcount\u001b[0m \u001b[0;34m==\u001b[0m \u001b[0;36m1\u001b[0m\u001b[0;34m:\u001b[0m\u001b[0;34m\u001b[0m\u001b[0;34m\u001b[0m\u001b[0m\n\u001b[0;32m--> 137\u001b[0;31m             \u001b[0mwefwe\u001b[0m\u001b[0;34m\u001b[0m\u001b[0;34m\u001b[0m\u001b[0m\n\u001b[0m\u001b[1;32m    138\u001b[0m \u001b[0;34m\u001b[0m\u001b[0m\n\u001b[1;32m    139\u001b[0m \u001b[0;34m\u001b[0m\u001b[0m\n",
      "\u001b[0;31mNameError\u001b[0m: name 'wefwe' is not defined"
     ]
    }
   ],
   "source": [
    "%matplotlib inline\n",
    "import os\n",
    "import sys\n",
    "module_path = os.path.abspath(os.path.join('../../'))\n",
    "if module_path not in sys.path:\n",
    "    sys.path.append(module_path)\n",
    "import numpy\n",
    "from desispec.io import read_spectra, write_spectra\n",
    "from desispec.spectra import Spectra\n",
    "\n",
    "import matplotlib.pyplot as plt\n",
    "from IPython import display\n",
    "from astropy.table import Table,vstack\n",
    "from desiutil.log import get_logger, DEBUG\n",
    "from desidiff.src.group_tiles import *\n",
    "from desidiff.src.dates_to_process import *\n",
    "from desidiff.src.coadd import *\n",
    "from desidiff.src.scores import *\n",
    "from desidiff.src.ContinuumFitFilter_desidiff import *\n",
    "import requests\n",
    "from timedomain.sp_utils import SkyPortal as sp\n",
    "import datetime\n",
    "from astropy.time import Time\n",
    "date=20210606\n",
    "tile_petal,group_tid,group_tp, group_night =getMatchedTileid(date)\n",
    "#Set non-default plot size \n",
    "plt.rcParams[\"figure.figsize\"] = (20,6)\n",
    "\n",
    "#SkyPortal token:\n",
    "secret_file = \"/global/cfs/cdirs/desi/science/td/secrets/desidiff_sp.txt\"\n",
    "with open(secret_file, 'r') as file:\n",
    "    token = file.read().replace('\\n', '')\n",
    "headers = {'Authorization': f'token {token}'}\n",
    "\n",
    "filter_name = 'DESIDIFF'\n",
    "lminb=3700.\n",
    "lminr=5800.\n",
    "lmaxr=7580.\n",
    "lmaxz=9100.\n",
    "\n",
    "# tile_petal contain subsets of tile/petals whose RA/DEC targets are not contained in other tile/petals from that night\n",
    "for tps in tile_petal:\n",
    "    # Check to see if this tile/petal has nothing to subtract.  Skip's IO if this is the case\n",
    "    if hasNothingToProcess(tps,group_tid,group_tp,group_night):\n",
    "        continue\n",
    "    \n",
    "    # cache spectra to minimize IO\n",
    "    spectra_list=dict()\n",
    "    zbest_list = []\n",
    "    target_list=[]\n",
    "    ra_dec_list = []\n",
    "    for tp in tps:\n",
    "        filename =  f\"/global/project/projectdirs/desi/spectro/redux/daily/tiles/cumulative/{tp[0]}/{date}/spectra-{tp[1]}-{tp[0]}-thru{date}.fits\"\n",
    "        spectra_list[(tp[0],tp[1])]=read_spectra(filename)\n",
    "        #To get RA/DEC info for the object\n",
    "        ra_dec_list.append(Table.read(filename, format='fits',hdu=1, memmap=True)['TARGETID','TARGET_RA', 'TARGET_DEC'])\n",
    "        zbest = filename.replace('spectra','zbest')\n",
    "        z = Table.read(zbest, format='fits',hdu=1, memmap=True)['TARGETID','Z','ZERR','ZWARN','SPECTYPE']\n",
    "        zbest_list.append(z)\n",
    "    z = vstack(zbest_list)\n",
    "    ra_dec = vstack(ra_dec_list)\n",
    "    \n",
    "\n",
    "    count=0\n",
    "    # loop over all unique RA/DEC pairs from that night\n",
    "    for tid, tp, night in zip(group_tid,group_tp,group_night):\n",
    "        # if this RA/DEC is not in thie tile_petal combination than skip\n",
    "        if tp[0] not in tps:\n",
    "            continue\n",
    "        \n",
    "        # Eliminate those with no reference night here\n",
    "        if len(night) == 1:\n",
    "            continue\n",
    "\n",
    "        # Obtain METAINFORMATION for this RA/DEC\n",
    "        #Stores a tuple = (TARGETID, Z, ZERR,ZWARN, SPECTYPE)\n",
    "        z_data = []\n",
    "        ra_dec_data = []\n",
    "        for t in tid:\n",
    "            tid_ind = list(z['TARGETID']).index(t)\n",
    "            ra_dec_ind = list(ra_dec['TARGETID']).index(t)\n",
    "            z_data.append((t, z[tid_ind]['Z'], z[tid_ind]['ZERR'], z[tid_ind]['ZWARN'], z[tid_ind]['SPECTYPE']))\n",
    "            ra_dec_data.append((t, ra_dec[ra_dec_ind]['TARGET_RA'], ra_dec[ra_dec_ind]['TARGET_DEC']))\n",
    "        redshift = z_data[0][1] #it seems each set only has one value\n",
    "        spectype = z_data[0][-1]\n",
    "        \n",
    "        # Proceed with a subtraction for this object\n",
    "        \n",
    "        # The coadds of the new and reference are constructed from all spectra with all targetid's in tid and all\n",
    "        # tile/petal combinations in tp, which are cached above\n",
    "        \n",
    "        newSpectra=[]\n",
    "        refSpectra=[]\n",
    "        for tile,plate in tp:\n",
    "            spec = spectra_list[(tile,plate)]\n",
    "\n",
    "            idx = numpy.in1d(night, date)\n",
    "            ref_night = night[~idx]\n",
    "            \n",
    "            newSpectra.append(spec.select(nights=date, targets = tid))\n",
    "            \n",
    "            \"\"\"\n",
    "            There is a variable night that has all the nights associated with this RA/DEC\n",
    "            derive the ref_night from that\n",
    "            \"\"\"\n",
    "            \n",
    "            refSpectra.append(spec.select(nights=ref_night, targets = tid))       \n",
    "         \n",
    "        \n",
    "        newflux, newivar, newwave, newmask = coadd(newSpectra)\n",
    "        refflux, refivar, refwave, refmask = coadd(refSpectra)\n",
    "\n",
    "        # renormalize spectra to match each other\n",
    "        # There is a significant background of spectra that have the same shape but different fluxes\n",
    "        # This seems to be related to mistaken coordinates of bright sources\n",
    "        norm = normalization(newflux,newmask, refflux,refmask)\n",
    "\n",
    "        for key in newflux.keys():\n",
    "            newflux[key]=newflux[key]/norm\n",
    "            newivar[key]=newivar[key]*norm**2        \n",
    "        \n",
    "        difflux, difivar, difmask, difwave = dict.fromkeys([\"b\", \"r\", \"z\"]), dict.fromkeys([\"b\", \"r\", \"z\"]), dict.fromkeys([\"b\", \"r\", \"z\"]), dict.fromkeys([\"b\", \"r\", \"z\"])\n",
    "        \n",
    "        difflux = {key: newflux[key] - refflux[key]\n",
    "                       for key in newflux.keys()}\n",
    "        difivar = {key: 1./(1./newivar[key] + 1./refivar[key])\n",
    "                       for key in newivar.keys()}\n",
    "        difmask = {key: newmask[key] + refmask[key]\n",
    "                       for key in newmask.keys()}\n",
    "        difwave = dict(newwave)\n",
    "        \n",
    "        print(difwave)\n",
    "        print(difflux)\n",
    "        count += 1\n",
    "        \n",
    "        if count == 1:\n",
    "            wefwe\n",
    "                \n",
    "    \n",
    "            "
   ]
  },
  {
   "cell_type": "code",
   "execution_count": 24,
   "id": "61ee61f0-6c5f-46b7-9612-211c6d11cfb3",
   "metadata": {},
   "outputs": [
    {
     "name": "stdout",
     "output_type": "stream",
     "text": [
      "{'b': array([0.00592005, 0.00641378, 0.00767077, ..., 0.41586084, 0.46036532,\n",
      "       0.62729404]), 'r': array([0.0201301 , 0.02239701, 0.01936555, ..., 0.29390646, 0.41813259,\n",
      "       0.46917001]), 'z': array([0.10445651, 0.17655795, 0.14975714, ..., 2.66462881, 3.24716122,\n",
      "       3.14356929])}\n",
      "{'b': array([0, 0, 0, ..., 0, 0, 0], dtype=uint32), 'r': array([0, 0, 0, ..., 0, 0, 0], dtype=uint32), 'z': array([0, 0, 0, ..., 0, 0, 0], dtype=uint32)}\n"
     ]
    }
   ],
   "source": [
    "print(difivar)\n",
    "print(difmask)"
   ]
  },
  {
   "cell_type": "code",
   "execution_count": 63,
   "id": "64c5e0d1-871c-4ee0-a44b-3f0f94b1be8d",
   "metadata": {},
   "outputs": [],
   "source": [
    "b = difwave['b']\n",
    "r = difwave['r']\n",
    "spec = dict()\n",
    "z = difwave['z']\n",
    "import scipy"
   ]
  },
  {
   "cell_type": "code",
   "execution_count": null,
   "id": "ce82fd31-5e6b-409f-b90a-0d8837da5d91",
   "metadata": {},
   "outputs": [],
   "source": [
    "def Lorentz(x,gamma, x0, A):\n",
    "    L = A*(1/pi)*0.5*gamma/((x-x0)**2 + (0.5*gamma)**2)\n",
    "    return L"
   ]
  },
  {
   "cell_type": "code",
   "execution_count": 66,
   "id": "f320082c-fd62-41fa-a0d2-750324823e69",
   "metadata": {},
   "outputs": [
    {
     "name": "stderr",
     "output_type": "stream",
     "text": [
      "<ipython-input-66-8da7c7c9f316>:16: RuntimeWarning: divide by zero encountered in double_scalars\n",
      "  ivar[k][i] = math.sqrt(1/difivar[k][i])\n"
     ]
    }
   ],
   "source": [
    "spec['b'] =  Lorentz(b,10,5007,4000) + Lorentz(b,10, 4852,3500) + Lorentz(b ,50, 3835,2500)\n",
    "spec['r'] = Lorentz(r, 10, 6562, 5000) + Lorentz(r, 10, 6732, 5000) \n",
    "spec['z'] = Lorentz(z, 10, 9545, 5000) \n",
    "\n",
    "# spec['b'] =  scipy.stats.norm(b,10,5007,4000) + scipy.stats.norm(b,10, 4852,3500) + scipy.stats.norm(b ,50, 3835,2500)\n",
    "# spec['r'] = scipy.stats.norm(r, 10, 6562, 5000) \n",
    "# spec['z'] = scipy.stats.norm(z, 10, 9545, 5000)\n",
    "\n",
    "# y_values = scipy.stats.norm(mean, standard_deviation)\n",
    "\n",
    "ivar = dict()\n",
    "for k in spec.keys():\n",
    "    ivar[k] = [0]*len(difivar[k])\n",
    "    # avg = sum(spec[k])/len(spec[k])\n",
    "    for i in range(len(spec[k])):\n",
    "        ivar[k][i] = math.sqrt(1/difivar[k][i])\n",
    "mask = dict()\n",
    "for k in spec.keys():\n",
    "    mask[k] = [0]*len(spec[k])"
   ]
  },
  {
   "cell_type": "code",
   "execution_count": 67,
   "id": "5bc4bc9e-45b5-4b82-ae90-2ab4f3bb4067",
   "metadata": {},
   "outputs": [
    {
     "data": {
      "text/plain": [
       "[<matplotlib.lines.Line2D at 0x2aaae29195e0>]"
      ]
     },
     "execution_count": 67,
     "metadata": {},
     "output_type": "execute_result"
    },
    {
     "data": {
      "image/png": "[encoded data removed]",
      "text/plain": [
       "<Figure size 1440x432 with 1 Axes>"
      ]
     },
     "metadata": {
      "needs_background": "light"
     },
     "output_type": "display_data"
    }
   ],
   "source": [
    "import math\n",
    "plt.plot(difwave['b'], spec['b'])\n",
    "# plt.show()\n",
    "plt.plot(difwave['r'], spec['r'])\n",
    "# plt.show()\n",
    "plt.plot(difwave['z'], spec['z'])\n",
    "# plt.show()\n",
    "plt.plot(difwave['b'],ivar['b'])\n",
    "# plt.show()\n",
    "plt.plot(difwave['r'],ivar['r'])\n",
    "# plt.show()\n",
    "plt.plot(difwave['z'],ivar['z'])"
   ]
  },
  {
   "cell_type": "code",
   "execution_count": 77,
   "id": "0d09ab25-0b83-4da1-953a-0ea3e8551344",
   "metadata": {},
   "outputs": [
    {
     "name": "stdout",
     "output_type": "stream",
     "text": [
      "{'b': 9, 'r': 0, 'z': 0}\n"
     ]
    }
   ],
   "source": [
    "perres_filter = perconv_SN(difwave, spec,difivar,mask, ncon = 5)\n",
    "print(perres_filter)"
   ]
  },
  {
   "cell_type": "code",
   "execution_count": 75,
   "id": "08d0d817-5f2f-4c48-a45a-8f9348f19eab",
   "metadata": {},
   "outputs": [],
   "source": [
    "linelogic = any(numpy.array(list(perres_filter.values())) >= 9)"
   ]
  },
  {
   "cell_type": "code",
   "execution_count": 76,
   "id": "e4473e5a-f945-4774-b71d-a17c654863a4",
   "metadata": {},
   "outputs": [
    {
     "name": "stdout",
     "output_type": "stream",
     "text": [
      "True\n"
     ]
    }
   ],
   "source": [
    "print(linelogic)"
   ]
  },
  {
   "cell_type": "code",
   "execution_count": 68,
   "id": "5ddd0994-4bdc-4d78-ab66-ac9586835625",
   "metadata": {},
   "outputs": [
    {
     "name": "stderr",
     "output_type": "stream",
     "text": [
      "/global/u2/d/divij18/timedomain/desidiff/src/ContinuumFitFilter_desidiff.py:91: RuntimeWarning: divide by zero encountered in true_divide\n",
      "  HBsigma = 1/np.sqrt(HBivar)\n",
      "/global/u2/d/divij18/timedomain/desidiff/src/ContinuumFitFilter_desidiff.py:100: RuntimeWarning: divide by zero encountered in true_divide\n",
      "  Hasigma = 1/np.sqrt(Haivar)\n",
      "/global/common/software/desi/cori/desiconda/20200801-1.4.0-spec/conda/lib/python3.8/site-packages/scipy/optimize/minpack.py:828: OptimizeWarning: Covariance of the parameters could not be estimated\n",
      "  warnings.warn('Covariance of the parameters could not be estimated',\n"
     ]
    }
   ],
   "source": [
    "linetable = line_finder(difwave, spec,difivar,mask,0)"
   ]
  },
  {
   "cell_type": "code",
   "execution_count": 69,
   "id": "d3f47f49-fa1e-4d48-876a-eeecec989af7",
   "metadata": {},
   "outputs": [
    {
     "name": "stdout",
     "output_type": "stream",
     "text": [
      "       Line  Wavelength      Height  e_Height         Mean    e_Mean  \\\n",
      "0    Halpha        6562  279.592071  0.296349  6561.856408  0.006766   \n",
      "1     Hbeta        4861  196.997313       inf  4851.980049       inf   \n",
      "2    Hgamma        4340    1.000000  1.000000     1.000000  1.000000   \n",
      "3  HeII4686        4686    7.568739       inf  4935.936692       inf   \n",
      "4  OIII5007        5007  226.103672       inf  5006.962602       inf   \n",
      "5      NIII        4100    1.000000  1.000000     1.000000  1.000000   \n",
      "6       SII        6732  268.478325  0.006766  6732.062675  0.006356   \n",
      "7  OIII4959        4959   -1.971310       inf  4958.851698       inf   \n",
      "\n",
      "        Sigma   e_Sigma       Velocity  Chi Square  \n",
      "0    5.619814  0.006356     603.055570  170.897898  \n",
      "1    5.082626       inf     737.617501   11.218564  \n",
      "2    1.000000  1.000000  704145.000000    0.009802  \n",
      "3  114.156255       inf   16285.167611   11.218564  \n",
      "4    5.040135       inf     708.810152   11.218564  \n",
      "5    1.000000  1.000000  704145.000000    0.009802  \n",
      "6    5.652232  0.294022     591.199336  170.897898  \n",
      "7    0.007077       inf       1.004971   11.218564  \n"
     ]
    }
   ],
   "source": [
    "print(linetable)"
   ]
  },
  {
   "cell_type": "code",
   "execution_count": 70,
   "id": "6bf13175-59a6-432f-98af-f89f8460b68a",
   "metadata": {},
   "outputs": [],
   "source": [
    "Hline_score = Hline_filter(linetable)"
   ]
  },
  {
   "cell_type": "code",
   "execution_count": 71,
   "id": "d19c16ae-dbda-4f27-8e30-15d207a5f5d4",
   "metadata": {},
   "outputs": [
    {
     "name": "stdout",
     "output_type": "stream",
     "text": [
      "0\n"
     ]
    }
   ],
   "source": [
    "print(Hline_score)"
   ]
  },
  {
   "cell_type": "code",
   "execution_count": null,
   "id": "6ababf9c-9534-479d-b390-8bae6806e884",
   "metadata": {},
   "outputs": [],
   "source": []
  }
 ],
 "metadata": {
  "kernelspec": {
   "display_name": "DESI master",
   "language": "python",
   "name": "desi-master"
  },
  "language_info": {
   "codemirror_mode": {
    "name": "ipython",
    "version": 3
   },
   "file_extension": ".py",
   "mimetype": "text/x-python",
   "name": "python",
   "nbconvert_exporter": "python",
   "pygments_lexer": "ipython3",
   "version": "3.8.3"
  }
 },
 "nbformat": 4,
 "nbformat_minor": 5
}
